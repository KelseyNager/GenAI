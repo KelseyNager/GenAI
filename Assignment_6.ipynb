{
  "nbformat": 4,
  "nbformat_minor": 0,
  "metadata": {
    "colab": {
      "provenance": [],
      "authorship_tag": "ABX9TyPdtKMlfx5g0vN8GDKo0r4w",
      "include_colab_link": true
    },
    "kernelspec": {
      "name": "python3",
      "display_name": "Python 3"
    },
    "language_info": {
      "name": "python"
    }
  },
  "cells": [
    {
      "cell_type": "markdown",
      "metadata": {
        "id": "view-in-github",
        "colab_type": "text"
      },
      "source": [
        "<a href=\"https://colab.research.google.com/github/KelseyNager/GenAI/blob/main/Assignment_6.ipynb\" target=\"_parent\"><img src=\"https://colab.research.google.com/assets/colab-badge.svg\" alt=\"Open In Colab\"/></a>"
      ]
    },
    {
      "cell_type": "markdown",
      "source": [
        "#Music Generation with Transformers\n",
        "##Kelsey Nager\n",
        "##CSC 330\n",
        "\n",
        "####The purpose of this code is to generate classical piano music in the style of Tchaikovsky. I will build and train a transformer on piano pieces of the composer Tchaikovsky. The goal is for the model to generate lines of music that are similar to the music of the composer."
      ],
      "metadata": {
        "id": "NnOx8--UTA6N"
      }
    },
    {
      "cell_type": "code",
      "execution_count": 1,
      "metadata": {
        "colab": {
          "base_uri": "https://localhost:8080/"
        },
        "id": "P4uRxa_6S79r",
        "outputId": "ce8abf88-0e3b-4e42-eaf2-4ee1ad3756ad"
      },
      "outputs": [
        {
          "output_type": "stream",
          "name": "stdout",
          "text": [
            "Reading package lists... Done\n",
            "Building dependency tree... Done\n",
            "Reading state information... Done\n",
            "The following additional packages will be installed:\n",
            "  desktop-file-utils fonts-freefont-ttf libevdev2 libgudev-1.0-0 libinput-bin libinput10 libmd4c0\n",
            "  libmtdev1 libportaudio2 libportmidi0 libqt5core5a libqt5dbus5 libqt5gui5 libqt5help5\n",
            "  libqt5network5 libqt5printsupport5 libqt5qml5 libqt5qmlmodels5 libqt5qmlworkerscript5\n",
            "  libqt5quick5 libqt5sql5 libqt5sql5-sqlite libqt5svg5 libqt5widgets5 libqt5xml5 libqt5xmlpatterns5\n",
            "  libwacom-bin libwacom-common libwacom9 libxcb-icccm4 libxcb-image0 libxcb-keysyms1\n",
            "  libxcb-render-util0 libxcb-util1 libxcb-xinerama0 libxcb-xinput0 libxcb-xkb1 libxkbcommon-x11-0\n",
            "  musescore-common musescore-general-soundfont-small qml-module-qt-labs-folderlistmodel\n",
            "  qml-module-qt-labs-settings qml-module-qtgraphicaleffects qml-module-qtqml\n",
            "  qml-module-qtqml-models2 qml-module-qtquick-controls qml-module-qtquick-dialogs\n",
            "  qml-module-qtquick-layouts qml-module-qtquick-privatewidgets qml-module-qtquick-window2\n",
            "  qml-module-qtquick2 qt5-gtk-platformtheme qttranslations5-l10n\n",
            "Suggested packages:\n",
            "  qt5-image-formats-plugins qtwayland5 qt5-qmltooling-plugins pulseaudio-utils\n",
            "The following NEW packages will be installed:\n",
            "  desktop-file-utils fonts-freefont-ttf libevdev2 libgudev-1.0-0 libinput-bin libinput10 libmd4c0\n",
            "  libmtdev1 libportaudio2 libportmidi0 libqt5core5a libqt5dbus5 libqt5gui5 libqt5help5\n",
            "  libqt5network5 libqt5printsupport5 libqt5qml5 libqt5qmlmodels5 libqt5qmlworkerscript5\n",
            "  libqt5quick5 libqt5sql5 libqt5sql5-sqlite libqt5svg5 libqt5widgets5 libqt5xml5 libqt5xmlpatterns5\n",
            "  libwacom-bin libwacom-common libwacom9 libxcb-icccm4 libxcb-image0 libxcb-keysyms1\n",
            "  libxcb-render-util0 libxcb-util1 libxcb-xinerama0 libxcb-xinput0 libxcb-xkb1 libxkbcommon-x11-0\n",
            "  musescore musescore-common musescore-general-soundfont-small qml-module-qt-labs-folderlistmodel\n",
            "  qml-module-qt-labs-settings qml-module-qtgraphicaleffects qml-module-qtqml\n",
            "  qml-module-qtqml-models2 qml-module-qtquick-controls qml-module-qtquick-dialogs\n",
            "  qml-module-qtquick-layouts qml-module-qtquick-privatewidgets qml-module-qtquick-window2\n",
            "  qml-module-qtquick2 qt5-gtk-platformtheme qttranslations5-l10n\n",
            "0 upgraded, 54 newly installed, 0 to remove and 49 not upgraded.\n",
            "Need to get 63.2 MB of archives.\n",
            "After this operation, 162 MB of additional disk space will be used.\n",
            "Get:1 http://archive.ubuntu.com/ubuntu jammy-updates/universe amd64 libqt5core5a amd64 5.15.3+dfsg-2ubuntu0.2 [2,006 kB]\n",
            "Get:2 http://archive.ubuntu.com/ubuntu jammy/main amd64 libevdev2 amd64 1.12.1+dfsg-1 [39.5 kB]\n",
            "Get:3 http://archive.ubuntu.com/ubuntu jammy/main amd64 libmtdev1 amd64 1.1.6-1build4 [14.5 kB]\n",
            "Get:4 http://archive.ubuntu.com/ubuntu jammy/main amd64 libgudev-1.0-0 amd64 1:237-2build1 [16.3 kB]\n",
            "Get:5 http://archive.ubuntu.com/ubuntu jammy/main amd64 libwacom-common all 2.2.0-1 [54.3 kB]\n",
            "Get:6 http://archive.ubuntu.com/ubuntu jammy/main amd64 libwacom9 amd64 2.2.0-1 [22.0 kB]\n",
            "Get:7 http://archive.ubuntu.com/ubuntu jammy-updates/main amd64 libinput-bin amd64 1.20.0-1ubuntu0.3 [19.9 kB]\n",
            "Get:8 http://archive.ubuntu.com/ubuntu jammy-updates/main amd64 libinput10 amd64 1.20.0-1ubuntu0.3 [131 kB]\n",
            "Get:9 http://archive.ubuntu.com/ubuntu jammy/universe amd64 libmd4c0 amd64 0.4.8-1 [42.0 kB]\n",
            "Get:10 http://archive.ubuntu.com/ubuntu jammy-updates/universe amd64 libqt5dbus5 amd64 5.15.3+dfsg-2ubuntu0.2 [222 kB]\n",
            "Get:11 http://archive.ubuntu.com/ubuntu jammy-updates/universe amd64 libqt5network5 amd64 5.15.3+dfsg-2ubuntu0.2 [731 kB]\n",
            "Get:12 http://archive.ubuntu.com/ubuntu jammy/main amd64 libxcb-icccm4 amd64 0.4.1-1.1build2 [11.5 kB]\n",
            "Get:13 http://archive.ubuntu.com/ubuntu jammy/main amd64 libxcb-util1 amd64 0.4.0-1build2 [11.4 kB]\n",
            "Get:14 http://archive.ubuntu.com/ubuntu jammy/main amd64 libxcb-image0 amd64 0.4.0-2 [11.5 kB]\n",
            "Get:15 http://archive.ubuntu.com/ubuntu jammy/main amd64 libxcb-keysyms1 amd64 0.4.0-1build3 [8,746 B]\n",
            "Get:16 http://archive.ubuntu.com/ubuntu jammy/main amd64 libxcb-render-util0 amd64 0.3.9-1build3 [10.3 kB]\n",
            "Get:17 http://archive.ubuntu.com/ubuntu jammy/main amd64 libxcb-xinerama0 amd64 1.14-3ubuntu3 [5,414 B]\n",
            "Get:18 http://archive.ubuntu.com/ubuntu jammy/main amd64 libxcb-xinput0 amd64 1.14-3ubuntu3 [34.3 kB]\n",
            "Get:19 http://archive.ubuntu.com/ubuntu jammy/main amd64 libxcb-xkb1 amd64 1.14-3ubuntu3 [32.8 kB]\n",
            "Get:20 http://archive.ubuntu.com/ubuntu jammy/main amd64 libxkbcommon-x11-0 amd64 1.4.0-1 [14.4 kB]\n",
            "Get:21 http://archive.ubuntu.com/ubuntu jammy-updates/universe amd64 libqt5gui5 amd64 5.15.3+dfsg-2ubuntu0.2 [3,722 kB]\n",
            "Get:22 http://archive.ubuntu.com/ubuntu jammy-updates/universe amd64 libqt5widgets5 amd64 5.15.3+dfsg-2ubuntu0.2 [2,561 kB]\n",
            "Get:23 http://archive.ubuntu.com/ubuntu jammy/universe amd64 libqt5svg5 amd64 5.15.3-1 [149 kB]\n",
            "Get:24 http://archive.ubuntu.com/ubuntu jammy/universe amd64 libqt5qml5 amd64 5.15.3+dfsg-1 [1,472 kB]\n",
            "Get:25 http://archive.ubuntu.com/ubuntu jammy/universe amd64 libqt5qmlmodels5 amd64 5.15.3+dfsg-1 [205 kB]\n",
            "Get:26 http://archive.ubuntu.com/ubuntu jammy/universe amd64 libqt5quick5 amd64 5.15.3+dfsg-1 [1,748 kB]\n",
            "Get:27 http://archive.ubuntu.com/ubuntu jammy/universe amd64 qml-module-qtquick-window2 amd64 5.15.3+dfsg-1 [26.3 kB]\n",
            "Get:28 http://archive.ubuntu.com/ubuntu jammy/universe amd64 libqt5qmlworkerscript5 amd64 5.15.3+dfsg-1 [34.4 kB]\n",
            "Get:29 http://archive.ubuntu.com/ubuntu jammy/universe amd64 qml-module-qtquick2 amd64 5.15.3+dfsg-1 [33.7 kB]\n",
            "Get:30 http://archive.ubuntu.com/ubuntu jammy/universe amd64 qml-module-qtgraphicaleffects amd64 5.15.3-1 [74.3 kB]\n",
            "Get:31 http://archive.ubuntu.com/ubuntu jammy/universe amd64 qml-module-qtqml amd64 5.15.3+dfsg-1 [17.2 kB]\n",
            "Get:32 http://archive.ubuntu.com/ubuntu jammy/universe amd64 qml-module-qtqml-models2 amd64 5.15.3+dfsg-1 [18.0 kB]\n",
            "Get:33 http://archive.ubuntu.com/ubuntu jammy/universe amd64 qml-module-qtquick-layouts amd64 5.15.3+dfsg-1 [56.0 kB]\n",
            "Get:34 http://archive.ubuntu.com/ubuntu jammy/universe amd64 qml-module-qtquick-controls amd64 5.15.3-1 [577 kB]\n",
            "Get:35 http://archive.ubuntu.com/ubuntu jammy/main amd64 desktop-file-utils amd64 0.26-1ubuntu3 [55.9 kB]\n",
            "Get:36 http://archive.ubuntu.com/ubuntu jammy/main amd64 fonts-freefont-ttf all 20120503-10build1 [2,388 kB]\n",
            "Get:37 http://archive.ubuntu.com/ubuntu jammy/universe amd64 libportaudio2 amd64 19.6.0-1.1 [65.3 kB]\n",
            "Get:38 http://archive.ubuntu.com/ubuntu jammy/universe amd64 libportmidi0 amd64 1:217-6 [17.8 kB]\n",
            "Get:39 http://archive.ubuntu.com/ubuntu jammy-updates/universe amd64 libqt5sql5 amd64 5.15.3+dfsg-2ubuntu0.2 [123 kB]\n",
            "Get:40 http://archive.ubuntu.com/ubuntu jammy/universe amd64 libqt5help5 amd64 5.15.3-1 [162 kB]\n",
            "Get:41 http://archive.ubuntu.com/ubuntu jammy-updates/universe amd64 libqt5printsupport5 amd64 5.15.3+dfsg-2ubuntu0.2 [214 kB]\n",
            "Get:42 http://archive.ubuntu.com/ubuntu jammy-updates/universe amd64 libqt5sql5-sqlite amd64 5.15.3+dfsg-2ubuntu0.2 [53.0 kB]\n",
            "Get:43 http://archive.ubuntu.com/ubuntu jammy-updates/universe amd64 libqt5xml5 amd64 5.15.3+dfsg-2ubuntu0.2 [124 kB]\n",
            "Get:44 http://archive.ubuntu.com/ubuntu jammy/universe amd64 libqt5xmlpatterns5 amd64 5.15.3-1 [901 kB]\n",
            "Get:45 http://archive.ubuntu.com/ubuntu jammy/main amd64 libwacom-bin amd64 2.2.0-1 [13.6 kB]\n",
            "Get:46 http://archive.ubuntu.com/ubuntu jammy/universe amd64 qml-module-qt-labs-folderlistmodel amd64 5.15.3+dfsg-1 [36.1 kB]\n",
            "Get:47 http://archive.ubuntu.com/ubuntu jammy/universe amd64 qml-module-qt-labs-settings amd64 5.15.3+dfsg-1 [26.5 kB]\n",
            "Get:48 http://archive.ubuntu.com/ubuntu jammy/universe amd64 qml-module-qtquick-privatewidgets amd64 5.15.3-1 [49.8 kB]\n",
            "Get:49 http://archive.ubuntu.com/ubuntu jammy/universe amd64 qml-module-qtquick-dialogs amd64 5.15.3-1 [132 kB]\n",
            "Get:50 http://archive.ubuntu.com/ubuntu jammy/universe amd64 musescore-general-soundfont-small all 0.2.1-1 [34.1 MB]\n",
            "Get:51 http://archive.ubuntu.com/ubuntu jammy/universe amd64 musescore-common all 2.3.2+dfsg4-15 [3,332 kB]\n",
            "Get:52 http://archive.ubuntu.com/ubuntu jammy/universe amd64 musescore amd64 2.3.2+dfsg4-15 [5,195 kB]\n",
            "Get:53 http://archive.ubuntu.com/ubuntu jammy-updates/universe amd64 qt5-gtk-platformtheme amd64 5.15.3+dfsg-2ubuntu0.2 [130 kB]\n",
            "Get:54 http://archive.ubuntu.com/ubuntu jammy/universe amd64 qttranslations5-l10n all 5.15.3-1 [1,983 kB]\n",
            "Fetched 63.2 MB in 5s (12.1 MB/s)\n",
            "Extracting templates from packages: 100%\n",
            "Selecting previously unselected package libqt5core5a:amd64.\n",
            "(Reading database ... 123632 files and directories currently installed.)\n",
            "Preparing to unpack .../00-libqt5core5a_5.15.3+dfsg-2ubuntu0.2_amd64.deb ...\n",
            "Unpacking libqt5core5a:amd64 (5.15.3+dfsg-2ubuntu0.2) ...\n",
            "Selecting previously unselected package libevdev2:amd64.\n",
            "Preparing to unpack .../01-libevdev2_1.12.1+dfsg-1_amd64.deb ...\n",
            "Unpacking libevdev2:amd64 (1.12.1+dfsg-1) ...\n",
            "Selecting previously unselected package libmtdev1:amd64.\n",
            "Preparing to unpack .../02-libmtdev1_1.1.6-1build4_amd64.deb ...\n",
            "Unpacking libmtdev1:amd64 (1.1.6-1build4) ...\n",
            "Selecting previously unselected package libgudev-1.0-0:amd64.\n",
            "Preparing to unpack .../03-libgudev-1.0-0_1%3a237-2build1_amd64.deb ...\n",
            "Unpacking libgudev-1.0-0:amd64 (1:237-2build1) ...\n",
            "Selecting previously unselected package libwacom-common.\n",
            "Preparing to unpack .../04-libwacom-common_2.2.0-1_all.deb ...\n",
            "Unpacking libwacom-common (2.2.0-1) ...\n",
            "Selecting previously unselected package libwacom9:amd64.\n",
            "Preparing to unpack .../05-libwacom9_2.2.0-1_amd64.deb ...\n",
            "Unpacking libwacom9:amd64 (2.2.0-1) ...\n",
            "Selecting previously unselected package libinput-bin.\n",
            "Preparing to unpack .../06-libinput-bin_1.20.0-1ubuntu0.3_amd64.deb ...\n",
            "Unpacking libinput-bin (1.20.0-1ubuntu0.3) ...\n",
            "Selecting previously unselected package libinput10:amd64.\n",
            "Preparing to unpack .../07-libinput10_1.20.0-1ubuntu0.3_amd64.deb ...\n",
            "Unpacking libinput10:amd64 (1.20.0-1ubuntu0.3) ...\n",
            "Selecting previously unselected package libmd4c0:amd64.\n",
            "Preparing to unpack .../08-libmd4c0_0.4.8-1_amd64.deb ...\n",
            "Unpacking libmd4c0:amd64 (0.4.8-1) ...\n",
            "Selecting previously unselected package libqt5dbus5:amd64.\n",
            "Preparing to unpack .../09-libqt5dbus5_5.15.3+dfsg-2ubuntu0.2_amd64.deb ...\n",
            "Unpacking libqt5dbus5:amd64 (5.15.3+dfsg-2ubuntu0.2) ...\n",
            "Selecting previously unselected package libqt5network5:amd64.\n",
            "Preparing to unpack .../10-libqt5network5_5.15.3+dfsg-2ubuntu0.2_amd64.deb ...\n",
            "Unpacking libqt5network5:amd64 (5.15.3+dfsg-2ubuntu0.2) ...\n",
            "Selecting previously unselected package libxcb-icccm4:amd64.\n",
            "Preparing to unpack .../11-libxcb-icccm4_0.4.1-1.1build2_amd64.deb ...\n",
            "Unpacking libxcb-icccm4:amd64 (0.4.1-1.1build2) ...\n",
            "Selecting previously unselected package libxcb-util1:amd64.\n",
            "Preparing to unpack .../12-libxcb-util1_0.4.0-1build2_amd64.deb ...\n",
            "Unpacking libxcb-util1:amd64 (0.4.0-1build2) ...\n",
            "Selecting previously unselected package libxcb-image0:amd64.\n",
            "Preparing to unpack .../13-libxcb-image0_0.4.0-2_amd64.deb ...\n",
            "Unpacking libxcb-image0:amd64 (0.4.0-2) ...\n",
            "Selecting previously unselected package libxcb-keysyms1:amd64.\n",
            "Preparing to unpack .../14-libxcb-keysyms1_0.4.0-1build3_amd64.deb ...\n",
            "Unpacking libxcb-keysyms1:amd64 (0.4.0-1build3) ...\n",
            "Selecting previously unselected package libxcb-render-util0:amd64.\n",
            "Preparing to unpack .../15-libxcb-render-util0_0.3.9-1build3_amd64.deb ...\n",
            "Unpacking libxcb-render-util0:amd64 (0.3.9-1build3) ...\n",
            "Selecting previously unselected package libxcb-xinerama0:amd64.\n",
            "Preparing to unpack .../16-libxcb-xinerama0_1.14-3ubuntu3_amd64.deb ...\n",
            "Unpacking libxcb-xinerama0:amd64 (1.14-3ubuntu3) ...\n",
            "Selecting previously unselected package libxcb-xinput0:amd64.\n",
            "Preparing to unpack .../17-libxcb-xinput0_1.14-3ubuntu3_amd64.deb ...\n",
            "Unpacking libxcb-xinput0:amd64 (1.14-3ubuntu3) ...\n",
            "Selecting previously unselected package libxcb-xkb1:amd64.\n",
            "Preparing to unpack .../18-libxcb-xkb1_1.14-3ubuntu3_amd64.deb ...\n",
            "Unpacking libxcb-xkb1:amd64 (1.14-3ubuntu3) ...\n",
            "Selecting previously unselected package libxkbcommon-x11-0:amd64.\n",
            "Preparing to unpack .../19-libxkbcommon-x11-0_1.4.0-1_amd64.deb ...\n",
            "Unpacking libxkbcommon-x11-0:amd64 (1.4.0-1) ...\n",
            "Selecting previously unselected package libqt5gui5:amd64.\n",
            "Preparing to unpack .../20-libqt5gui5_5.15.3+dfsg-2ubuntu0.2_amd64.deb ...\n",
            "Unpacking libqt5gui5:amd64 (5.15.3+dfsg-2ubuntu0.2) ...\n",
            "Selecting previously unselected package libqt5widgets5:amd64.\n",
            "Preparing to unpack .../21-libqt5widgets5_5.15.3+dfsg-2ubuntu0.2_amd64.deb ...\n",
            "Unpacking libqt5widgets5:amd64 (5.15.3+dfsg-2ubuntu0.2) ...\n",
            "Selecting previously unselected package libqt5svg5:amd64.\n",
            "Preparing to unpack .../22-libqt5svg5_5.15.3-1_amd64.deb ...\n",
            "Unpacking libqt5svg5:amd64 (5.15.3-1) ...\n",
            "Selecting previously unselected package libqt5qml5:amd64.\n",
            "Preparing to unpack .../23-libqt5qml5_5.15.3+dfsg-1_amd64.deb ...\n",
            "Unpacking libqt5qml5:amd64 (5.15.3+dfsg-1) ...\n",
            "Selecting previously unselected package libqt5qmlmodels5:amd64.\n",
            "Preparing to unpack .../24-libqt5qmlmodels5_5.15.3+dfsg-1_amd64.deb ...\n",
            "Unpacking libqt5qmlmodels5:amd64 (5.15.3+dfsg-1) ...\n",
            "Selecting previously unselected package libqt5quick5:amd64.\n",
            "Preparing to unpack .../25-libqt5quick5_5.15.3+dfsg-1_amd64.deb ...\n",
            "Unpacking libqt5quick5:amd64 (5.15.3+dfsg-1) ...\n",
            "Selecting previously unselected package qml-module-qtquick-window2:amd64.\n",
            "Preparing to unpack .../26-qml-module-qtquick-window2_5.15.3+dfsg-1_amd64.deb ...\n",
            "Unpacking qml-module-qtquick-window2:amd64 (5.15.3+dfsg-1) ...\n",
            "Selecting previously unselected package libqt5qmlworkerscript5:amd64.\n",
            "Preparing to unpack .../27-libqt5qmlworkerscript5_5.15.3+dfsg-1_amd64.deb ...\n",
            "Unpacking libqt5qmlworkerscript5:amd64 (5.15.3+dfsg-1) ...\n",
            "Selecting previously unselected package qml-module-qtquick2:amd64.\n",
            "Preparing to unpack .../28-qml-module-qtquick2_5.15.3+dfsg-1_amd64.deb ...\n",
            "Unpacking qml-module-qtquick2:amd64 (5.15.3+dfsg-1) ...\n",
            "Selecting previously unselected package qml-module-qtgraphicaleffects:amd64.\n",
            "Preparing to unpack .../29-qml-module-qtgraphicaleffects_5.15.3-1_amd64.deb ...\n",
            "Unpacking qml-module-qtgraphicaleffects:amd64 (5.15.3-1) ...\n",
            "Selecting previously unselected package qml-module-qtqml:amd64.\n",
            "Preparing to unpack .../30-qml-module-qtqml_5.15.3+dfsg-1_amd64.deb ...\n",
            "Unpacking qml-module-qtqml:amd64 (5.15.3+dfsg-1) ...\n",
            "Selecting previously unselected package qml-module-qtqml-models2:amd64.\n",
            "Preparing to unpack .../31-qml-module-qtqml-models2_5.15.3+dfsg-1_amd64.deb ...\n",
            "Unpacking qml-module-qtqml-models2:amd64 (5.15.3+dfsg-1) ...\n",
            "Selecting previously unselected package qml-module-qtquick-layouts:amd64.\n",
            "Preparing to unpack .../32-qml-module-qtquick-layouts_5.15.3+dfsg-1_amd64.deb ...\n",
            "Unpacking qml-module-qtquick-layouts:amd64 (5.15.3+dfsg-1) ...\n",
            "Selecting previously unselected package qml-module-qtquick-controls:amd64.\n",
            "Preparing to unpack .../33-qml-module-qtquick-controls_5.15.3-1_amd64.deb ...\n",
            "Unpacking qml-module-qtquick-controls:amd64 (5.15.3-1) ...\n",
            "Selecting previously unselected package desktop-file-utils.\n",
            "Preparing to unpack .../34-desktop-file-utils_0.26-1ubuntu3_amd64.deb ...\n",
            "Unpacking desktop-file-utils (0.26-1ubuntu3) ...\n",
            "Selecting previously unselected package fonts-freefont-ttf.\n",
            "Preparing to unpack .../35-fonts-freefont-ttf_20120503-10build1_all.deb ...\n",
            "Unpacking fonts-freefont-ttf (20120503-10build1) ...\n",
            "Selecting previously unselected package libportaudio2:amd64.\n",
            "Preparing to unpack .../36-libportaudio2_19.6.0-1.1_amd64.deb ...\n",
            "Unpacking libportaudio2:amd64 (19.6.0-1.1) ...\n",
            "Selecting previously unselected package libportmidi0:amd64.\n",
            "Preparing to unpack .../37-libportmidi0_1%3a217-6_amd64.deb ...\n",
            "Unpacking libportmidi0:amd64 (1:217-6) ...\n",
            "Selecting previously unselected package libqt5sql5:amd64.\n",
            "Preparing to unpack .../38-libqt5sql5_5.15.3+dfsg-2ubuntu0.2_amd64.deb ...\n",
            "Unpacking libqt5sql5:amd64 (5.15.3+dfsg-2ubuntu0.2) ...\n",
            "Selecting previously unselected package libqt5help5:amd64.\n",
            "Preparing to unpack .../39-libqt5help5_5.15.3-1_amd64.deb ...\n",
            "Unpacking libqt5help5:amd64 (5.15.3-1) ...\n",
            "Selecting previously unselected package libqt5printsupport5:amd64.\n",
            "Preparing to unpack .../40-libqt5printsupport5_5.15.3+dfsg-2ubuntu0.2_amd64.deb ...\n",
            "Unpacking libqt5printsupport5:amd64 (5.15.3+dfsg-2ubuntu0.2) ...\n",
            "Selecting previously unselected package libqt5sql5-sqlite:amd64.\n",
            "Preparing to unpack .../41-libqt5sql5-sqlite_5.15.3+dfsg-2ubuntu0.2_amd64.deb ...\n",
            "Unpacking libqt5sql5-sqlite:amd64 (5.15.3+dfsg-2ubuntu0.2) ...\n",
            "Selecting previously unselected package libqt5xml5:amd64.\n",
            "Preparing to unpack .../42-libqt5xml5_5.15.3+dfsg-2ubuntu0.2_amd64.deb ...\n",
            "Unpacking libqt5xml5:amd64 (5.15.3+dfsg-2ubuntu0.2) ...\n",
            "Selecting previously unselected package libqt5xmlpatterns5:amd64.\n",
            "Preparing to unpack .../43-libqt5xmlpatterns5_5.15.3-1_amd64.deb ...\n",
            "Unpacking libqt5xmlpatterns5:amd64 (5.15.3-1) ...\n",
            "Selecting previously unselected package libwacom-bin.\n",
            "Preparing to unpack .../44-libwacom-bin_2.2.0-1_amd64.deb ...\n",
            "Unpacking libwacom-bin (2.2.0-1) ...\n",
            "Selecting previously unselected package qml-module-qt-labs-folderlistmodel:amd64.\n",
            "Preparing to unpack .../45-qml-module-qt-labs-folderlistmodel_5.15.3+dfsg-1_amd64.deb ...\n",
            "Unpacking qml-module-qt-labs-folderlistmodel:amd64 (5.15.3+dfsg-1) ...\n",
            "Selecting previously unselected package qml-module-qt-labs-settings:amd64.\n",
            "Preparing to unpack .../46-qml-module-qt-labs-settings_5.15.3+dfsg-1_amd64.deb ...\n",
            "Unpacking qml-module-qt-labs-settings:amd64 (5.15.3+dfsg-1) ...\n",
            "Selecting previously unselected package qml-module-qtquick-privatewidgets:amd64.\n",
            "Preparing to unpack .../47-qml-module-qtquick-privatewidgets_5.15.3-1_amd64.deb ...\n",
            "Unpacking qml-module-qtquick-privatewidgets:amd64 (5.15.3-1) ...\n",
            "Selecting previously unselected package qml-module-qtquick-dialogs:amd64.\n",
            "Preparing to unpack .../48-qml-module-qtquick-dialogs_5.15.3-1_amd64.deb ...\n",
            "Unpacking qml-module-qtquick-dialogs:amd64 (5.15.3-1) ...\n",
            "Selecting previously unselected package musescore-general-soundfont-small.\n",
            "Preparing to unpack .../49-musescore-general-soundfont-small_0.2.1-1_all.deb ...\n",
            "Unpacking musescore-general-soundfont-small (0.2.1-1) ...\n",
            "Selecting previously unselected package musescore-common.\n",
            "Preparing to unpack .../50-musescore-common_2.3.2+dfsg4-15_all.deb ...\n",
            "Unpacking musescore-common (2.3.2+dfsg4-15) ...\n",
            "Selecting previously unselected package musescore.\n",
            "Preparing to unpack .../51-musescore_2.3.2+dfsg4-15_amd64.deb ...\n",
            "Unpacking musescore (2.3.2+dfsg4-15) ...\n",
            "Selecting previously unselected package qt5-gtk-platformtheme:amd64.\n",
            "Preparing to unpack .../52-qt5-gtk-platformtheme_5.15.3+dfsg-2ubuntu0.2_amd64.deb ...\n",
            "Unpacking qt5-gtk-platformtheme:amd64 (5.15.3+dfsg-2ubuntu0.2) ...\n",
            "Selecting previously unselected package qttranslations5-l10n.\n",
            "Preparing to unpack .../53-qttranslations5-l10n_5.15.3-1_all.deb ...\n",
            "Unpacking qttranslations5-l10n (5.15.3-1) ...\n",
            "Setting up libportaudio2:amd64 (19.6.0-1.1) ...\n",
            "Setting up desktop-file-utils (0.26-1ubuntu3) ...\n",
            "Setting up libxcb-xinput0:amd64 (1.14-3ubuntu3) ...\n",
            "Setting up libxcb-keysyms1:amd64 (0.4.0-1build3) ...\n",
            "Setting up fonts-freefont-ttf (20120503-10build1) ...\n",
            "Setting up libxcb-render-util0:amd64 (0.3.9-1build3) ...\n",
            "Setting up libxcb-icccm4:amd64 (0.4.1-1.1build2) ...\n",
            "Setting up musescore-general-soundfont-small (0.2.1-1) ...\n",
            "update-alternatives: using /usr/share/sounds/sf3/MuseScore_General_Lite.sf3 to provide /usr/share/sounds/sf3/default-GM.sf3 (default-GM.sf3) in auto mode\n",
            "update-alternatives: using /usr/share/sounds/sf3/MuseScore_General_Lite.sf3 to provide /usr/share/sounds/sf3/MuseScore_General.sf3 (MuseScore_General.sf3) in auto mode\n",
            "Setting up libxcb-util1:amd64 (0.4.0-1build2) ...\n",
            "Setting up libxcb-xkb1:amd64 (1.14-3ubuntu3) ...\n",
            "Setting up libxcb-image0:amd64 (0.4.0-2) ...\n",
            "Setting up musescore-common (2.3.2+dfsg4-15) ...\n",
            "Setting up libxcb-xinerama0:amd64 (1.14-3ubuntu3) ...\n",
            "Setting up qttranslations5-l10n (5.15.3-1) ...\n",
            "Setting up libportmidi0:amd64 (1:217-6) ...\n",
            "Setting up libxkbcommon-x11-0:amd64 (1.4.0-1) ...\n",
            "Setting up libqt5core5a:amd64 (5.15.3+dfsg-2ubuntu0.2) ...\n",
            "Setting up libmtdev1:amd64 (1.1.6-1build4) ...\n",
            "Setting up libqt5dbus5:amd64 (5.15.3+dfsg-2ubuntu0.2) ...\n",
            "Setting up libmd4c0:amd64 (0.4.8-1) ...\n",
            "Setting up libevdev2:amd64 (1.12.1+dfsg-1) ...\n",
            "Setting up libgudev-1.0-0:amd64 (1:237-2build1) ...\n",
            "Setting up libwacom-common (2.2.0-1) ...\n",
            "Setting up libwacom9:amd64 (2.2.0-1) ...\n",
            "Setting up libqt5network5:amd64 (5.15.3+dfsg-2ubuntu0.2) ...\n",
            "Setting up libinput-bin (1.20.0-1ubuntu0.3) ...\n",
            "Setting up libqt5sql5:amd64 (5.15.3+dfsg-2ubuntu0.2) ...\n",
            "Setting up libqt5xml5:amd64 (5.15.3+dfsg-2ubuntu0.2) ...\n",
            "Setting up libqt5qml5:amd64 (5.15.3+dfsg-1) ...\n",
            "Setting up libwacom-bin (2.2.0-1) ...\n",
            "Setting up libinput10:amd64 (1.20.0-1ubuntu0.3) ...\n",
            "Setting up libqt5qmlmodels5:amd64 (5.15.3+dfsg-1) ...\n",
            "Setting up libqt5sql5-sqlite:amd64 (5.15.3+dfsg-2ubuntu0.2) ...\n",
            "Setting up qml-module-qtqml:amd64 (5.15.3+dfsg-1) ...\n",
            "Setting up libqt5xmlpatterns5:amd64 (5.15.3-1) ...\n",
            "Setting up libqt5gui5:amd64 (5.15.3+dfsg-2ubuntu0.2) ...\n",
            "Setting up libqt5widgets5:amd64 (5.15.3+dfsg-2ubuntu0.2) ...\n",
            "Setting up libqt5help5:amd64 (5.15.3-1) ...\n",
            "Setting up qt5-gtk-platformtheme:amd64 (5.15.3+dfsg-2ubuntu0.2) ...\n",
            "Setting up qml-module-qt-labs-folderlistmodel:amd64 (5.15.3+dfsg-1) ...\n",
            "Setting up libqt5qmlworkerscript5:amd64 (5.15.3+dfsg-1) ...\n",
            "Setting up qml-module-qt-labs-settings:amd64 (5.15.3+dfsg-1) ...\n",
            "Setting up libqt5printsupport5:amd64 (5.15.3+dfsg-2ubuntu0.2) ...\n",
            "Setting up qml-module-qtqml-models2:amd64 (5.15.3+dfsg-1) ...\n",
            "Setting up libqt5quick5:amd64 (5.15.3+dfsg-1) ...\n",
            "Setting up libqt5svg5:amd64 (5.15.3-1) ...\n",
            "Setting up qml-module-qtquick-window2:amd64 (5.15.3+dfsg-1) ...\n",
            "Setting up qml-module-qtquick-layouts:amd64 (5.15.3+dfsg-1) ...\n",
            "Setting up qml-module-qtquick2:amd64 (5.15.3+dfsg-1) ...\n",
            "Setting up qml-module-qtquick-privatewidgets:amd64 (5.15.3-1) ...\n",
            "Setting up qml-module-qtgraphicaleffects:amd64 (5.15.3-1) ...\n",
            "Setting up qml-module-qtquick-dialogs:amd64 (5.15.3-1) ...\n",
            "Setting up qml-module-qtquick-controls:amd64 (5.15.3-1) ...\n",
            "Setting up musescore (2.3.2+dfsg4-15) ...\n",
            "Processing triggers for hicolor-icon-theme (0.17-2) ...\n",
            "Processing triggers for libc-bin (2.35-0ubuntu3.4) ...\n",
            "/sbin/ldconfig.real: /usr/local/lib/libumf.so.0 is not a symbolic link\n",
            "\n",
            "/sbin/ldconfig.real: /usr/local/lib/libtbbbind.so.3 is not a symbolic link\n",
            "\n",
            "/sbin/ldconfig.real: /usr/local/lib/libtcm.so.1 is not a symbolic link\n",
            "\n",
            "/sbin/ldconfig.real: /usr/local/lib/libur_loader.so.0 is not a symbolic link\n",
            "\n",
            "/sbin/ldconfig.real: /usr/local/lib/libtcm_debug.so.1 is not a symbolic link\n",
            "\n",
            "/sbin/ldconfig.real: /usr/local/lib/libtbbbind_2_5.so.3 is not a symbolic link\n",
            "\n",
            "/sbin/ldconfig.real: /usr/local/lib/libtbbbind_2_0.so.3 is not a symbolic link\n",
            "\n",
            "/sbin/ldconfig.real: /usr/local/lib/libur_adapter_level_zero.so.0 is not a symbolic link\n",
            "\n",
            "/sbin/ldconfig.real: /usr/local/lib/libtbbmalloc_proxy.so.2 is not a symbolic link\n",
            "\n",
            "/sbin/ldconfig.real: /usr/local/lib/libtbbmalloc.so.2 is not a symbolic link\n",
            "\n",
            "/sbin/ldconfig.real: /usr/local/lib/libtbb.so.12 is not a symbolic link\n",
            "\n",
            "/sbin/ldconfig.real: /usr/local/lib/libur_adapter_opencl.so.0 is not a symbolic link\n",
            "\n",
            "/sbin/ldconfig.real: /usr/local/lib/libhwloc.so.15 is not a symbolic link\n",
            "\n",
            "Processing triggers for man-db (2.10.2-1) ...\n",
            "Processing triggers for shared-mime-info (2.1-2) ...\n",
            "Processing triggers for fontconfig (2.13.1-4.2ubuntu5) ...\n",
            "Reading package lists... Done\n",
            "Building dependency tree... Done\n",
            "Reading state information... Done\n",
            "E: Unable to locate package music21\n",
            "Reading package lists... Done\n",
            "Building dependency tree... Done\n",
            "Reading state information... Done\n",
            "The following additional packages will be installed:\n",
            "  fluid-soundfont-gm libfluidsynth3 libinstpatch-1.0-2 qsynth\n",
            "Suggested packages:\n",
            "  fluid-soundfont-gs jackd\n",
            "The following NEW packages will be installed:\n",
            "  fluid-soundfont-gm fluidsynth libfluidsynth3 libinstpatch-1.0-2 qsynth\n",
            "0 upgraded, 5 newly installed, 0 to remove and 49 not upgraded.\n",
            "Need to get 130 MB of archives.\n",
            "After this operation, 151 MB of additional disk space will be used.\n",
            "Get:1 http://archive.ubuntu.com/ubuntu jammy/universe amd64 fluid-soundfont-gm all 3.1-5.3 [130 MB]\n",
            "Get:2 http://archive.ubuntu.com/ubuntu jammy/universe amd64 libinstpatch-1.0-2 amd64 1.1.6-1 [240 kB]\n",
            "Get:3 http://archive.ubuntu.com/ubuntu jammy/universe amd64 libfluidsynth3 amd64 2.2.5-1 [246 kB]\n",
            "Get:4 http://archive.ubuntu.com/ubuntu jammy/universe amd64 fluidsynth amd64 2.2.5-1 [27.4 kB]\n",
            "Get:5 http://archive.ubuntu.com/ubuntu jammy/universe amd64 qsynth amd64 0.9.6-1 [305 kB]\n",
            "Fetched 130 MB in 12s (11.0 MB/s)\n",
            "Selecting previously unselected package fluid-soundfont-gm.\n",
            "(Reading database ... 125643 files and directories currently installed.)\n",
            "Preparing to unpack .../fluid-soundfont-gm_3.1-5.3_all.deb ...\n",
            "Unpacking fluid-soundfont-gm (3.1-5.3) ...\n",
            "Selecting previously unselected package libinstpatch-1.0-2:amd64.\n",
            "Preparing to unpack .../libinstpatch-1.0-2_1.1.6-1_amd64.deb ...\n",
            "Unpacking libinstpatch-1.0-2:amd64 (1.1.6-1) ...\n",
            "Selecting previously unselected package libfluidsynth3:amd64.\n",
            "Preparing to unpack .../libfluidsynth3_2.2.5-1_amd64.deb ...\n",
            "Unpacking libfluidsynth3:amd64 (2.2.5-1) ...\n",
            "Selecting previously unselected package fluidsynth.\n",
            "Preparing to unpack .../fluidsynth_2.2.5-1_amd64.deb ...\n",
            "Unpacking fluidsynth (2.2.5-1) ...\n",
            "Selecting previously unselected package qsynth.\n",
            "Preparing to unpack .../qsynth_0.9.6-1_amd64.deb ...\n",
            "Unpacking qsynth (0.9.6-1) ...\n",
            "Setting up fluid-soundfont-gm (3.1-5.3) ...\n",
            "update-alternatives: using /usr/share/sounds/sf2/FluidR3_GM.sf2 to provide /usr/share/sounds/sf2/default-GM.sf2 (default-GM.sf2) in auto mode\n",
            "Setting up libinstpatch-1.0-2:amd64 (1.1.6-1) ...\n",
            "Setting up libfluidsynth3:amd64 (2.2.5-1) ...\n",
            "Setting up qsynth (0.9.6-1) ...\n",
            "Setting up fluidsynth (2.2.5-1) ...\n",
            "Created symlink /etc/systemd/user/default.target.wants/fluidsynth.service → /usr/lib/systemd/user/fluidsynth.service.\n",
            "Processing triggers for hicolor-icon-theme (0.17-2) ...\n",
            "Processing triggers for libc-bin (2.35-0ubuntu3.4) ...\n",
            "/sbin/ldconfig.real: /usr/local/lib/libumf.so.0 is not a symbolic link\n",
            "\n",
            "/sbin/ldconfig.real: /usr/local/lib/libtbbbind.so.3 is not a symbolic link\n",
            "\n",
            "/sbin/ldconfig.real: /usr/local/lib/libtcm.so.1 is not a symbolic link\n",
            "\n",
            "/sbin/ldconfig.real: /usr/local/lib/libur_loader.so.0 is not a symbolic link\n",
            "\n",
            "/sbin/ldconfig.real: /usr/local/lib/libtcm_debug.so.1 is not a symbolic link\n",
            "\n",
            "/sbin/ldconfig.real: /usr/local/lib/libtbbbind_2_5.so.3 is not a symbolic link\n",
            "\n",
            "/sbin/ldconfig.real: /usr/local/lib/libtbbbind_2_0.so.3 is not a symbolic link\n",
            "\n",
            "/sbin/ldconfig.real: /usr/local/lib/libur_adapter_level_zero.so.0 is not a symbolic link\n",
            "\n",
            "/sbin/ldconfig.real: /usr/local/lib/libtbbmalloc_proxy.so.2 is not a symbolic link\n",
            "\n",
            "/sbin/ldconfig.real: /usr/local/lib/libtbbmalloc.so.2 is not a symbolic link\n",
            "\n",
            "/sbin/ldconfig.real: /usr/local/lib/libtbb.so.12 is not a symbolic link\n",
            "\n",
            "/sbin/ldconfig.real: /usr/local/lib/libur_adapter_opencl.so.0 is not a symbolic link\n",
            "\n",
            "/sbin/ldconfig.real: /usr/local/lib/libhwloc.so.15 is not a symbolic link\n",
            "\n",
            "Processing triggers for man-db (2.10.2-1) ...\n",
            "Processing triggers for desktop-file-utils (0.26-1ubuntu3) ...\n"
          ]
        }
      ],
      "source": [
        "!apt-get install musescore\n",
        "!apt-get install music21\n",
        "!apt-get install fluidsynth"
      ]
    },
    {
      "cell_type": "code",
      "source": [
        "%%writefile transformer_utils.py\n",
        "import music21"
      ],
      "metadata": {
        "colab": {
          "base_uri": "https://localhost:8080/"
        },
        "id": "mza-MWSSdtTP",
        "outputId": "916031f2-7a3a-4392-e1b3-cf28ebff8a96"
      },
      "execution_count": 2,
      "outputs": [
        {
          "output_type": "stream",
          "name": "stdout",
          "text": [
            "Writing transformer_utils.py\n"
          ]
        }
      ]
    },
    {
      "cell_type": "code",
      "source": [
        "!pip install music21"
      ],
      "metadata": {
        "colab": {
          "base_uri": "https://localhost:8080/"
        },
        "id": "h59g6RnMSLa7",
        "outputId": "8d32af35-ae8c-40b2-ca95-00ef3be3bec3"
      },
      "execution_count": 3,
      "outputs": [
        {
          "output_type": "stream",
          "name": "stdout",
          "text": [
            "Requirement already satisfied: music21 in /usr/local/lib/python3.10/dist-packages (9.3.0)\n",
            "Requirement already satisfied: chardet in /usr/local/lib/python3.10/dist-packages (from music21) (5.2.0)\n",
            "Requirement already satisfied: joblib in /usr/local/lib/python3.10/dist-packages (from music21) (1.4.2)\n",
            "Requirement already satisfied: jsonpickle in /usr/local/lib/python3.10/dist-packages (from music21) (4.0.0)\n",
            "Requirement already satisfied: matplotlib in /usr/local/lib/python3.10/dist-packages (from music21) (3.8.0)\n",
            "Requirement already satisfied: more-itertools in /usr/local/lib/python3.10/dist-packages (from music21) (10.5.0)\n",
            "Requirement already satisfied: numpy in /usr/local/lib/python3.10/dist-packages (from music21) (1.26.4)\n",
            "Requirement already satisfied: requests in /usr/local/lib/python3.10/dist-packages (from music21) (2.32.3)\n",
            "Requirement already satisfied: webcolors>=1.5 in /usr/local/lib/python3.10/dist-packages (from music21) (24.11.1)\n",
            "Requirement already satisfied: contourpy>=1.0.1 in /usr/local/lib/python3.10/dist-packages (from matplotlib->music21) (1.3.1)\n",
            "Requirement already satisfied: cycler>=0.10 in /usr/local/lib/python3.10/dist-packages (from matplotlib->music21) (0.12.1)\n",
            "Requirement already satisfied: fonttools>=4.22.0 in /usr/local/lib/python3.10/dist-packages (from matplotlib->music21) (4.55.1)\n",
            "Requirement already satisfied: kiwisolver>=1.0.1 in /usr/local/lib/python3.10/dist-packages (from matplotlib->music21) (1.4.7)\n",
            "Requirement already satisfied: packaging>=20.0 in /usr/local/lib/python3.10/dist-packages (from matplotlib->music21) (24.2)\n",
            "Requirement already satisfied: pillow>=6.2.0 in /usr/local/lib/python3.10/dist-packages (from matplotlib->music21) (11.0.0)\n",
            "Requirement already satisfied: pyparsing>=2.3.1 in /usr/local/lib/python3.10/dist-packages (from matplotlib->music21) (3.2.0)\n",
            "Requirement already satisfied: python-dateutil>=2.7 in /usr/local/lib/python3.10/dist-packages (from matplotlib->music21) (2.8.2)\n",
            "Requirement already satisfied: charset-normalizer<4,>=2 in /usr/local/lib/python3.10/dist-packages (from requests->music21) (3.4.0)\n",
            "Requirement already satisfied: idna<4,>=2.5 in /usr/local/lib/python3.10/dist-packages (from requests->music21) (3.10)\n",
            "Requirement already satisfied: urllib3<3,>=1.21.1 in /usr/local/lib/python3.10/dist-packages (from requests->music21) (2.2.3)\n",
            "Requirement already satisfied: certifi>=2017.4.17 in /usr/local/lib/python3.10/dist-packages (from requests->music21) (2024.8.30)\n",
            "Requirement already satisfied: six>=1.5 in /usr/local/lib/python3.10/dist-packages (from python-dateutil>=2.7->matplotlib->music21) (1.16.0)\n"
          ]
        }
      ]
    },
    {
      "cell_type": "code",
      "source": [
        "%load_ext autoreload\n",
        "%autoreload 2\n",
        "\n",
        "import os\n",
        "import glob\n",
        "import numpy as np\n",
        "import time\n",
        "import matplotlib.pyplot as plt\n",
        "\n",
        "import tensorflow as tf\n",
        "from tensorflow.keras import layers, models, losses, callbacks\n",
        "\n",
        "import pickle\n",
        "import music21\n",
        "import keras\n",
        "\n",
        "from fractions import Fraction\n"
      ],
      "metadata": {
        "id": "u03AD6g3TDnZ"
      },
      "execution_count": 4,
      "outputs": []
    },
    {
      "cell_type": "markdown",
      "source": [
        "#Parameters"
      ],
      "metadata": {
        "id": "uEH9ltc2WCJS"
      }
    },
    {
      "cell_type": "code",
      "source": [
        "PARSE_MIDI_FILES = True\n",
        "PARSED_DATA_PATH = \"/content/data/\"\n",
        "DATASET_REPETITIONS = 1\n",
        "\n",
        "SEQ_LEN = 64  # Sequence length\n",
        "EMBEDDING_DIM = 256\n",
        "KEY_DIM = 256\n",
        "N_HEADS = 4\n",
        "DROPOUT_RATE = 0.3\n",
        "FEED_FORWARD_DIM = 256\n",
        "LOAD_MODEL = False\n",
        "\n",
        "# optimization\n",
        "EPOCHS = 100\n",
        "BATCH_SIZE = 64\n",
        "\n",
        "GENERATE_LEN = 50"
      ],
      "metadata": {
        "id": "5dyLaY9zTH17"
      },
      "execution_count": 5,
      "outputs": []
    },
    {
      "cell_type": "code",
      "source": [
        "def parse_midi_files(file_list, parser, seq_len, parsed_data_path=None):\n",
        "    os.makedirs(parsed_data_path, exist_ok=True)\n",
        "\n",
        "    notes_list = []\n",
        "    duration_list = []\n",
        "    notes = []\n",
        "    durations = []\n",
        "\n",
        "    for i, file in enumerate(file_list):\n",
        "        print(i + 1, \"Parsing %s\" % file)\n",
        "        score = parser.parse(file).chordify()\n",
        "\n",
        "        notes.append(\"START\")\n",
        "        durations.append(\"0.0\")\n",
        "\n",
        "        for element in score.flat:\n",
        "            note_name = None\n",
        "            duration_name = None\n",
        "\n",
        "            if isinstance(element, music21.key.Key):\n",
        "                note_name = str(element.tonic.name) + \":\" + str(element.mode)\n",
        "                duration_name = \"0.0\"\n",
        "\n",
        "            elif isinstance(element, music21.meter.TimeSignature):\n",
        "                note_name = str(element.ratioString) + \"TS\"\n",
        "                duration_name = \"0.0\"\n",
        "\n",
        "            elif isinstance(element, music21.chord.Chord):\n",
        "                note_name = element.pitches[-1].nameWithOctave\n",
        "                duration_name = str(element.duration.quarterLength)\n",
        "\n",
        "            elif isinstance(element, music21.note.Rest):\n",
        "                note_name = str(element.name)\n",
        "                duration_name = str(element.duration.quarterLength)\n",
        "\n",
        "            elif isinstance(element, music21.note.Note):\n",
        "                note_name = str(element.nameWithOctave)\n",
        "                duration_name = str(element.duration.quarterLength)\n",
        "\n",
        "            if note_name and duration_name:\n",
        "                notes.append(note_name)\n",
        "                durations.append(duration_name)\n",
        "        print(f\"{len(notes)} notes parsed\")\n",
        "\n",
        "    notes_list = []\n",
        "    duration_list = []\n",
        "    print(f\"Building sequences of length {seq_len}\")\n",
        "    for i in range(len(notes) - seq_len):\n",
        "        notes_list.append(\" \".join(notes[i : (i + seq_len)]))\n",
        "        duration_list.append(\" \".join(durations[i : (i + seq_len)]))\n",
        "\n",
        "    if parsed_data_path:\n",
        "        with open(os.path.join(parsed_data_path, \"notes\"), \"wb\") as f:\n",
        "            pickle.dump(notes_list, f)\n",
        "        with open(os.path.join(parsed_data_path, \"durations\"), \"wb\") as f:\n",
        "            pickle.dump(duration_list, f)\n",
        "\n",
        "    return notes_list, duration_list"
      ],
      "metadata": {
        "id": "5s_O583-bpey"
      },
      "execution_count": 6,
      "outputs": []
    },
    {
      "cell_type": "code",
      "source": [
        "def load_parsed_files(parsed_data_path):\n",
        "    with open(os.path.join(parsed_data_path, \"notes\"), \"rb\") as f:\n",
        "        notes = pickle.load(f)\n",
        "    with open(os.path.join(parsed_data_path, \"durations\"), \"rb\") as f:\n",
        "        durations = pickle.load(f)\n",
        "    return notes, durations\n"
      ],
      "metadata": {
        "id": "y79pq0lhbyEn"
      },
      "execution_count": 7,
      "outputs": []
    },
    {
      "cell_type": "code",
      "source": [
        "def get_midi_note(sample_note, sample_duration):\n",
        "    new_note = None\n",
        "\n",
        "    if \"TS\" in sample_note:\n",
        "        new_note = music21.meter.TimeSignature(sample_note.split(\"TS\")[0])\n",
        "\n",
        "    elif \"major\" in sample_note or \"minor\" in sample_note:\n",
        "        tonic, mode = sample_note.split(\":\")\n",
        "        new_note = music21.key.Key(tonic, mode)\n",
        "\n",
        "    elif sample_note == \"rest\":\n",
        "        new_note = music21.note.Rest()\n",
        "        new_note.duration = music21.duration.Duration(\n",
        "            float(Fraction(sample_duration))\n",
        "        )\n",
        "        new_note.storedInstrument = music21.instrument.Violoncello()\n",
        "\n",
        "    elif \".\" in sample_note:\n",
        "        notes_in_chord = sample_note.split(\".\")\n",
        "        chord_notes = []\n",
        "        for current_note in notes_in_chord:\n",
        "            n = music21.note.Note(current_note)\n",
        "            n.duration = music21.duration.Duration(\n",
        "                float(Fraction(sample_duration))\n",
        "            )\n",
        "            n.storedInstrument = music21.instrument.Violoncello()\n",
        "            chord_notes.append(n)\n",
        "        new_note = music21.chord.Chord(chord_notes)\n",
        "\n",
        "    elif sample_note == \"rest\":\n",
        "        new_note = music21.note.Rest()\n",
        "        new_note.duration = music21.duration.Duration(\n",
        "            float(Fraction(sample_duration))\n",
        "        )\n",
        "        new_note.storedInstrument = music21.instrument.Violoncello()\n",
        "\n",
        "    elif sample_note != \"START\":\n",
        "        new_note = music21.note.Note(sample_note)\n",
        "        new_note.duration = music21.duration.Duration(\n",
        "            float(Fraction(sample_duration))\n",
        "        )\n",
        "        new_note.storedInstrument = music21.instrument.Violoncello()\n",
        "\n",
        "    return new_note\n"
      ],
      "metadata": {
        "id": "ymET1aaZb1Z-"
      },
      "execution_count": 8,
      "outputs": []
    },
    {
      "cell_type": "code",
      "source": [
        "class SinePositionEncoding(keras.layers.Layer):\n",
        "    \"\"\"Sinusoidal positional encoding layer.\n",
        "    This layer calculates the position encoding as a mix of sine and cosine\n",
        "    functions with geometrically increasing wavelengths. Defined and formulized\n",
        "    in [Attention is All You Need](https://arxiv.org/abs/1706.03762).\n",
        "    Takes as input an embedded token tensor. The input must have shape\n",
        "    [batch_size, sequence_length, feature_size]. This layer will return a\n",
        "    positional encoding the same size as the embedded token tensor, which\n",
        "    can be added directly to the embedded token tensor.\n",
        "    Args:\n",
        "        max_wavelength: The maximum angular wavelength of the sine/cosine\n",
        "            curves, as described in Attention is All You Need. Defaults to\n",
        "            10000.\n",
        "    Examples:\n",
        "    ```python\n",
        "    # create a simple embedding layer with sinusoidal positional encoding\n",
        "    seq_len = 100\n",
        "    vocab_size = 1000\n",
        "    embedding_dim = 32\n",
        "    inputs = keras.Input((seq_len,), dtype=tf.float32)\n",
        "    embedding = keras.layers.Embedding(\n",
        "        input_dim=vocab_size, output_dim=embedding_dim\n",
        "    )(inputs)\n",
        "    positional_encoding = keras_nlp.layers.SinePositionEncoding()(embedding)\n",
        "    outputs = embedding + positional_encoding\n",
        "    ```\n",
        "    References:\n",
        "     - [Vaswani et al., 2017](https://arxiv.org/abs/1706.03762)\n",
        "    \"\"\"\n",
        "\n",
        "    def __init__(\n",
        "        self,\n",
        "        max_wavelength=10000,\n",
        "        **kwargs,\n",
        "    ):\n",
        "        super().__init__(**kwargs)\n",
        "        self.max_wavelength = max_wavelength\n",
        "\n",
        "    def call(self, inputs):\n",
        "        # TODO(jbischof): replace `hidden_size` with`hidden_dim` for consistency\n",
        "        # with other layers.\n",
        "        input_shape = tf.shape(inputs)\n",
        "        # length of sequence is the second last dimension of the inputs\n",
        "        seq_length = input_shape[-2]\n",
        "        hidden_size = input_shape[-1]\n",
        "        position = tf.cast(tf.range(seq_length), self.compute_dtype)\n",
        "        min_freq = tf.cast(1 / self.max_wavelength, dtype=self.compute_dtype)\n",
        "        timescales = tf.pow(\n",
        "            min_freq,\n",
        "            tf.cast(2 * (tf.range(hidden_size) // 2), self.compute_dtype)\n",
        "            / tf.cast(hidden_size, self.compute_dtype),\n",
        "        )\n",
        "        angles = tf.expand_dims(position, 1) * tf.expand_dims(timescales, 0)\n",
        "        # even indices are sine, odd are cosine\n",
        "        cos_mask = tf.cast(tf.range(hidden_size) % 2, self.compute_dtype)\n",
        "        sin_mask = 1 - cos_mask\n",
        "        # embedding shape is [seq_length, hidden_size]\n",
        "        positional_encodings = (\n",
        "            tf.sin(angles) * sin_mask + tf.cos(angles) * cos_mask\n",
        "        )\n",
        "\n",
        "        return tf.broadcast_to(positional_encodings, input_shape)\n",
        "\n",
        "    def get_config(self):\n",
        "        config = super().get_config()\n",
        "        config.update(\n",
        "            {\n",
        "                \"max_wavelength\": self.max_wavelength,\n",
        "            }\n",
        "        )\n",
        "        return config"
      ],
      "metadata": {
        "id": "u22sfK0cb2E0"
      },
      "execution_count": 9,
      "outputs": []
    },
    {
      "cell_type": "markdown",
      "source": [
        "Prepare the Data"
      ],
      "metadata": {
        "id": "8GPofyNNWEfG"
      }
    },
    {
      "cell_type": "code",
      "source": [
        "# Load the data\n",
        "from google.colab import drive\n",
        "drive.mount('/content/drive')\n",
        "\n",
        "\n",
        "import glob\n",
        "tchai_folder_path = '/content/drive/MyDrive/tchai/**/*.mid' # For files with .mid extension\n",
        "tchai_folder_path2 = '/content/drive/MyDrive/tchai/**/*.midi' # For files with .midi extension\n",
        "\n",
        "file_list_mid = glob.glob(tchai_folder_path, recursive=True)\n",
        "file_list_midi = glob.glob(tchai_folder_path2, recursive=True)\n",
        "\n",
        "file_list = file_list_mid + file_list_midi\n",
        "\n",
        "print(f\"Found {len(file_list)} midi files\")"
      ],
      "metadata": {
        "id": "Ae58eI6-TIfd",
        "colab": {
          "base_uri": "https://localhost:8080/"
        },
        "outputId": "e37d6832-875e-4744-ed25-951d46809541"
      },
      "execution_count": 10,
      "outputs": [
        {
          "output_type": "stream",
          "name": "stdout",
          "text": [
            "Mounted at /content/drive\n",
            "Found 23 midi files\n"
          ]
        }
      ]
    },
    {
      "cell_type": "code",
      "source": [
        "parser = music21.converter"
      ],
      "metadata": {
        "id": "q9mcrSoFTIjU"
      },
      "execution_count": 11,
      "outputs": []
    },
    {
      "cell_type": "code",
      "source": [
        "example_score = (\n",
        "    music21.converter.parse(file_list[1]).splitAtQuarterLength(12)[0].chordify()\n",
        ")"
      ],
      "metadata": {
        "id": "maKvjPVATPjW"
      },
      "execution_count": 12,
      "outputs": []
    },
    {
      "cell_type": "code",
      "source": [
        "example_score.show(\"text\")"
      ],
      "metadata": {
        "id": "VRgqHpJhTPqY",
        "colab": {
          "base_uri": "https://localhost:8080/"
        },
        "outputId": "dfa326ec-8bf3-4047-edf4-3fc9bbd1bf40"
      },
      "execution_count": 13,
      "outputs": [
        {
          "output_type": "stream",
          "name": "stdout",
          "text": [
            "{0.0} <music21.metadata.Metadata object at 0x79efd8fc2290>\n",
            "{0.0} <music21.stream.Measure 1 offset=0.0>\n",
            "    {0.0} <music21.instrument.Flute 'Flute'>\n",
            "    {0.0} <music21.instrument.Flute 'Flute'>\n",
            "    {0.0} <music21.instrument.Flute 'Flute'>\n",
            "    {0.0} <music21.instrument.Flute '3 Flutes: 3 Flutes'>\n",
            "    {0.0} <music21.clef.TrebleClef>\n",
            "    {0.0} <music21.tempo.MetronomeMark larghetto Quarter=62>\n",
            "    {0.0} <music21.key.Key of G major>\n",
            "    {0.0} <music21.meter.TimeSignature 2/4>\n",
            "    {0.0} <music21.chord.Chord E2 E3>\n",
            "    {0.5} <music21.chord.Chord G3 B3 E4>\n",
            "    {1.0} <music21.chord.Chord E2 E3>\n",
            "    {1.5} <music21.chord.Chord A3 C4 F#4>\n",
            "{2.0} <music21.stream.Measure 2 offset=2.0>\n",
            "    {0.0} <music21.chord.Chord E2 E3>\n",
            "    {0.5} <music21.chord.Chord B-3 C#4 G4>\n",
            "    {1.0} <music21.chord.Chord E2 E3>\n",
            "    {1.5} <music21.chord.Chord A3 C4 E-4>\n",
            "{4.0} <music21.stream.Measure 3 offset=4.0>\n",
            "    {0.0} <music21.chord.Chord E2 E3>\n",
            "    {0.5} <music21.chord.Chord G3 B3 E4>\n",
            "    {1.0} <music21.chord.Chord E2 E3>\n",
            "    {1.5} <music21.chord.Chord A3 C4 F#4>\n",
            "{6.0} <music21.stream.Measure 4 offset=6.0>\n",
            "    {0.0} <music21.chord.Chord E2 E3>\n",
            "    {0.5} <music21.chord.Chord B-3 C#4 G4>\n",
            "    {1.0} <music21.chord.Chord E2 E3>\n",
            "    {1.5} <music21.chord.Chord A3 C4 E-4>\n",
            "{8.0} <music21.stream.Measure 5 offset=8.0>\n",
            "    {0.0} <music21.chord.Chord E2 E3>\n",
            "    {0.5} <music21.chord.Chord G3 B3 E4 E6 B6 G7>\n",
            "    {0.75} <music21.chord.Chord G3 B3 E4 B5 G6 E7>\n",
            "    {1.0} <music21.chord.Chord E2 E3 E6 B6 G7>\n",
            "    {1.25} <music21.chord.Chord E2 E3>\n",
            "    {1.5} <music21.chord.Chord A3 C4 F#4 C6 E6 A6 F#7>\n",
            "    {1.75} <music21.chord.Chord A3 C4 F#4>\n",
            "{10.0} <music21.stream.Measure 6 offset=10.0>\n",
            "    {0.0} <music21.chord.Chord E2 E3 A5 C6 F#6 E-7>\n",
            "    {0.25} <music21.chord.Chord E2 E3>\n",
            "    {0.5} <music21.chord.Chord B-3 C#4 G4 B-5 C#6 G6 E7>\n",
            "    {0.75} <music21.chord.Chord B-3 C#4 G4>\n",
            "    {1.0} <music21.chord.Chord E2 E3 B5 F6 G#6 D7>\n",
            "    {1.25} <music21.chord.Chord E2 E3 B5 F6 G#6 D7>\n",
            "    {1.5} <music21.chord.Chord B3 D4 G#4 B5 F6 G#6 D7>\n",
            "    {1.75} <music21.chord.Chord B3 D4 G#4>\n"
          ]
        }
      ]
    },
    {
      "cell_type": "code",
      "source": [
        "if PARSE_MIDI_FILES:\n",
        "    notes, durations = parse_midi_files(\n",
        "        file_list, parser, SEQ_LEN + 1, PARSED_DATA_PATH\n",
        "    )\n",
        "else:\n",
        "    notes, durations = load_parsed_files()"
      ],
      "metadata": {
        "id": "JoWwe20FTSLd",
        "colab": {
          "base_uri": "https://localhost:8080/"
        },
        "outputId": "679984d5-5fce-44a7-a014-fb87edca9eab"
      },
      "execution_count": 14,
      "outputs": [
        {
          "output_type": "stream",
          "name": "stdout",
          "text": [
            "1 Parsing /content/drive/MyDrive/tchai/tchaikovsky_nutcracker_suite_overture_71a_1_(c)kirschbaum.mid\n"
          ]
        },
        {
          "output_type": "stream",
          "name": "stderr",
          "text": [
            "<ipython-input-14-04172d0f16ff>:2: Music21DeprecationWarning: .flat is deprecated.  Call .flatten() instead\n",
            "  notes, durations = parse_midi_files(\n"
          ]
        },
        {
          "output_type": "stream",
          "name": "stdout",
          "text": [
            "1310 notes parsed\n",
            "2 Parsing /content/drive/MyDrive/tchai/sugar-plum-fairy.mid\n",
            "1698 notes parsed\n",
            "3 Parsing /content/drive/MyDrive/tchai/tchaikovsky_nutcracker_act-1_0_overture_(c)yogore.mid\n",
            "3008 notes parsed\n",
            "4 Parsing /content/drive/MyDrive/tchai/nutcrkr1.mid\n",
            "4341 notes parsed\n",
            "5 Parsing /content/drive/MyDrive/tchai/Tchaikovsky_-_Waltz_The_Sleeping_Beauty_Full_Piano_Solo_Medium.mid\n",
            "6032 notes parsed\n",
            "6 Parsing /content/drive/MyDrive/tchai/tchai1.mid\n",
            "6485 notes parsed\n",
            "7 Parsing /content/drive/MyDrive/tchai/tchai2.mid\n",
            "11267 notes parsed\n",
            "8 Parsing /content/drive/MyDrive/tchai/tchai3.mid\n",
            "12774 notes parsed\n",
            "9 Parsing /content/drive/MyDrive/tchai/tchai4.mid\n",
            "13177 notes parsed\n",
            "10 Parsing /content/drive/MyDrive/tchai/tchai5.mid\n",
            "13796 notes parsed\n",
            "11 Parsing /content/drive/MyDrive/tchai/tchai6.mid\n",
            "17856 notes parsed\n",
            "12 Parsing /content/drive/MyDrive/tchai/tchai7.mid\n",
            "19997 notes parsed\n",
            "13 Parsing /content/drive/MyDrive/tchai/tchai8.mid\n",
            "21542 notes parsed\n",
            "14 Parsing /content/drive/MyDrive/tchai/[Free-scores.com]_tchaikovsky-piotr-ilitch-danse-e-draga-87881.midi\n",
            "22098 notes parsed\n",
            "15 Parsing /content/drive/MyDrive/tchai/[Free-scores.com]_tchaikovsky-piotr-ilitch-piano-sonata-c-sharp-minor-posth-2nd-movement-159463.midi\n",
            "22958 notes parsed\n",
            "16 Parsing /content/drive/MyDrive/tchai/[Free-scores.com]_tchaikovsky-piotr-ilitch-waltz-the-flowers-valse-des-fleurs-blumenwalzer-139022.midi\n",
            "23632 notes parsed\n",
            "17 Parsing /content/drive/MyDrive/tchai/[Free-scores.com]_tchaikovsky-piotr-ilitch-1812-overture-measure-349-end-8286.midi\n",
            "23915 notes parsed\n",
            "18 Parsing /content/drive/MyDrive/tchai/[Free-scores.com]_tchaikovsky-piotr-ilitch-the-seasons-january-9156.midi\n",
            "24707 notes parsed\n",
            "19 Parsing /content/drive/MyDrive/tchai/[Free-scores.com]_tchaikovsky-piotr-ilitch-the-seasons-august-harvest-time-3136.midi\n",
            "25720 notes parsed\n",
            "20 Parsing /content/drive/MyDrive/tchai/[Free-scores.com]_tchaikovsky-piotr-ilitch-the-seasons-february-carneval-10565.midi\n",
            "26577 notes parsed\n",
            "21 Parsing /content/drive/MyDrive/tchai/[Free-scores.com]_tchaikovsky-piotr-ilitch-nathalie-valse-166714.midi\n",
            "26883 notes parsed\n",
            "22 Parsing /content/drive/MyDrive/tchai/[Free-scores.com]_tchaikovsky-piotr-ilitch-the-seasons-706.midi\n"
          ]
        },
        {
          "output_type": "stream",
          "name": "stderr",
          "text": [
            "/usr/local/lib/python3.10/dist-packages/music21/midi/translate.py:874: TranslateWarning: Unable to determine instrument from <music21.midi.MidiEvent SEQUENCE_TRACK_NAME, track=0, channel=None, data=b'\\x8fH\\x82\\xcc\\x89\\xcc\\x81i\\x82P\\x82O\\x8c\\x8e\\x81j'>; getting generic Instrument\n",
            "  warnings.warn(\n"
          ]
        },
        {
          "output_type": "stream",
          "name": "stdout",
          "text": [
            "28070 notes parsed\n",
            "23 Parsing /content/drive/MyDrive/tchai/[Free-scores.com]_tchaikovsky-piotr-ilitch-the-seasons-707.midi\n"
          ]
        },
        {
          "output_type": "stream",
          "name": "stderr",
          "text": [
            "/usr/local/lib/python3.10/dist-packages/music21/midi/translate.py:874: TranslateWarning: Unable to determine instrument from <music21.midi.MidiEvent SEQUENCE_TRACK_NAME, track=0, channel=None, data=b'\\x83g\\x83\\x8d\\x83C\\x83J\\x81i11\\x8c\\x8e\\x81j'>; getting generic Instrument\n",
            "  warnings.warn(\n"
          ]
        },
        {
          "output_type": "stream",
          "name": "stdout",
          "text": [
            "29489 notes parsed\n",
            "Building sequences of length 65\n"
          ]
        }
      ]
    },
    {
      "cell_type": "code",
      "source": [
        "example_notes = notes[600]\n",
        "example_durations = durations[600]\n",
        "print(\"\\nNotes string\\n\", example_notes, \"...\")\n",
        "print(\"\\nDuration string\\n\", example_durations, \"...\")"
      ],
      "metadata": {
        "id": "iosjDc-lTSOF",
        "colab": {
          "base_uri": "https://localhost:8080/"
        },
        "outputId": "ffe25282-b11b-472f-cef7-765eebf68a5d"
      },
      "execution_count": 15,
      "outputs": [
        {
          "output_type": "stream",
          "name": "stdout",
          "text": [
            "\n",
            "Notes string\n",
            " G6 E6 G6 F6 F6 F6 G6 G6 G6 E6 G6 F6 F6 F6 G6 G6 G6 E6 G6 F6 F6 F6 D6 C6 B5 C6 B-5 A5 A5 A5 G5 F5 F5 F5 D5 C5 G5 F5 B-5 A5 D6 C6 F6 F6 E6 E6 F6 F6 rest B-5 rest E-6 rest D6 C6 C6 G6 rest F6 rest B-5 B-3 E-6 E-6 D6 ...\n",
            "\n",
            "Duration string\n",
            " 0.25 0.25 0.25 0.25 0.25 0.25 0.25 0.25 0.25 0.25 0.25 0.25 0.25 0.25 0.25 0.25 0.25 0.25 0.25 0.25 0.25 0.25 0.25 0.25 0.25 0.25 0.25 0.25 0.25 0.25 0.25 0.25 0.25 0.25 0.25 0.25 0.25 0.25 0.25 0.25 0.25 0.25 0.25 0.25 0.25 0.25 0.25 0.25 0.5 0.25 0.75 0.25 0.5 0.25 0.25 0.25 0.25 0.25 0.25 0.25 0.25 0.25 0.25 0.25 0.25 ...\n"
          ]
        }
      ]
    },
    {
      "cell_type": "markdown",
      "source": [
        "#Tokenize the Data"
      ],
      "metadata": {
        "id": "romtNIxzTY3Z"
      }
    },
    {
      "cell_type": "code",
      "source": [
        "def create_dataset(elements):\n",
        "    ds = (\n",
        "        tf.data.Dataset.from_tensor_slices(elements)\n",
        "        .batch(BATCH_SIZE, drop_remainder=True)\n",
        "        .shuffle(1000)\n",
        "    )\n",
        "    vectorize_layer = layers.TextVectorization(\n",
        "        standardize=None, output_mode=\"int\"\n",
        "    )\n",
        "    vectorize_layer.adapt(ds)\n",
        "    vocab = vectorize_layer.get_vocabulary()\n",
        "    return ds, vectorize_layer, vocab\n",
        "\n",
        "\n",
        "notes_seq_ds, notes_vectorize_layer, notes_vocab = create_dataset(notes)\n",
        "durations_seq_ds, durations_vectorize_layer, durations_vocab = create_dataset(\n",
        "    durations\n",
        ")\n",
        "seq_ds = tf.data.Dataset.zip((notes_seq_ds, durations_seq_ds))"
      ],
      "metadata": {
        "id": "2R3l069JUDj0"
      },
      "execution_count": 16,
      "outputs": []
    },
    {
      "cell_type": "code",
      "source": [
        "# Display the same example notes and durations converted to ints\n",
        "example_tokenised_notes = notes_vectorize_layer(example_notes)\n",
        "example_tokenised_durations = durations_vectorize_layer(example_durations)\n",
        "print(\"{:10} {:10}\".format(\"note token\", \"duration token\"))\n",
        "for i, (note_int, duration_int) in enumerate(\n",
        "    zip(\n",
        "        example_tokenised_notes.numpy()[:11],\n",
        "        example_tokenised_durations.numpy()[:11],\n",
        "    )\n",
        "):\n",
        "    print(f\"{note_int:10}{duration_int:10}\")"
      ],
      "metadata": {
        "id": "23oNOKb8TyiN",
        "colab": {
          "base_uri": "https://localhost:8080/"
        },
        "outputId": "bb6b99ed-fc6b-4363-a201-a8d1c19f6482"
      },
      "execution_count": 17,
      "outputs": [
        {
          "output_type": "stream",
          "name": "stdout",
          "text": [
            "note token duration token\n",
            "        26         2\n",
            "        23         2\n",
            "        26         2\n",
            "        21         2\n",
            "        21         2\n",
            "        21         2\n",
            "        26         2\n",
            "        26         2\n",
            "        26         2\n",
            "        23         2\n",
            "        26         2\n"
          ]
        }
      ]
    },
    {
      "cell_type": "code",
      "source": [
        "notes_vocab_size = len(notes_vocab)\n",
        "durations_vocab_size = len(durations_vocab)\n",
        "vocab = notes_vocab + durations_vocab\n",
        "vocab_size = len(vocab)\n",
        "\n",
        "# Display some token:note mappings\n",
        "print(f\"\\nNOTES_VOCAB: length = {len(notes_vocab)}\")\n",
        "for i, note in enumerate(notes_vocab[:10]):\n",
        "    print(f\"{i}: {note}\")\n",
        "\n",
        "print(f\"\\nDURATIONS_VOCAB: length = {len(durations_vocab)}\")\n",
        "# Display some token:duration mappings\n",
        "for i, note in enumerate(durations_vocab[:10]):\n",
        "    print(f\"{i}: {note}\")"
      ],
      "metadata": {
        "id": "4XucMytlT1bJ",
        "colab": {
          "base_uri": "https://localhost:8080/"
        },
        "outputId": "7fdcac83-e8a6-4bb0-ade9-890f5eea72b5"
      },
      "execution_count": 18,
      "outputs": [
        {
          "output_type": "stream",
          "name": "stdout",
          "text": [
            "\n",
            "NOTES_VOCAB: length = 98\n",
            "0: \n",
            "1: [UNK]\n",
            "2: rest\n",
            "3: D5\n",
            "4: E5\n",
            "5: F5\n",
            "6: A5\n",
            "7: C5\n",
            "8: G5\n",
            "9: A4\n",
            "\n",
            "DURATIONS_VOCAB: length = 38\n",
            "0: \n",
            "1: [UNK]\n",
            "2: 0.25\n",
            "3: 0.5\n",
            "4: 1/12\n",
            "5: 1/3\n",
            "6: 1.0\n",
            "7: 1/6\n",
            "8: 0.75\n",
            "9: 2/3\n"
          ]
        }
      ]
    },
    {
      "cell_type": "markdown",
      "source": [
        "#Training Set"
      ],
      "metadata": {
        "id": "tlfFYs51T2qg"
      }
    },
    {
      "cell_type": "code",
      "source": [
        "\n",
        "# Create the training set of sequences and the same sequences shifted by one note\n",
        "def prepare_inputs(notes, durations):\n",
        "    notes = tf.expand_dims(notes, -1)\n",
        "    durations = tf.expand_dims(durations, -1)\n",
        "    tokenized_notes = notes_vectorize_layer(notes)\n",
        "    tokenized_durations = durations_vectorize_layer(durations)\n",
        "    x = (tokenized_notes[:, :-1], tokenized_durations[:, :-1])\n",
        "    y = (tokenized_notes[:, 1:], tokenized_durations[:, 1:])\n",
        "    return x, y\n",
        "\n",
        "\n",
        "ds = seq_ds.map(prepare_inputs).repeat(DATASET_REPETITIONS)"
      ],
      "metadata": {
        "id": "J3CSXDzTT3tj"
      },
      "execution_count": 19,
      "outputs": []
    },
    {
      "cell_type": "code",
      "source": [
        "example_input_output = ds.take(1).get_single_element()\n",
        "print(example_input_output)"
      ],
      "metadata": {
        "id": "pOJ-OOjOT6bi",
        "colab": {
          "base_uri": "https://localhost:8080/"
        },
        "outputId": "d01a861a-6057-4b92-f999-80a64c031eb0"
      },
      "execution_count": 20,
      "outputs": [
        {
          "output_type": "stream",
          "name": "stdout",
          "text": [
            "((<tf.Tensor: shape=(64, 64), dtype=int64, numpy=\n",
            "array([[ 2,  4,  2, ..., 41,  2, 35],\n",
            "       [ 4,  2,  4, ...,  2, 35,  2],\n",
            "       [ 2,  4,  2, ..., 35,  2,  4],\n",
            "       ...,\n",
            "       [41,  2, 35, ...,  7,  7,  7],\n",
            "       [ 2, 35,  2, ...,  7,  7,  7],\n",
            "       [35,  2,  4, ...,  7,  7,  2]])>, <tf.Tensor: shape=(64, 64), dtype=int64, numpy=\n",
            "array([[2, 2, 2, ..., 2, 2, 2],\n",
            "       [2, 2, 2, ..., 2, 2, 2],\n",
            "       [2, 2, 2, ..., 2, 2, 2],\n",
            "       ...,\n",
            "       [2, 2, 2, ..., 2, 2, 2],\n",
            "       [2, 2, 2, ..., 2, 2, 2],\n",
            "       [2, 2, 2, ..., 2, 2, 2]])>), (<tf.Tensor: shape=(64, 64), dtype=int64, numpy=\n",
            "array([[ 4,  2,  4, ...,  2, 35,  2],\n",
            "       [ 2,  4,  2, ..., 35,  2,  4],\n",
            "       [ 4,  2,  5, ...,  2,  4,  4],\n",
            "       ...,\n",
            "       [ 2, 35,  2, ...,  7,  7,  7],\n",
            "       [35,  2,  4, ...,  7,  7,  2],\n",
            "       [ 2,  4,  4, ...,  7,  2, 20]])>, <tf.Tensor: shape=(64, 64), dtype=int64, numpy=\n",
            "array([[2, 2, 2, ..., 2, 2, 2],\n",
            "       [2, 2, 2, ..., 2, 2, 2],\n",
            "       [2, 2, 2, ..., 2, 2, 2],\n",
            "       ...,\n",
            "       [2, 2, 2, ..., 2, 2, 2],\n",
            "       [2, 2, 2, ..., 2, 2, 2],\n",
            "       [2, 2, 2, ..., 2, 2, 2]])>))\n"
          ]
        }
      ]
    },
    {
      "cell_type": "markdown",
      "source": [
        "#Create the causal attention mask function"
      ],
      "metadata": {
        "id": "JUThc9G7T8fg"
      }
    },
    {
      "cell_type": "code",
      "source": [
        "def causal_attention_mask(batch_size, n_dest, n_src, dtype):\n",
        "    i = tf.range(n_dest)[:, None]\n",
        "    j = tf.range(n_src)\n",
        "    m = i >= j - n_src + n_dest\n",
        "    mask = tf.cast(m, dtype)\n",
        "    mask = tf.reshape(mask, [1, n_dest, n_src])\n",
        "    mult = tf.concat(\n",
        "        [tf.expand_dims(batch_size, -1), tf.constant([1, 1], dtype=tf.int32)], 0\n",
        "    )\n",
        "    return tf.tile(mask, mult)\n",
        "\n",
        "\n",
        "np.transpose(causal_attention_mask(1, 10, 10, dtype=tf.int32)[0])"
      ],
      "metadata": {
        "id": "mH2_EYalT_1v",
        "colab": {
          "base_uri": "https://localhost:8080/"
        },
        "outputId": "fa04af11-aba8-4320-d69c-7f819a67f645"
      },
      "execution_count": 21,
      "outputs": [
        {
          "output_type": "execute_result",
          "data": {
            "text/plain": [
              "array([[1, 1, 1, 1, 1, 1, 1, 1, 1, 1],\n",
              "       [0, 1, 1, 1, 1, 1, 1, 1, 1, 1],\n",
              "       [0, 0, 1, 1, 1, 1, 1, 1, 1, 1],\n",
              "       [0, 0, 0, 1, 1, 1, 1, 1, 1, 1],\n",
              "       [0, 0, 0, 0, 1, 1, 1, 1, 1, 1],\n",
              "       [0, 0, 0, 0, 0, 1, 1, 1, 1, 1],\n",
              "       [0, 0, 0, 0, 0, 0, 1, 1, 1, 1],\n",
              "       [0, 0, 0, 0, 0, 0, 0, 1, 1, 1],\n",
              "       [0, 0, 0, 0, 0, 0, 0, 0, 1, 1],\n",
              "       [0, 0, 0, 0, 0, 0, 0, 0, 0, 1]], dtype=int32)"
            ]
          },
          "metadata": {},
          "execution_count": 21
        }
      ]
    },
    {
      "cell_type": "markdown",
      "source": [
        "#Create a Transformer Block Layer"
      ],
      "metadata": {
        "id": "Iq6PxMm0UB4l"
      }
    },
    {
      "cell_type": "code",
      "source": [
        "class TransformerBlock(layers.Layer):\n",
        "    def __init__(\n",
        "        self,\n",
        "        num_heads,\n",
        "        key_dim,\n",
        "        embed_dim,\n",
        "        ff_dim,\n",
        "        name,\n",
        "        dropout_rate=DROPOUT_RATE,\n",
        "    ):\n",
        "        super(TransformerBlock, self).__init__(name=name)\n",
        "        self.num_heads = num_heads\n",
        "        self.key_dim = key_dim\n",
        "        self.embed_dim = embed_dim\n",
        "        self.ff_dim = ff_dim\n",
        "        self.dropout_rate = dropout_rate\n",
        "        self.attn = layers.MultiHeadAttention(\n",
        "            num_heads, key_dim, output_shape=embed_dim\n",
        "        )\n",
        "        self.dropout_1 = layers.Dropout(self.dropout_rate)\n",
        "        self.ln_1 = layers.LayerNormalization(epsilon=1e-6)\n",
        "        self.ffn_1 = layers.Dense(self.ff_dim, activation=\"relu\")\n",
        "        self.ffn_2 = layers.Dense(self.embed_dim)\n",
        "        self.dropout_2 = layers.Dropout(self.dropout_rate)\n",
        "        self.ln_2 = layers.LayerNormalization(epsilon=1e-6)\n",
        "\n",
        "    def call(self, inputs):\n",
        "        input_shape = tf.shape(inputs)\n",
        "        batch_size = input_shape[0]\n",
        "        seq_len = input_shape[1]\n",
        "        causal_mask = causal_attention_mask(\n",
        "            batch_size, seq_len, seq_len, tf.bool\n",
        "        )\n",
        "        attention_output, attention_scores = self.attn(\n",
        "            inputs,\n",
        "            inputs,\n",
        "            attention_mask=causal_mask,\n",
        "            return_attention_scores=True,\n",
        "        )\n",
        "        attention_output = self.dropout_1(attention_output)\n",
        "        out1 = self.ln_1(inputs + attention_output)\n",
        "        ffn_1 = self.ffn_1(out1)\n",
        "        ffn_2 = self.ffn_2(ffn_1)\n",
        "        ffn_output = self.dropout_2(ffn_2)\n",
        "        return (self.ln_2(out1 + ffn_output), attention_scores)\n",
        "\n",
        "    def get_config(self):\n",
        "        config = super().get_config()\n",
        "        config.update(\n",
        "            {\n",
        "                \"key_dim\": self.key_dim,\n",
        "                \"embed_dim\": self.embed_dim,\n",
        "                \"num_heads\": self.num_heads,\n",
        "                \"ff_dim\": self.ff_dim,\n",
        "                \"dropout_rate\": self.dropout_rate,\n",
        "            }\n",
        "        )\n",
        "        return config"
      ],
      "metadata": {
        "id": "bCnFjmlZVv-q"
      },
      "execution_count": 22,
      "outputs": []
    },
    {
      "cell_type": "markdown",
      "source": [
        "#Create the Token and Position Embedding"
      ],
      "metadata": {
        "id": "i-0nkAUnUIO_"
      }
    },
    {
      "cell_type": "code",
      "source": [
        "class TokenAndPositionEmbedding(layers.Layer):\n",
        "    def __init__(self, vocab_size, embed_dim):\n",
        "        super(TokenAndPositionEmbedding, self).__init__()\n",
        "        self.vocab_size = vocab_size\n",
        "        self.embed_dim = embed_dim\n",
        "        self.token_emb = layers.Embedding(\n",
        "            input_dim=vocab_size,\n",
        "            output_dim=embed_dim,\n",
        "            embeddings_initializer=\"he_uniform\",\n",
        "        )\n",
        "        self.pos_emb = SinePositionEncoding()\n",
        "\n",
        "    def call(self, x):\n",
        "        embedding = self.token_emb(x)\n",
        "        positions = self.pos_emb(embedding)\n",
        "        return embedding + positions\n",
        "\n",
        "    def get_config(self):\n",
        "        config = super().get_config()\n",
        "        config.update(\n",
        "            {\n",
        "                \"vocab_size\": self.vocab_size,\n",
        "                \"embed_dim\": self.embed_dim,\n",
        "            }\n",
        "        )\n",
        "        return config"
      ],
      "metadata": {
        "id": "gWxJbGfoULoB"
      },
      "execution_count": 23,
      "outputs": []
    },
    {
      "cell_type": "code",
      "source": [
        "tpe = TokenAndPositionEmbedding(notes_vocab_size, 32)\n",
        "token_embedding = tpe.token_emb(example_tokenised_notes)\n",
        "position_embedding = tpe.pos_emb(token_embedding)\n",
        "embedding = tpe(example_tokenised_notes)\n",
        "plt.imshow(\n",
        "    np.transpose(token_embedding),\n",
        "    cmap=\"coolwarm\",\n",
        "    interpolation=\"nearest\",\n",
        "    origin=\"lower\",\n",
        ")\n",
        "plt.show()\n",
        "plt.imshow(\n",
        "    np.transpose(position_embedding),\n",
        "    cmap=\"coolwarm\",\n",
        "    interpolation=\"nearest\",\n",
        "    origin=\"lower\",\n",
        ")\n",
        "plt.show()\n",
        "plt.imshow(\n",
        "    np.transpose(embedding),\n",
        "    cmap=\"coolwarm\",\n",
        "    interpolation=\"nearest\",\n",
        "    origin=\"lower\",\n",
        ")\n",
        "plt.show()"
      ],
      "metadata": {
        "id": "T5iEGu_GULsA",
        "colab": {
          "base_uri": "https://localhost:8080/",
          "height": 0
        },
        "outputId": "cf0ef1f5-cd49-4cb0-f47f-1ecb3b6e0d22"
      },
      "execution_count": 24,
      "outputs": [
        {
          "output_type": "display_data",
          "data": {
            "text/plain": [
              "<Figure size 640x480 with 1 Axes>"
            ],
            "image/png": "[encoded data removed]"
          },
          "metadata": {
            "image/png": {
              "width": 543,
              "height": 287
            }
          }
        },
        {
          "output_type": "display_data",
          "data": {
            "text/plain": [
              "<Figure size 640x480 with 1 Axes>"
            ],
            "image/png": "[encoded data removed]"
          },
          "metadata": {
            "image/png": {
              "width": 543,
              "height": 287
            }
          }
        },
        {
          "output_type": "display_data",
          "data": {
            "text/plain": [
              "<Figure size 640x480 with 1 Axes>"
            ],
            "image/png": "[encoded data removed]"
          },
          "metadata": {
            "image/png": {
              "width": 543,
              "height": 287
            }
          }
        }
      ]
    },
    {
      "cell_type": "markdown",
      "source": [
        "#Build the Transformer Model"
      ],
      "metadata": {
        "id": "CvIB53GQUYEB"
      }
    },
    {
      "cell_type": "code",
      "source": [
        "note_inputs = layers.Input(shape=(None,), dtype=tf.int32)\n",
        "durations_inputs = layers.Input(shape=(None,), dtype=tf.int32)\n",
        "note_embeddings = TokenAndPositionEmbedding(\n",
        "    notes_vocab_size, EMBEDDING_DIM // 2\n",
        ")(note_inputs)\n",
        "duration_embeddings = TokenAndPositionEmbedding(\n",
        "    durations_vocab_size, EMBEDDING_DIM // 2\n",
        ")(durations_inputs)\n",
        "embeddings = layers.Concatenate()([note_embeddings, duration_embeddings])\n",
        "x, attention_scores = TransformerBlock(\n",
        "    N_HEADS, KEY_DIM, EMBEDDING_DIM, FEED_FORWARD_DIM, name=\"attention\"\n",
        ")(embeddings)\n",
        "note_outputs = layers.Dense(\n",
        "    notes_vocab_size, activation=\"softmax\", name=\"note_outputs\"\n",
        ")(x)\n",
        "duration_outputs = layers.Dense(\n",
        "    durations_vocab_size, activation=\"softmax\", name=\"duration_outputs\"\n",
        ")(x)\n",
        "model = models.Model(\n",
        "    inputs=[note_inputs, durations_inputs],\n",
        "    outputs=[note_outputs, duration_outputs],  # attention_scores\n",
        ")\n",
        "model.compile(\n",
        "    \"adam\",\n",
        "    loss=[\n",
        "        losses.SparseCategoricalCrossentropy(),\n",
        "        losses.SparseCategoricalCrossentropy(),\n",
        "    ],\n",
        ")\n",
        "att_model = models.Model(\n",
        "    inputs=[note_inputs, durations_inputs], outputs=attention_scores\n",
        ")\n"
      ],
      "metadata": {
        "id": "m39oZUMNULv3"
      },
      "execution_count": 25,
      "outputs": []
    },
    {
      "cell_type": "code",
      "source": [
        "model.summary()"
      ],
      "metadata": {
        "id": "tc1imOEdUcnT",
        "colab": {
          "base_uri": "https://localhost:8080/",
          "height": 0
        },
        "outputId": "fa3efe70-449e-4965-df38-5a256bdc7be9"
      },
      "execution_count": 26,
      "outputs": [
        {
          "output_type": "display_data",
          "data": {
            "text/plain": [
              "\u001b[1mModel: \"functional\"\u001b[0m\n"
            ],
            "text/html": [
              "<pre style=\"white-space:pre;overflow-x:auto;line-height:normal;font-family:Menlo,'DejaVu Sans Mono',consolas,'Courier New',monospace\"><span style=\"font-weight: bold\">Model: \"functional\"</span>\n",
              "</pre>\n"
            ]
          },
          "metadata": {}
        },
        {
          "output_type": "display_data",
          "data": {
            "text/plain": [
              "┏━━━━━━━━━━━━━━━━━━━━━━━━━━━┳━━━━━━━━━━━━━━━━━━━━━━━━┳━━━━━━━━━━━━━━━━┳━━━━━━━━━━━━━━━━━━━━━━━━┓\n",
              "┃\u001b[1m \u001b[0m\u001b[1mLayer (type)             \u001b[0m\u001b[1m \u001b[0m┃\u001b[1m \u001b[0m\u001b[1mOutput Shape          \u001b[0m\u001b[1m \u001b[0m┃\u001b[1m \u001b[0m\u001b[1m       Param #\u001b[0m\u001b[1m \u001b[0m┃\u001b[1m \u001b[0m\u001b[1mConnected to          \u001b[0m\u001b[1m \u001b[0m┃\n",
              "┡━━━━━━━━━━━━━━━━━━━━━━━━━━━╇━━━━━━━━━━━━━━━━━━━━━━━━╇━━━━━━━━━━━━━━━━╇━━━━━━━━━━━━━━━━━━━━━━━━┩\n",
              "│ input_layer (\u001b[38;5;33mInputLayer\u001b[0m)  │ (\u001b[38;5;45mNone\u001b[0m, \u001b[38;5;45mNone\u001b[0m)           │              \u001b[38;5;34m0\u001b[0m │ -                      │\n",
              "├───────────────────────────┼────────────────────────┼────────────────┼────────────────────────┤\n",
              "│ input_layer_1             │ (\u001b[38;5;45mNone\u001b[0m, \u001b[38;5;45mNone\u001b[0m)           │              \u001b[38;5;34m0\u001b[0m │ -                      │\n",
              "│ (\u001b[38;5;33mInputLayer\u001b[0m)              │                        │                │                        │\n",
              "├───────────────────────────┼────────────────────────┼────────────────┼────────────────────────┤\n",
              "│ token_and_position_embed… │ (\u001b[38;5;45mNone\u001b[0m, \u001b[38;5;45mNone\u001b[0m, \u001b[38;5;34m128\u001b[0m)      │         \u001b[38;5;34m12,544\u001b[0m │ input_layer[\u001b[38;5;34m0\u001b[0m][\u001b[38;5;34m0\u001b[0m]      │\n",
              "│ (\u001b[38;5;33mTokenAndPositionEmbeddi…\u001b[0m │                        │                │                        │\n",
              "├───────────────────────────┼────────────────────────┼────────────────┼────────────────────────┤\n",
              "│ token_and_position_embed… │ (\u001b[38;5;45mNone\u001b[0m, \u001b[38;5;45mNone\u001b[0m, \u001b[38;5;34m128\u001b[0m)      │          \u001b[38;5;34m4,864\u001b[0m │ input_layer_1[\u001b[38;5;34m0\u001b[0m][\u001b[38;5;34m0\u001b[0m]    │\n",
              "│ (\u001b[38;5;33mTokenAndPositionEmbeddi…\u001b[0m │                        │                │                        │\n",
              "├───────────────────────────┼────────────────────────┼────────────────┼────────────────────────┤\n",
              "│ concatenate (\u001b[38;5;33mConcatenate\u001b[0m) │ (\u001b[38;5;45mNone\u001b[0m, \u001b[38;5;45mNone\u001b[0m, \u001b[38;5;34m256\u001b[0m)      │              \u001b[38;5;34m0\u001b[0m │ token_and_position_em… │\n",
              "│                           │                        │                │ token_and_position_em… │\n",
              "├───────────────────────────┼────────────────────────┼────────────────┼────────────────────────┤\n",
              "│ attention                 │ [(\u001b[38;5;45mNone\u001b[0m, \u001b[38;5;45mNone\u001b[0m, \u001b[38;5;34m256\u001b[0m),    │      \u001b[38;5;34m1,184,512\u001b[0m │ concatenate[\u001b[38;5;34m0\u001b[0m][\u001b[38;5;34m0\u001b[0m]      │\n",
              "│ (\u001b[38;5;33mTransformerBlock\u001b[0m)        │ (\u001b[38;5;45mNone\u001b[0m, \u001b[38;5;34m4\u001b[0m, \u001b[38;5;45mNone\u001b[0m, \u001b[38;5;45mNone\u001b[0m)] │                │                        │\n",
              "├───────────────────────────┼────────────────────────┼────────────────┼────────────────────────┤\n",
              "│ note_outputs (\u001b[38;5;33mDense\u001b[0m)      │ (\u001b[38;5;45mNone\u001b[0m, \u001b[38;5;45mNone\u001b[0m, \u001b[38;5;34m98\u001b[0m)       │         \u001b[38;5;34m25,186\u001b[0m │ attention[\u001b[38;5;34m0\u001b[0m][\u001b[38;5;34m0\u001b[0m]        │\n",
              "├───────────────────────────┼────────────────────────┼────────────────┼────────────────────────┤\n",
              "│ duration_outputs (\u001b[38;5;33mDense\u001b[0m)  │ (\u001b[38;5;45mNone\u001b[0m, \u001b[38;5;45mNone\u001b[0m, \u001b[38;5;34m38\u001b[0m)       │          \u001b[38;5;34m9,766\u001b[0m │ attention[\u001b[38;5;34m0\u001b[0m][\u001b[38;5;34m0\u001b[0m]        │\n",
              "└───────────────────────────┴────────────────────────┴────────────────┴────────────────────────┘\n"
            ],
            "text/html": [
              "<pre style=\"white-space:pre;overflow-x:auto;line-height:normal;font-family:Menlo,'DejaVu Sans Mono',consolas,'Courier New',monospace\">┏━━━━━━━━━━━━━━━━━━━━━━━━━━━┳━━━━━━━━━━━━━━━━━━━━━━━━┳━━━━━━━━━━━━━━━━┳━━━━━━━━━━━━━━━━━━━━━━━━┓\n",
              "┃<span style=\"font-weight: bold\"> Layer (type)              </span>┃<span style=\"font-weight: bold\"> Output Shape           </span>┃<span style=\"font-weight: bold\">        Param # </span>┃<span style=\"font-weight: bold\"> Connected to           </span>┃\n",
              "┡━━━━━━━━━━━━━━━━━━━━━━━━━━━╇━━━━━━━━━━━━━━━━━━━━━━━━╇━━━━━━━━━━━━━━━━╇━━━━━━━━━━━━━━━━━━━━━━━━┩\n",
              "│ input_layer (<span style=\"color: #0087ff; text-decoration-color: #0087ff\">InputLayer</span>)  │ (<span style=\"color: #00d7ff; text-decoration-color: #00d7ff\">None</span>, <span style=\"color: #00d7ff; text-decoration-color: #00d7ff\">None</span>)           │              <span style=\"color: #00af00; text-decoration-color: #00af00\">0</span> │ -                      │\n",
              "├───────────────────────────┼────────────────────────┼────────────────┼────────────────────────┤\n",
              "│ input_layer_1             │ (<span style=\"color: #00d7ff; text-decoration-color: #00d7ff\">None</span>, <span style=\"color: #00d7ff; text-decoration-color: #00d7ff\">None</span>)           │              <span style=\"color: #00af00; text-decoration-color: #00af00\">0</span> │ -                      │\n",
              "│ (<span style=\"color: #0087ff; text-decoration-color: #0087ff\">InputLayer</span>)              │                        │                │                        │\n",
              "├───────────────────────────┼────────────────────────┼────────────────┼────────────────────────┤\n",
              "│ token_and_position_embed… │ (<span style=\"color: #00d7ff; text-decoration-color: #00d7ff\">None</span>, <span style=\"color: #00d7ff; text-decoration-color: #00d7ff\">None</span>, <span style=\"color: #00af00; text-decoration-color: #00af00\">128</span>)      │         <span style=\"color: #00af00; text-decoration-color: #00af00\">12,544</span> │ input_layer[<span style=\"color: #00af00; text-decoration-color: #00af00\">0</span>][<span style=\"color: #00af00; text-decoration-color: #00af00\">0</span>]      │\n",
              "│ (<span style=\"color: #0087ff; text-decoration-color: #0087ff\">TokenAndPositionEmbeddi…</span> │                        │                │                        │\n",
              "├───────────────────────────┼────────────────────────┼────────────────┼────────────────────────┤\n",
              "│ token_and_position_embed… │ (<span style=\"color: #00d7ff; text-decoration-color: #00d7ff\">None</span>, <span style=\"color: #00d7ff; text-decoration-color: #00d7ff\">None</span>, <span style=\"color: #00af00; text-decoration-color: #00af00\">128</span>)      │          <span style=\"color: #00af00; text-decoration-color: #00af00\">4,864</span> │ input_layer_1[<span style=\"color: #00af00; text-decoration-color: #00af00\">0</span>][<span style=\"color: #00af00; text-decoration-color: #00af00\">0</span>]    │\n",
              "│ (<span style=\"color: #0087ff; text-decoration-color: #0087ff\">TokenAndPositionEmbeddi…</span> │                        │                │                        │\n",
              "├───────────────────────────┼────────────────────────┼────────────────┼────────────────────────┤\n",
              "│ concatenate (<span style=\"color: #0087ff; text-decoration-color: #0087ff\">Concatenate</span>) │ (<span style=\"color: #00d7ff; text-decoration-color: #00d7ff\">None</span>, <span style=\"color: #00d7ff; text-decoration-color: #00d7ff\">None</span>, <span style=\"color: #00af00; text-decoration-color: #00af00\">256</span>)      │              <span style=\"color: #00af00; text-decoration-color: #00af00\">0</span> │ token_and_position_em… │\n",
              "│                           │                        │                │ token_and_position_em… │\n",
              "├───────────────────────────┼────────────────────────┼────────────────┼────────────────────────┤\n",
              "│ attention                 │ [(<span style=\"color: #00d7ff; text-decoration-color: #00d7ff\">None</span>, <span style=\"color: #00d7ff; text-decoration-color: #00d7ff\">None</span>, <span style=\"color: #00af00; text-decoration-color: #00af00\">256</span>),    │      <span style=\"color: #00af00; text-decoration-color: #00af00\">1,184,512</span> │ concatenate[<span style=\"color: #00af00; text-decoration-color: #00af00\">0</span>][<span style=\"color: #00af00; text-decoration-color: #00af00\">0</span>]      │\n",
              "│ (<span style=\"color: #0087ff; text-decoration-color: #0087ff\">TransformerBlock</span>)        │ (<span style=\"color: #00d7ff; text-decoration-color: #00d7ff\">None</span>, <span style=\"color: #00af00; text-decoration-color: #00af00\">4</span>, <span style=\"color: #00d7ff; text-decoration-color: #00d7ff\">None</span>, <span style=\"color: #00d7ff; text-decoration-color: #00d7ff\">None</span>)] │                │                        │\n",
              "├───────────────────────────┼────────────────────────┼────────────────┼────────────────────────┤\n",
              "│ note_outputs (<span style=\"color: #0087ff; text-decoration-color: #0087ff\">Dense</span>)      │ (<span style=\"color: #00d7ff; text-decoration-color: #00d7ff\">None</span>, <span style=\"color: #00d7ff; text-decoration-color: #00d7ff\">None</span>, <span style=\"color: #00af00; text-decoration-color: #00af00\">98</span>)       │         <span style=\"color: #00af00; text-decoration-color: #00af00\">25,186</span> │ attention[<span style=\"color: #00af00; text-decoration-color: #00af00\">0</span>][<span style=\"color: #00af00; text-decoration-color: #00af00\">0</span>]        │\n",
              "├───────────────────────────┼────────────────────────┼────────────────┼────────────────────────┤\n",
              "│ duration_outputs (<span style=\"color: #0087ff; text-decoration-color: #0087ff\">Dense</span>)  │ (<span style=\"color: #00d7ff; text-decoration-color: #00d7ff\">None</span>, <span style=\"color: #00d7ff; text-decoration-color: #00d7ff\">None</span>, <span style=\"color: #00af00; text-decoration-color: #00af00\">38</span>)       │          <span style=\"color: #00af00; text-decoration-color: #00af00\">9,766</span> │ attention[<span style=\"color: #00af00; text-decoration-color: #00af00\">0</span>][<span style=\"color: #00af00; text-decoration-color: #00af00\">0</span>]        │\n",
              "└───────────────────────────┴────────────────────────┴────────────────┴────────────────────────┘\n",
              "</pre>\n"
            ]
          },
          "metadata": {}
        },
        {
          "output_type": "display_data",
          "data": {
            "text/plain": [
              "\u001b[1m Total params: \u001b[0m\u001b[38;5;34m1,236,872\u001b[0m (4.72 MB)\n"
            ],
            "text/html": [
              "<pre style=\"white-space:pre;overflow-x:auto;line-height:normal;font-family:Menlo,'DejaVu Sans Mono',consolas,'Courier New',monospace\"><span style=\"font-weight: bold\"> Total params: </span><span style=\"color: #00af00; text-decoration-color: #00af00\">1,236,872</span> (4.72 MB)\n",
              "</pre>\n"
            ]
          },
          "metadata": {}
        },
        {
          "output_type": "display_data",
          "data": {
            "text/plain": [
              "\u001b[1m Trainable params: \u001b[0m\u001b[38;5;34m1,236,872\u001b[0m (4.72 MB)\n"
            ],
            "text/html": [
              "<pre style=\"white-space:pre;overflow-x:auto;line-height:normal;font-family:Menlo,'DejaVu Sans Mono',consolas,'Courier New',monospace\"><span style=\"font-weight: bold\"> Trainable params: </span><span style=\"color: #00af00; text-decoration-color: #00af00\">1,236,872</span> (4.72 MB)\n",
              "</pre>\n"
            ]
          },
          "metadata": {}
        },
        {
          "output_type": "display_data",
          "data": {
            "text/plain": [
              "\u001b[1m Non-trainable params: \u001b[0m\u001b[38;5;34m0\u001b[0m (0.00 B)\n"
            ],
            "text/html": [
              "<pre style=\"white-space:pre;overflow-x:auto;line-height:normal;font-family:Menlo,'DejaVu Sans Mono',consolas,'Courier New',monospace\"><span style=\"font-weight: bold\"> Non-trainable params: </span><span style=\"color: #00af00; text-decoration-color: #00af00\">0</span> (0.00 B)\n",
              "</pre>\n"
            ]
          },
          "metadata": {}
        }
      ]
    },
    {
      "cell_type": "markdown",
      "source": [
        "#Train the Transformer"
      ],
      "metadata": {
        "id": "PWhxdq7mUegA"
      }
    },
    {
      "cell_type": "code",
      "source": [
        "# Create a MusicGenerator checkpoint\n",
        "class MusicGenerator(callbacks.Callback):\n",
        "    def __init__(self, index_to_note, index_to_duration, top_k=10):\n",
        "        self.index_to_note = index_to_note\n",
        "        self.note_to_index = {\n",
        "            note: index for index, note in enumerate(index_to_note)\n",
        "        }\n",
        "        self.index_to_duration = index_to_duration\n",
        "        self.duration_to_index = {\n",
        "            duration: index for index, duration in enumerate(index_to_duration)\n",
        "        }\n",
        "\n",
        "    def sample_from(self, probs, temperature):\n",
        "        probs = probs ** (1 / temperature)\n",
        "        probs = probs / np.sum(probs)\n",
        "        return np.random.choice(len(probs), p=probs), probs\n",
        "\n",
        "    def get_note(self, notes, durations, temperature):\n",
        "        sample_note_idx = 1\n",
        "        while sample_note_idx == 1:\n",
        "            sample_note_idx, note_probs = self.sample_from(\n",
        "                notes[0][-1], temperature\n",
        "            )\n",
        "            sample_note = self.index_to_note[sample_note_idx]\n",
        "\n",
        "        sample_duration_idx = 1\n",
        "        while sample_duration_idx == 1:\n",
        "            sample_duration_idx, duration_probs = self.sample_from(\n",
        "                durations[0][-1], temperature\n",
        "            )\n",
        "            sample_duration = self.index_to_duration[sample_duration_idx]\n",
        "\n",
        "        new_note = get_midi_note(sample_note, sample_duration)\n",
        "\n",
        "        return (\n",
        "            new_note,\n",
        "            sample_note_idx,\n",
        "            sample_note,\n",
        "            note_probs,\n",
        "            sample_duration_idx,\n",
        "            sample_duration,\n",
        "            duration_probs,\n",
        "        )\n",
        "\n",
        "    def generate(self, start_notes, start_durations, max_tokens, temperature):\n",
        "        attention_model = models.Model(\n",
        "            inputs=self.model.input,\n",
        "            outputs=self.model.get_layer(\"attention\").output,\n",
        "        )\n",
        "\n",
        "        start_note_tokens = [self.note_to_index.get(x, 1) for x in start_notes]\n",
        "        start_duration_tokens = [\n",
        "            self.duration_to_index.get(x, 1) for x in start_durations\n",
        "        ]\n",
        "        sample_note = None\n",
        "        sample_duration = None\n",
        "        info = []\n",
        "        midi_stream = music21.stream.Stream()\n",
        "\n",
        "        midi_stream.append(music21.clef.BassClef())\n",
        "\n",
        "        for sample_note, sample_duration in zip(start_notes, start_durations):\n",
        "            new_note = get_midi_note(sample_note, sample_duration)\n",
        "            if new_note is not None:\n",
        "                midi_stream.append(new_note)\n",
        "\n",
        "        while len(start_note_tokens) < max_tokens:\n",
        "            x1 = np.array([start_note_tokens])\n",
        "            x2 = np.array([start_duration_tokens])\n",
        "            notes, durations = self.model.predict([x1, x2], verbose=0)\n",
        "\n",
        "            repeat = True\n",
        "\n",
        "            while repeat:\n",
        "                (\n",
        "                    new_note,\n",
        "                    sample_note_idx,\n",
        "                    sample_note,\n",
        "                    note_probs,\n",
        "                    sample_duration_idx,\n",
        "                    sample_duration,\n",
        "                    duration_probs,\n",
        "                ) = self.get_note(notes, durations, temperature)\n",
        "\n",
        "                if (\n",
        "                    isinstance(new_note, music21.chord.Chord)\n",
        "                    or isinstance(new_note, music21.note.Note)\n",
        "                    or isinstance(new_note, music21.note.Rest)\n",
        "                ) and sample_duration == \"0.0\":\n",
        "                    repeat = True\n",
        "                else:\n",
        "                    repeat = False\n",
        "\n",
        "            if new_note is not None:\n",
        "                midi_stream.append(new_note)\n",
        "\n",
        "            _, att = attention_model.predict([x1, x2], verbose=0)\n",
        "\n",
        "            info.append(\n",
        "                {\n",
        "                    \"prompt\": [start_notes.copy(), start_durations.copy()],\n",
        "                    \"midi\": midi_stream,\n",
        "                    \"chosen_note\": (sample_note, sample_duration),\n",
        "                    \"note_probs\": note_probs,\n",
        "                    \"duration_probs\": duration_probs,\n",
        "                    \"atts\": att[0, :, -1, :],\n",
        "                }\n",
        "            )\n",
        "            start_note_tokens.append(sample_note_idx)\n",
        "            start_duration_tokens.append(sample_duration_idx)\n",
        "            start_notes.append(sample_note)\n",
        "            start_durations.append(sample_duration)\n",
        "\n",
        "            if sample_note == \"START\":\n",
        "                break\n",
        "\n",
        "        return info\n",
        "\n",
        "    def on_epoch_end(self, epoch, logs=None):\n",
        "        os.makedirs(\"/content/output\", exist_ok=True)\n",
        "\n",
        "        info = self.generate(\n",
        "            [\"START\"], [\"0.0\"], max_tokens=GENERATE_LEN, temperature=0.5\n",
        "        )\n",
        "        midi_stream = info[-1][\"midi\"].chordify()\n",
        "        print(info[-1][\"prompt\"])\n",
        "        #midi_stream.show()\n",
        "        midi_stream.write(\n",
        "            \"midi\",\n",
        "            fp=os.path.join(\n",
        "                \"/content/output\",\n",
        "                \"output-\" + str(epoch).zfill(4) + \".mid\",\n",
        "            ),\n",
        "        )"
      ],
      "metadata": {
        "id": "qtk8IUv_Vnb6"
      },
      "execution_count": 30,
      "outputs": []
    },
    {
      "cell_type": "code",
      "source": [
        "# Tokenize starting prompt\n",
        "music_generator = MusicGenerator(notes_vocab, durations_vocab)"
      ],
      "metadata": {
        "id": "HTI78KhBUk6X"
      },
      "execution_count": 31,
      "outputs": []
    },
    {
      "cell_type": "code",
      "source": [
        "model.fit(\n",
        "    ds,\n",
        "    epochs=50,\n",
        "    callbacks=[\n",
        "        music_generator,\n",
        "    ],\n",
        ")"
      ],
      "metadata": {
        "id": "hLbOQ22hUmye",
        "colab": {
          "base_uri": "https://localhost:8080/"
        },
        "outputId": "82cc2142-903c-4368-e946-c1f18db71c5c"
      },
      "execution_count": 33,
      "outputs": [
        {
          "output_type": "stream",
          "name": "stdout",
          "text": [
            "Epoch 1/50\n",
            "\u001b[1m459/459\u001b[0m \u001b[32m━━━━━━━━━━━━━━━━━━━━\u001b[0m\u001b[37m\u001b[0m \u001b[1m0s\u001b[0m 18ms/step - duration_outputs_loss: 1.0169 - loss: 3.3299 - note_outputs_loss: 2.3130[['START', 'D:major', '3/4TS', 'D4', 'D4', 'D4', 'D4', 'D4', 'D4', 'D4', 'D4', 'D4', 'D4', 'D4', 'D4', 'D4', 'D4', 'D4', 'D4', 'D4', 'D4', 'D4', 'D4', 'D4', 'D4', 'D4', 'D4', 'D4', 'D4', 'D4', 'D4', 'D4', 'D4', 'D4', 'D4', 'D4', 'D4', 'D4', 'D4', 'D4', 'D4', 'D4', 'D4', 'D4', 'D4', 'D4', 'D4', 'D4', 'D4'], ['0.0', '1.0', '1.0', '1.0', '1.0', '1.0', '1.0', '1.0', '1.0', '1.0', '1.0', '1.0', '1.0', '1.0', '1.0', '1.0', '1.0', '1.0', '1.0', '1.0', '1.0', '1.0', '1.0', '1.0', '1.0', '1.0', '0.5', '0.5', '1.0', '1.0', '1.0', '1.0', '1.0', '0.5', '0.5', '0.5', '0.5', '0.5', '0.5', '0.5', '0.5', '0.5', '0.5', '0.5', '0.5', '0.5', '0.5', '0.5', '0.5']]\n",
            "\u001b[1m459/459\u001b[0m \u001b[32m━━━━━━━━━━━━━━━━━━━━\u001b[0m\u001b[37m\u001b[0m \u001b[1m41s\u001b[0m 90ms/step - duration_outputs_loss: 1.0169 - loss: 3.3300 - note_outputs_loss: 2.3131\n",
            "Epoch 2/50\n",
            "\u001b[1m458/459\u001b[0m \u001b[32m━━━━━━━━━━━━━━━━━━━\u001b[0m\u001b[37m━\u001b[0m \u001b[1m0s\u001b[0m 18ms/step - duration_outputs_loss: 1.0279 - loss: 3.3473 - note_outputs_loss: 2.3195[['START', 'D:minor', '4/4TS', 'rest', 'A4', 'rest', 'C#5', 'C#5', 'C#5', 'C#5', 'C#5', 'rest', 'C#5', 'rest', 'C#5', 'rest', 'C#5', 'rest', 'C#5', 'rest', 'C#5', 'C#5', 'rest', 'C#5', 'C#5', 'C#5', 'C#5', 'C#5', 'C#5', 'C#5', 'C#5', 'C#5', 'C#5', 'C#5', 'C#5', 'C#5', 'C#5', 'C#5', 'C#5', 'C#5', 'C#5', 'C#5', 'C#5', 'C#5', 'C#5', 'C#5', 'C#5', 'C#5', 'C#5'], ['0.0', '0.0', '0.0', '0.5', '0.5', '0.5', '1.0', '0.5', '0.5', '0.5', '0.5', '0.5', '0.5', '0.5', '0.5', '0.5', '0.5', '0.5', '0.5', '0.5', '0.5', '0.5', '0.5', '0.5', '0.5', '0.5', '0.5', '0.5', '0.5', '0.5', '0.5', '0.5', '0.5', '0.5', '0.5', '0.5', '0.5', '0.5', '0.5', '0.5', '0.5', '0.5', '0.5', '0.5', '0.5', '0.5', '0.5', '0.5', '0.5']]\n",
            "\u001b[1m459/459\u001b[0m \u001b[32m━━━━━━━━━━━━━━━━━━━━\u001b[0m\u001b[37m\u001b[0m \u001b[1m41s\u001b[0m 89ms/step - duration_outputs_loss: 1.0280 - loss: 3.3473 - note_outputs_loss: 2.3194\n",
            "Epoch 3/50\n",
            "\u001b[1m458/459\u001b[0m \u001b[32m━━━━━━━━━━━━━━━━━━━\u001b[0m\u001b[37m━\u001b[0m \u001b[1m0s\u001b[0m 18ms/step - duration_outputs_loss: 1.0576 - loss: 3.2405 - note_outputs_loss: 2.1829[['START', 'C:major', '2/4TS', 'E3', 'E3', 'E3', 'E3', 'E3', 'E3', 'E3', 'E3', 'E3', 'E3', 'E3', 'E3', 'E3', 'E3', 'E3', 'E3', 'E3', 'E3', 'E3', 'E3', 'E3', 'E3', 'E3', 'E3', 'E3', 'E3', 'E3', 'E3', 'E3', 'E3', 'E3', 'E3', 'E3', 'E3', 'E3', 'E3', 'E3', 'E3', 'E3', 'E3', 'E3', 'E3', 'E3', 'E3', 'E3', 'E3'], ['0.0', '0.0', '0.0', '1.0', '1.0', '1.0', '1.0', '1.0', '1.0', '1.0', '1.0', '1.0', '1.0', '1.0', '1.0', '1.0', '1.0', '0.5', '0.5', '0.5', '0.5', '0.5', '1.0', '0.5', '1.0', '0.5', '0.5', '0.5', '1/3', '1/3', '1/3', '1/3', '1/3', '1/3', '1/3', '1/3', '1/3', '0.25', '0.25', '1/3', '1/3', '0.25', '0.25', '0.25', '0.25', '0.25', '0.25', '0.25', '0.25']]\n",
            "\u001b[1m459/459\u001b[0m \u001b[32m━━━━━━━━━━━━━━━━━━━━\u001b[0m\u001b[37m\u001b[0m \u001b[1m41s\u001b[0m 89ms/step - duration_outputs_loss: 1.0575 - loss: 3.2408 - note_outputs_loss: 2.1833\n",
            "Epoch 4/50\n",
            "\u001b[1m459/459\u001b[0m \u001b[32m━━━━━━━━━━━━━━━━━━━━\u001b[0m\u001b[37m\u001b[0m \u001b[1m0s\u001b[0m 18ms/step - duration_outputs_loss: 1.1176 - loss: 3.3476 - note_outputs_loss: 2.2300[['START', 'C:major', '4/4TS', 'G4', 'rest', 'A2', 'rest', 'rest', 'rest', 'rest', 'E3', 'rest', 'rest', 'rest', 'rest', 'C#5', 'rest', 'rest', 'C#5', 'rest', 'C#5', 'rest', 'C#5', 'rest', 'C#5', 'rest', 'C#5', 'rest', 'C#5', 'rest', 'B4', 'rest', 'C#5', 'rest', 'B4', 'rest', 'B4', 'rest', 'C#5', 'rest', 'C#5', 'rest', 'B4', 'rest', 'B4', 'rest', 'B4', 'rest', 'B4'], ['0.0', '0.0', '0.0', '1.0', '1.0', '1.0', '1.0', '1.0', '1.0', '1.0', '1.0', '1.0', '1.0', '1.0', '1.0', '1.0', '1.0', '1.0', '1.0', '1.0', '1.0', '1.0', '1.0', '1.0', '1.0', '1.0', '1.0', '1.0', '1.0', '1.0', '1.0', '1.0', '1.0', '1.0', '1.0', '1.0', '1.0', '1.0', '1.0', '1.0', '1.0', '1.0', '1.0', '1.0', '1.0', '1.0', '1.0', '1.0', '1.0']]\n",
            "\u001b[1m459/459\u001b[0m \u001b[32m━━━━━━━━━━━━━━━━━━━━\u001b[0m\u001b[37m\u001b[0m \u001b[1m41s\u001b[0m 89ms/step - duration_outputs_loss: 1.1175 - loss: 3.3475 - note_outputs_loss: 2.2300\n",
            "Epoch 5/50\n",
            "\u001b[1m459/459\u001b[0m \u001b[32m━━━━━━━━━━━━━━━━━━━━\u001b[0m\u001b[37m\u001b[0m \u001b[1m0s\u001b[0m 19ms/step - duration_outputs_loss: 1.0477 - loss: 3.2503 - note_outputs_loss: 2.2026[['START', 'C:major', '3/4TS', 'rest', 'F#6', 'F#6', 'rest', 'F#6', 'F#6', 'F#6', 'F#6', 'F#6', 'F#6', 'F#6', 'F#6', 'F#6', 'F#6', 'F#6', 'F#6', 'F#6', 'F#6', 'F#6', 'F#6', 'F#6', 'F#6', 'F#6', 'F#6', 'F#6', 'F#6', 'F#6', 'F#6', 'F#6', 'F#6', 'F#6', 'F#6', 'F#6', 'F#6', 'F#6', 'F#6', 'F#6', 'F#6', 'F#6', 'F#6', 'F#6', 'F#6', 'F#6', 'F#6', 'F#6', 'F#6'], ['0.0', '0.0', '0.0', '0.5', '0.5', '0.5', '0.5', '0.5', '0.5', '0.5', '0.5', '0.5', '0.5', '0.5', '0.5', '0.5', '0.5', '0.5', '0.5', '0.5', '0.5', '0.5', '0.5', '0.5', '0.5', '0.5', '0.5', '0.5', '0.5', '0.5', '0.5', '0.5', '0.5', '0.5', '0.5', '0.5', '0.5', '0.5', '0.5', '0.5', '0.5', '0.5', '0.5', '0.5', '0.5', '0.5', '0.5', '0.5', '0.5']]\n",
            "\u001b[1m459/459\u001b[0m \u001b[32m━━━━━━━━━━━━━━━━━━━━\u001b[0m\u001b[37m\u001b[0m \u001b[1m42s\u001b[0m 91ms/step - duration_outputs_loss: 1.0477 - loss: 3.2503 - note_outputs_loss: 2.2026\n",
            "Epoch 6/50\n",
            "\u001b[1m458/459\u001b[0m \u001b[32m━━━━━━━━━━━━━━━━━━━\u001b[0m\u001b[37m━\u001b[0m \u001b[1m0s\u001b[0m 18ms/step - duration_outputs_loss: 1.0484 - loss: 3.2022 - note_outputs_loss: 2.1538[['START', 'D:minor', '4/4TS', 'D5', 'A3', 'D5', 'D5', 'D5', 'D5', 'D5', 'D5', 'D5', 'E5', 'E5', 'F#5', 'F#5', 'F#5', 'F#5', 'F#5', 'F#5', 'F#5', 'F#5', 'F#5', 'F#5', 'F#5', 'F#5', 'F#5', 'F#5', 'F#5', 'F#5', 'F#5', 'F#5', 'F#5', 'F#5', 'F#5', 'F#5', 'F#5', 'F#5', 'F#5', 'F#5', 'F#5', 'F#5', 'F#5', 'F#5', 'F#5', 'F#5', 'F#5', 'F#5', 'F#5'], ['0.0', '0.0', '0.0', '0.5', '0.5', '0.5', '0.5', '0.5', '0.5', '0.5', '0.5', '0.5', '0.5', '0.5', '0.5', '0.5', '0.5', '0.25', '0.25', '0.25', '0.5', '0.5', '0.5', '0.5', '0.5', '0.5', '0.5', '0.5', '0.5', '0.5', '0.5', '0.5', '0.5', '0.5', '0.5', '0.5', '0.5', '0.5', '0.5', '0.5', '0.5', '0.5', '0.5', '0.5', '0.5', '0.5', '0.5', '0.5', '0.5']]\n",
            "\u001b[1m459/459\u001b[0m \u001b[32m━━━━━━━━━━━━━━━━━━━━\u001b[0m\u001b[37m\u001b[0m \u001b[1m41s\u001b[0m 90ms/step - duration_outputs_loss: 1.0483 - loss: 3.2023 - note_outputs_loss: 2.1540\n",
            "Epoch 7/50\n",
            "\u001b[1m458/459\u001b[0m \u001b[32m━━━━━━━━━━━━━━━━━━━\u001b[0m\u001b[37m━\u001b[0m \u001b[1m0s\u001b[0m 17ms/step - duration_outputs_loss: 1.0434 - loss: 3.1860 - note_outputs_loss: 2.1425[['START', 'C:major', '4/4TS', 'rest', 'rest', 'rest', 'rest', 'rest', 'rest', 'rest', 'rest', 'rest', 'rest', 'rest', 'rest', 'rest', 'rest', 'rest', 'rest', 'rest', 'rest', 'rest', 'rest', 'rest', 'rest', 'rest', 'rest', 'rest', 'rest', 'rest', 'rest', 'rest', 'rest', 'rest', 'rest', 'rest', 'rest', 'rest', 'rest', 'rest', 'rest', 'rest', 'rest', 'rest', 'rest', 'rest', 'rest', 'rest', 'rest'], ['0.0', '1.0', '1.0', '1.0', '1.0', '1.0', '1.0', '1.0', '1.0', '1.0', '1.0', '1.0', '1.0', '1.0', '1.0', '1.0', '1.0', '1.0', '1.0', '1.0', '1.0', '1.0', '1.0', '1.0', '1.0', '1.0', '1.0', '1.0', '1.0', '1.0', '1.0', '1.0', '1.0', '1.0', '1.0', '1.0', '1.0', '1.0', '1.0', '1.0', '1.0', '1.0', '1.0', '1.0', '1.0', '1.0', '1.0', '1.0', '1.0']]\n",
            "\u001b[1m459/459\u001b[0m \u001b[32m━━━━━━━━━━━━━━━━━━━━\u001b[0m\u001b[37m\u001b[0m \u001b[1m76s\u001b[0m 166ms/step - duration_outputs_loss: 1.0434 - loss: 3.1860 - note_outputs_loss: 2.1426\n",
            "Epoch 8/50\n",
            "\u001b[1m459/459\u001b[0m \u001b[32m━━━━━━━━━━━━━━━━━━━━\u001b[0m\u001b[37m\u001b[0m \u001b[1m0s\u001b[0m 18ms/step - duration_outputs_loss: 1.0132 - loss: 3.1725 - note_outputs_loss: 2.1593[['START', 'C:major', '4/4TS', 'rest', 'rest', 'rest', 'rest', 'rest', 'rest', 'rest', 'rest', 'rest', 'rest', 'rest', 'rest', 'rest', 'rest', 'rest', 'rest', 'rest', 'rest', 'D4', 'rest', 'rest', 'rest', 'rest', 'rest', 'rest', 'rest', 'rest', 'rest', 'D4', 'rest', 'rest', 'rest', 'B-3', 'rest', 'B-3', 'rest', 'rest', 'F3', 'rest', 'B-3', 'rest', 'B-3', 'B-3', 'B-3', 'rest', 'B-3'], ['0.0', '0.0', '0.0', '0.5', '0.5', '1.0', '1.0', '1.0', '0.5', '1.0', '1.0', '1.0', '1.0', '1.0', '1.0', '1.0', '1.0', '1.0', '1.0', '1.0', '1.0', '0.5', '1.0', '1.0', '1.0', '1.0', '1.0', '1.0', '1.0', '1.0', '1.0', '1.0', '1.0', '1.0', '1.0', '1.0', '1.0', '1.0', '1.0', '1.0', '1.0', '1.0', '1.0', '1.0', '1.0', '1.0', '1.0', '1.0', '1.0']]\n",
            "\u001b[1m459/459\u001b[0m \u001b[32m━━━━━━━━━━━━━━━━━━━━\u001b[0m\u001b[37m\u001b[0m \u001b[1m47s\u001b[0m 91ms/step - duration_outputs_loss: 1.0133 - loss: 3.1725 - note_outputs_loss: 2.1592\n",
            "Epoch 9/50\n",
            "\u001b[1m458/459\u001b[0m \u001b[32m━━━━━━━━━━━━━━━━━━━\u001b[0m\u001b[37m━\u001b[0m \u001b[1m0s\u001b[0m 18ms/step - duration_outputs_loss: 1.0544 - loss: 3.1634 - note_outputs_loss: 2.1091[['START', 'C:major', '4/4TS', 'E4', 'C5', 'C5', 'C5', 'C5', 'C5', 'C5', 'C5', 'C5', 'C5', 'C5', 'C5', 'C5', 'C5', 'C5', 'C5', 'C5', 'C5', 'C5', 'C5', 'C5', 'C5', 'C5', 'C5', 'C5', 'C5', 'C5', 'C5', 'C5', 'C5', 'C5', 'C5', 'C5', 'E-5', 'E-5', 'E-5', 'E-5', 'E-5', 'E-5', 'E-5', 'E-5', 'E-5', 'E-5', 'E-5', 'E-5', 'E-5'], ['0.0', '0.0', '0.0', '1.0', '1.0', '1.0', '1.0', '1.0', '1.0', '1.0', '1.0', '1.0', '1.0', '1.0', '1.0', '1.0', '1.0', '1.0', '1.0', '1.0', '1.0', '1.0', '1.0', '1.0', '1.0', '1.0', '1.0', '1.0', '1.0', '1.0', '1.0', '1.0', '1.0', '1.0', '1.0', '1.0', '1.0', '1.0', '1.0', '1.0', '1.0', '1.0', '1.0', '1.0', '0.5', '1.0', '1.0', '1.0', '1.0']]\n",
            "\u001b[1m459/459\u001b[0m \u001b[32m━━━━━━━━━━━━━━━━━━━━\u001b[0m\u001b[37m\u001b[0m \u001b[1m43s\u001b[0m 94ms/step - duration_outputs_loss: 1.0543 - loss: 3.1634 - note_outputs_loss: 2.1091\n",
            "Epoch 10/50\n",
            "\u001b[1m459/459\u001b[0m \u001b[32m━━━━━━━━━━━━━━━━━━━━\u001b[0m\u001b[37m\u001b[0m \u001b[1m0s\u001b[0m 18ms/step - duration_outputs_loss: 1.0649 - loss: 3.1181 - note_outputs_loss: 2.0533[['START', 'C:major', '4/4TS', 'D3', 'rest', 'G2', 'D3', 'G2', 'D3', 'G2', 'G2', 'G2', 'G2', 'G2', 'G2', 'G2', 'G2', 'G2', 'G2', 'F#2', 'F#2', 'F#2', 'F#2', 'F#2', 'F#2', 'F#2', 'F#2', 'F#2', 'F#2', 'F#2', 'F#2', 'F#2', 'F#2', 'F#2', 'F#2', 'F#2', 'F#2', 'F#2', 'F#2', 'F#2', 'F#2', 'F#2', 'F#2', 'F#2', 'F#2', 'F#2', 'F#2', 'F#2', 'F#2'], ['0.0', '0.0', '0.0', '0.5', '1.0', '0.5', '0.5', '0.5', '0.5', '0.5', '0.5', '0.5', '0.5', '0.5', '0.5', '0.5', '0.5', '0.5', '0.5', '0.5', '0.5', '0.5', '0.5', '0.5', '0.5', '0.5', '0.5', '0.5', '0.5', '0.5', '0.5', '0.5', '0.5', '0.5', '0.5', '0.5', '0.5', '0.5', '0.5', '0.5', '0.5', '0.5', '0.5', '0.5', '0.5', '0.5', '0.5', '0.5', '0.5']]\n",
            "\u001b[1m459/459\u001b[0m \u001b[32m━━━━━━━━━━━━━━━━━━━━\u001b[0m\u001b[37m\u001b[0m \u001b[1m80s\u001b[0m 91ms/step - duration_outputs_loss: 1.0648 - loss: 3.1181 - note_outputs_loss: 2.0533\n",
            "Epoch 11/50\n",
            "\u001b[1m457/459\u001b[0m \u001b[32m━━━━━━━━━━━━━━━━━━━\u001b[0m\u001b[37m━\u001b[0m \u001b[1m0s\u001b[0m 18ms/step - duration_outputs_loss: 0.9857 - loss: 3.0263 - note_outputs_loss: 2.0406[['START', 'C:major', '4/4TS', 'rest', 'rest', 'rest', 'G2', 'rest', 'G2', 'rest', 'G2', 'rest', 'G2', 'rest', 'G2', 'rest', 'G2', 'rest', 'G2', 'rest', 'G2', 'rest', 'G2', 'rest', 'G2', 'rest', 'G2', 'rest', 'C2', 'rest', 'C5', 'rest', 'C5', 'C5', 'rest', 'C5', 'rest', 'C5', 'rest', 'rest', 'D5', 'rest', 'G5', 'G5', 'F5', 'rest', 'F5', 'rest', 'F5'], ['0.0', '0.5', '0.5', '0.5', '0.5', '0.5', '0.5', '0.5', '0.5', '0.5', '0.5', '0.5', '0.5', '0.5', '0.5', '0.5', '0.5', '0.5', '0.5', '0.5', '0.5', '0.5', '0.5', '0.5', '0.5', '0.5', '0.5', '0.5', '0.5', '0.5', '0.5', '0.5', '0.5', '0.5', '0.5', '0.5', '0.5', '0.5', '0.5', '0.5', '0.5', '0.5', '0.5', '0.5', '0.5', '0.5', '0.5', '0.5', '0.5']]\n",
            "\u001b[1m459/459\u001b[0m \u001b[32m━━━━━━━━━━━━━━━━━━━━\u001b[0m\u001b[37m\u001b[0m \u001b[1m41s\u001b[0m 90ms/step - duration_outputs_loss: 0.9860 - loss: 3.0267 - note_outputs_loss: 2.0407\n",
            "Epoch 12/50\n",
            "\u001b[1m457/459\u001b[0m \u001b[32m━━━━━━━━━━━━━━━━━━━\u001b[0m\u001b[37m━\u001b[0m \u001b[1m0s\u001b[0m 18ms/step - duration_outputs_loss: 1.0356 - loss: 3.0078 - note_outputs_loss: 1.9721[['START', 'C:major', 'rest', 'rest', 'rest', 'rest', 'rest', 'rest', 'rest', 'rest', 'rest', 'rest', 'rest', 'rest', 'rest', 'rest', 'rest', 'rest', 'D6', 'D6', 'rest', 'rest', 'rest', 'rest'], ['0.0', '0.5', '0.5', '0.5', '0.5', '0.5', '0.5', '0.5', '0.5', '0.5', '0.5', '0.5', '0.5', '0.5', '0.5', '0.5', '0.5', '0.5', '0.5', '0.5', '0.5', '0.5', '0.5', '0.5']]\n",
            "\u001b[1m459/459\u001b[0m \u001b[32m━━━━━━━━━━━━━━━━━━━━\u001b[0m\u001b[37m\u001b[0m \u001b[1m24s\u001b[0m 53ms/step - duration_outputs_loss: 1.0356 - loss: 3.0082 - note_outputs_loss: 1.9725\n",
            "Epoch 13/50\n",
            "\u001b[1m458/459\u001b[0m \u001b[32m━━━━━━━━━━━━━━━━━━━\u001b[0m\u001b[37m━\u001b[0m \u001b[1m0s\u001b[0m 17ms/step - duration_outputs_loss: 1.0615 - loss: 3.0656 - note_outputs_loss: 2.0041[['START', 'C:major', '2/4TS', 'D2', 'rest', 'A2', 'rest', 'A1', 'rest', 'A2', 'rest', 'A2', 'rest', 'A1', 'rest', 'A2', 'rest', 'A2', 'rest', 'A1', 'rest', 'A2', 'rest', 'A2', 'rest', 'A2', 'rest', 'A1', 'rest', 'A2', 'A2', 'rest', 'A2', 'rest', 'A1', 'rest', 'A2', 'rest', 'A2', 'rest', 'A1', 'rest', 'A2', 'rest', 'A2', 'rest', 'A2', 'rest', 'A1'], ['0.0', '0.0', '0.5', '0.5', '0.5', '0.5', '0.5', '0.5', '0.5', '0.5', '0.5', '0.5', '0.5', '0.5', '0.5', '0.5', '0.5', '0.5', '0.5', '0.5', '0.5', '0.5', '0.5', '0.5', '0.5', '0.5', '0.5', '0.5', '0.5', '0.5', '0.5', '0.5', '0.5', '0.5', '0.5', '0.5', '0.5', '0.5', '0.5', '0.5', '0.5', '0.5', '0.5', '0.5', '0.5', '0.5', '0.5', '0.5', '0.5']]\n",
            "\u001b[1m459/459\u001b[0m \u001b[32m━━━━━━━━━━━━━━━━━━━━\u001b[0m\u001b[37m\u001b[0m \u001b[1m42s\u001b[0m 92ms/step - duration_outputs_loss: 1.0614 - loss: 3.0655 - note_outputs_loss: 2.0041\n",
            "Epoch 14/50\n",
            "\u001b[1m458/459\u001b[0m \u001b[32m━━━━━━━━━━━━━━━━━━━\u001b[0m\u001b[37m━\u001b[0m \u001b[1m0s\u001b[0m 17ms/step - duration_outputs_loss: 1.0728 - loss: 3.0500 - note_outputs_loss: 1.9772[['START', 'C:major', '2/4TS', 'rest', 'G#6', 'G#6', 'G#6', 'G#6', 'G#6', 'G#6', 'G#6', 'G#6', 'G#6', 'G#6', 'G#6', 'G#6', 'G#6', 'G#6', 'G#6', 'G#6', 'G#6', 'G#6', 'G#6', 'G#6', 'G#6', 'G#6', 'G#6', 'G#6', 'G#6', 'G#6', 'G#6', 'G#6', 'G#6', 'G#6', 'G#6', 'G#6', 'G#6', 'G#6', 'G#6', 'G#6', 'G#6', 'G#6', 'G#6', 'G#6', 'G#6', 'G#6', 'G#6', 'G#6', 'G#6'], ['0.0', '0.0', '0.0', '0.5', '0.5', '0.5', '0.5', '0.5', '1.0', '0.5', '0.5', '0.5', '0.5', '0.5', '0.5', '0.5', '0.5', '0.5', '0.5', '0.5', '0.5', '0.5', '0.5', '0.5', '0.5', '0.5', '0.5', '0.5', '0.5', '0.5', '0.5', '0.5', '0.5', '0.5', '0.5', '0.5', '0.5', '0.5', '0.5', '0.5', '0.5', '0.5', '0.5', '0.5', '0.5', '0.5', '0.5', '0.5', '0.5']]\n",
            "\u001b[1m459/459\u001b[0m \u001b[32m━━━━━━━━━━━━━━━━━━━━\u001b[0m\u001b[37m\u001b[0m \u001b[1m82s\u001b[0m 91ms/step - duration_outputs_loss: 1.0726 - loss: 3.0499 - note_outputs_loss: 1.9772\n",
            "Epoch 15/50\n",
            "\u001b[1m458/459\u001b[0m \u001b[32m━━━━━━━━━━━━━━━━━━━\u001b[0m\u001b[37m━\u001b[0m \u001b[1m0s\u001b[0m 17ms/step - duration_outputs_loss: 1.0342 - loss: 2.9487 - note_outputs_loss: 1.9145[['START', 'C:major', '3/4TS', 'rest', 'F#6', 'F#6', 'F#6', 'F#6', 'rest', 'F#6', 'rest', 'F#6', 'rest', 'F#6', 'rest', 'F#6', 'rest', 'F#6', 'rest', 'F#6', 'rest', 'F#6', 'rest', 'F#6', 'rest', 'F#6', 'rest', 'F#6', 'rest', 'F#6', 'rest', 'F#6', 'rest', 'F#6', 'rest', 'F#6', 'rest', 'F#6', 'rest', 'F#6', 'rest', 'rest', 'F#6', 'rest', 'F#6', 'rest', 'F#6', 'rest', 'F#6'], ['0.0', '0.5', '0.5', '0.5', '0.5', '0.5', '0.5', '0.5', '0.5', '0.5', '0.5', '0.5', '0.5', '0.5', '0.5', '0.5', '0.5', '0.5', '0.5', '0.5', '0.5', '0.5', '0.5', '0.5', '0.5', '0.5', '0.5', '0.5', '0.5', '0.5', '0.5', '0.5', '0.5', '0.5', '0.5', '0.5', '0.5', '0.5', '0.5', '0.5', '0.5', '0.5', '0.5', '0.5', '0.5', '0.5', '0.5', '0.5', '0.5']]\n",
            "\u001b[1m459/459\u001b[0m \u001b[32m━━━━━━━━━━━━━━━━━━━━\u001b[0m\u001b[37m\u001b[0m \u001b[1m43s\u001b[0m 93ms/step - duration_outputs_loss: 1.0342 - loss: 2.9489 - note_outputs_loss: 1.9147\n",
            "Epoch 16/50\n",
            "\u001b[1m457/459\u001b[0m \u001b[32m━━━━━━━━━━━━━━━━━━━\u001b[0m\u001b[37m━\u001b[0m \u001b[1m0s\u001b[0m 18ms/step - duration_outputs_loss: 1.0067 - loss: 2.9201 - note_outputs_loss: 1.9134[['START', 'C:major', '3/4TS', 'F#6', 'F#6', 'F#6', 'F#6', 'F#6', 'F#6', 'F#6', 'F#6', 'F#6', 'F#6', 'F#6', 'F#6', 'F#6', 'F#6', 'F#6', 'F#6', 'F#6', 'F#6', 'F#6', 'F#6', 'F#6', 'F#6', 'F#6', 'F#6', 'F#6', 'F#6', 'F#6', 'F#6', 'F#6', 'F#6', 'F#6', 'F#6', 'F#6', 'F#6', 'F#6', 'F#6', 'F#6', 'F#6', 'F#6', 'F#6', 'F#6', 'F#6', 'F#6', 'F#6', 'F#6', 'F#6'], ['0.0', '0.0', '0.0', '1.0', '1.0', '1.0', '1.0', '1.0', '1.0', '1.0', '1.0', '1.0', '1.0', '1.0', '1.0', '1.0', '1.0', '1.0', '1.0', '1.0', '1.0', '1.0', '1.0', '1.0', '1.0', '1.0', '1.0', '1.0', '1.0', '1.0', '0.5', '1.0', '1.0', '1.0', '1.0', '1.0', '1.0', '1.0', '1.0', '1.0', '1.0', '1.0', '1.0', '1.0', '1.0', '1.0', '1.0', '1.0', '1.0']]\n",
            "\u001b[1m459/459\u001b[0m \u001b[32m━━━━━━━━━━━━━━━━━━━━\u001b[0m\u001b[37m\u001b[0m \u001b[1m42s\u001b[0m 91ms/step - duration_outputs_loss: 1.0069 - loss: 2.9205 - note_outputs_loss: 1.9136\n",
            "Epoch 17/50\n",
            "\u001b[1m459/459\u001b[0m \u001b[32m━━━━━━━━━━━━━━━━━━━━\u001b[0m\u001b[37m\u001b[0m \u001b[1m0s\u001b[0m 18ms/step - duration_outputs_loss: 1.0339 - loss: 2.9041 - note_outputs_loss: 1.8702[['START', 'C:major', '4/4TS', 'E5', 'E5', 'E5', 'E5', 'E5', 'E5', 'E5', 'E5', 'E5', 'E5', 'E5', 'E5', 'E5', 'E5', 'rest', 'D5', 'D5', 'D5', 'D5', 'D5', 'D5', 'D5', 'D5', 'D5', 'D5', 'D5', 'D5', 'D5', 'D5', 'D5', 'D5', 'D5', 'D5', 'D5', 'D5', 'D5', 'D5', 'D5', 'D5', 'D5', 'D5', 'D5', 'D5', 'D5', 'D5', 'D5'], ['0.0', '0.0', '0.5', '0.5', '0.5', '0.5', '0.5', '0.5', '0.5', '0.5', '0.5', '0.5', '0.5', '0.5', '0.5', '0.5', '0.5', '0.5', '0.5', '0.5', '0.5', '0.5', '0.5', '0.5', '0.5', '0.5', '0.5', '0.5', '0.5', '0.5', '0.5', '0.5', '0.5', '0.5', '0.5', '0.5', '0.5', '0.5', '0.5', '0.5', '0.5', '0.5', '0.5', '0.5', '0.5', '0.5', '0.5', '0.5', '0.5']]\n",
            "\u001b[1m459/459\u001b[0m \u001b[32m━━━━━━━━━━━━━━━━━━━━\u001b[0m\u001b[37m\u001b[0m \u001b[1m86s\u001b[0m 101ms/step - duration_outputs_loss: 1.0339 - loss: 2.9042 - note_outputs_loss: 1.8703\n",
            "Epoch 18/50\n",
            "\u001b[1m457/459\u001b[0m \u001b[32m━━━━━━━━━━━━━━━━━━━\u001b[0m\u001b[37m━\u001b[0m \u001b[1m0s\u001b[0m 18ms/step - duration_outputs_loss: 1.0109 - loss: 2.9014 - note_outputs_loss: 1.8905[['START', 'C:major', '4/4TS', 'E5', 'E5', 'E5', 'E5', 'E5', 'E5', 'E5', 'E5', 'E5', 'E5', 'E5', 'E5', 'E5', 'E5', 'E5', 'E5', 'E5', 'E5', 'E5', 'E5', 'E5', 'E5', 'E5', 'E5', 'E5', 'E5', 'E5', 'E5', 'E5', 'E5', 'E5', 'E5', 'E5', 'E5', 'E5', 'E5', 'E5', 'E5', 'E5', 'E5', 'E5', 'E5', 'E5', 'E5', 'E5', 'E5'], ['0.0', '0.0', '0.0', '1.0', '1.0', '1.0', '0.25', '0.25', '0.25', '0.5', '0.5', '0.5', '0.5', '0.5', '0.5', '0.5', '0.5', '0.5', '0.5', '0.5', '0.5', '0.5', '0.5', '0.5', '0.5', '0.5', '0.5', '0.5', '0.5', '0.5', '0.5', '0.5', '0.5', '0.5', '0.5', '0.5', '0.5', '0.5', '0.5', '0.5', '0.5', '0.5', '0.5', '0.5', '0.5', '0.5', '0.5', '0.5', '0.5']]\n",
            "\u001b[1m459/459\u001b[0m \u001b[32m━━━━━━━━━━━━━━━━━━━━\u001b[0m\u001b[37m\u001b[0m \u001b[1m41s\u001b[0m 89ms/step - duration_outputs_loss: 1.0110 - loss: 2.9015 - note_outputs_loss: 1.8905\n",
            "Epoch 19/50\n",
            "\u001b[1m458/459\u001b[0m \u001b[32m━━━━━━━━━━━━━━━━━━━\u001b[0m\u001b[37m━\u001b[0m \u001b[1m0s\u001b[0m 18ms/step - duration_outputs_loss: 1.0336 - loss: 2.9078 - note_outputs_loss: 1.8743[['START', 'C:major', '2/4TS', 'rest', 'rest', 'rest', 'rest', 'rest', 'rest', 'rest', 'rest', 'rest', 'rest', 'rest', 'rest', 'rest', 'rest', 'rest', 'rest', 'rest', 'rest', 'rest', 'rest', 'rest', 'rest', 'rest', 'rest', 'rest', 'rest', 'rest', 'rest', 'rest', 'rest', 'rest', 'rest', 'rest', 'rest', 'rest', 'rest', 'rest', 'rest', 'rest', 'rest', 'rest', 'rest', 'rest', 'rest', 'rest', 'rest'], ['0.0', '0.5', '0.5', '0.5', '0.5', '0.5', '0.5', '0.5', '0.5', '0.5', '0.5', '0.5', '0.5', '0.5', '0.5', '0.5', '0.5', '0.5', '0.5', '0.5', '0.5', '0.5', '0.5', '0.5', '0.5', '0.5', '0.5', '0.5', '0.5', '0.5', '0.5', '0.5', '0.5', '0.5', '0.5', '0.5', '0.5', '0.5', '0.5', '0.5', '0.5', '0.5', '0.5', '0.5', '0.5', '0.5', '0.5', '0.5', '0.5']]\n",
            "\u001b[1m459/459\u001b[0m \u001b[32m━━━━━━━━━━━━━━━━━━━━\u001b[0m\u001b[37m\u001b[0m \u001b[1m41s\u001b[0m 89ms/step - duration_outputs_loss: 1.0336 - loss: 2.9079 - note_outputs_loss: 1.8743\n",
            "Epoch 20/50\n",
            "\u001b[1m458/459\u001b[0m \u001b[32m━━━━━━━━━━━━━━━━━━━\u001b[0m\u001b[37m━\u001b[0m \u001b[1m0s\u001b[0m 18ms/step - duration_outputs_loss: 1.0615 - loss: 2.8881 - note_outputs_loss: 1.8266[['START', 'C:major', '4/4TS', 'E5', 'E5', 'E5', 'E5', 'E5', 'E5', 'E5', 'E5', 'E5', 'E5', 'E5', 'E5', 'E5', 'E5', 'E5', 'E5', 'E5', 'E5', 'E5', 'E5', 'E5', 'E5', 'E5', 'E5', 'E5', 'E5', 'E5', 'E5', 'E5', 'E5', 'E5', 'E5', 'D5', 'E5', 'E5', 'E5', 'E5', 'E5', 'E5', 'E5', 'E5', 'E5', 'E5', 'E5', 'E5', 'E5'], ['0.0', '0.0', '0.5', '0.5', '0.5', '0.5', '0.5', '0.5', '0.5', '0.5', '0.5', '0.5', '0.5', '0.5', '0.5', '0.5', '0.5', '0.5', '0.5', '0.5', '0.5', '0.5', '0.5', '0.5', '0.5', '0.5', '0.5', '0.5', '0.5', '0.5', '0.5', '0.5', '0.5', '0.5', '0.5', '0.5', '0.5', '0.5', '0.5', '0.25', '0.5', '0.5', '0.5', '0.5', '0.5', '0.5', '0.5', '0.5', '0.5']]\n",
            "\u001b[1m459/459\u001b[0m \u001b[32m━━━━━━━━━━━━━━━━━━━━\u001b[0m\u001b[37m\u001b[0m \u001b[1m42s\u001b[0m 91ms/step - duration_outputs_loss: 1.0614 - loss: 2.8881 - note_outputs_loss: 1.8268\n",
            "Epoch 21/50\n",
            "\u001b[1m458/459\u001b[0m \u001b[32m━━━━━━━━━━━━━━━━━━━\u001b[0m\u001b[37m━\u001b[0m \u001b[1m0s\u001b[0m 18ms/step - duration_outputs_loss: 1.0597 - loss: 2.8820 - note_outputs_loss: 1.8223[['START', 'C:major', '4/4TS', 'E5', 'E5', 'E5', 'E5', 'E5', 'E5', 'E5', 'E5', 'E5', 'E5', 'E5', 'E5', 'E5', 'E5', 'E5', 'E5', 'E5', 'E5', 'E5', 'E5', 'E5', 'E5', 'E5', 'E5', 'E5', 'E5', 'E5', 'E5', 'E5', 'E5', 'E5', 'E5', 'E5', 'E5', 'E5', 'E5', 'F5', 'G#4', 'E4', 'E5', 'E5', 'E5', 'E5', 'C#5', 'C#5', 'C#5'], ['0.0', '0.25', '0.0', '0.5', '1.0', '1.0', '0.5', '0.5', '0.5', '0.5', '0.5', '0.5', '0.5', '0.5', '0.5', '0.5', '0.5', '0.5', '0.5', '0.5', '0.5', '0.5', '0.5', '0.5', '0.5', '0.5', '0.5', '0.5', '0.5', '0.5', '0.5', '0.5', '0.5', '0.5', '0.5', '0.5', '0.5', '0.5', '0.5', '0.5', '0.5', '0.5', '0.5', '0.5', '0.5', '0.5', '0.5', '0.5', '0.5']]\n",
            "\u001b[1m459/459\u001b[0m \u001b[32m━━━━━━━━━━━━━━━━━━━━\u001b[0m\u001b[37m\u001b[0m \u001b[1m41s\u001b[0m 90ms/step - duration_outputs_loss: 1.0596 - loss: 2.8819 - note_outputs_loss: 1.8224\n",
            "Epoch 22/50\n",
            "\u001b[1m458/459\u001b[0m \u001b[32m━━━━━━━━━━━━━━━━━━━\u001b[0m\u001b[37m━\u001b[0m \u001b[1m0s\u001b[0m 20ms/step - duration_outputs_loss: 1.0661 - loss: 2.8461 - note_outputs_loss: 1.7800[['START', 'C:major', '3/4TS', 'rest', 'rest', 'rest', 'rest', 'rest', 'rest', 'rest', 'rest', 'G#2', 'rest', 'rest', 'rest', 'G#2', 'rest', 'A2', 'rest', 'rest', 'rest', 'rest', 'rest', 'rest', 'rest', 'rest', 'rest', 'rest', 'rest', 'G#2', 'rest', 'A2', 'rest', 'rest', 'rest', 'rest', 'rest', 'rest', 'rest', 'rest', 'rest', 'rest', 'rest', 'rest', 'rest', 'G#2', 'rest', 'G#2', 'rest'], ['0.0', '0.0', '0.0', '0.5', '0.5', '0.5', '0.5', '0.5', '0.5', '1.0', '1.0', '1.0', '1.0', '1.0', '1.0', '1.0', '1.0', '1.0', '1.0', '1.0', '1.0', '1.0', '1.0', '1.0', '1.0', '1.0', '1.0', '1.0', '1.0', '1.0', '1.0', '1.0', '1.0', '1.0', '1.0', '1.0', '1.0', '1.0', '1.0', '1.0', '1.0', '1.0', '1.0', '1.0', '1.0', '1.0', '1.0', '1.0', '1.0']]\n",
            "\u001b[1m459/459\u001b[0m \u001b[32m━━━━━━━━━━━━━━━━━━━━\u001b[0m\u001b[37m\u001b[0m \u001b[1m45s\u001b[0m 98ms/step - duration_outputs_loss: 1.0659 - loss: 2.8461 - note_outputs_loss: 1.7802\n",
            "Epoch 23/50\n",
            "\u001b[1m459/459\u001b[0m \u001b[32m━━━━━━━━━━━━━━━━━━━━\u001b[0m\u001b[37m\u001b[0m \u001b[1m0s\u001b[0m 19ms/step - duration_outputs_loss: 1.0655 - loss: 2.8653 - note_outputs_loss: 1.7998[['START', 'C:major', '4/4TS', 'E5', 'E5', 'E5', 'E5', 'E5', 'E5', 'rest', 'E5', 'D5', 'D5', 'D5', 'D5', 'D5', 'D5', 'D5', 'D5', 'D5', 'D5', 'D5', 'D5', 'D5', 'D5', 'D5', 'D5', 'D5', 'D5', 'D5', 'D5', 'D5', 'D5', 'D5', 'D5', 'D5', 'D5', 'D5', 'D5', 'D5', 'D5', 'D5', 'D5', 'D5', 'D5', 'D5', 'D5', 'D5', 'D5'], ['0.0', '0.5', '0.5', '0.5', '0.5', '0.5', '0.5', '0.5', '0.5', '0.5', '0.5', '0.5', '0.5', '0.5', '0.5', '0.5', '0.5', '0.5', '0.5', '0.5', '0.5', '0.5', '0.5', '0.5', '0.5', '0.5', '0.5', '0.5', '0.5', '0.25', '0.25', '0.25', '0.25', '0.5', '0.5', '0.5', '0.25', '0.25', '0.5', '0.5', '0.5', '0.5', '0.25', '0.25', '0.25', '0.25', '0.25', '0.25', '0.25']]\n",
            "\u001b[1m459/459\u001b[0m \u001b[32m━━━━━━━━━━━━━━━━━━━━\u001b[0m\u001b[37m\u001b[0m \u001b[1m43s\u001b[0m 93ms/step - duration_outputs_loss: 1.0655 - loss: 2.8653 - note_outputs_loss: 1.7998\n",
            "Epoch 24/50\n",
            "\u001b[1m459/459\u001b[0m \u001b[32m━━━━━━━━━━━━━━━━━━━━\u001b[0m\u001b[37m\u001b[0m \u001b[1m0s\u001b[0m 18ms/step - duration_outputs_loss: 1.0396 - loss: 2.8369 - note_outputs_loss: 1.7973[['START', 'C:major', '2/4TS', 'E3', 'E4', 'E3', 'rest', 'A2', 'rest', 'A1', 'rest', 'A2', 'rest', 'A2', 'rest', 'G2', 'G2', 'G2', 'G2', 'G2', 'G2', 'G2', 'G2', 'G2', 'G2', 'G2', 'G2', 'G2', 'G2', 'G2', 'G2', 'G2', 'G2', 'G2', 'G2', 'G2', 'G2', 'G2', 'G2', 'G2', 'G2', 'G2', 'G2', 'G2', 'G2', 'G2', 'G2', 'G2', 'G2'], ['0.0', '0.5', '0.5', '0.5', '0.5', '0.5', '0.5', '0.5', '0.5', '0.5', '0.5', '0.5', '0.5', '0.5', '0.5', '0.5', '0.5', '0.5', '0.5', '0.5', '0.5', '0.5', '0.5', '0.5', '0.5', '0.5', '0.5', '0.5', '0.5', '0.5', '0.5', '0.5', '0.5', '0.5', '0.5', '0.5', '0.5', '0.5', '0.5', '0.5', '0.5', '0.5', '0.5', '0.5', '0.5', '0.5', '0.5', '0.5', '0.5']]\n",
            "\u001b[1m459/459\u001b[0m \u001b[32m━━━━━━━━━━━━━━━━━━━━\u001b[0m\u001b[37m\u001b[0m \u001b[1m43s\u001b[0m 93ms/step - duration_outputs_loss: 1.0396 - loss: 2.8369 - note_outputs_loss: 1.7973\n",
            "Epoch 25/50\n",
            "\u001b[1m458/459\u001b[0m \u001b[32m━━━━━━━━━━━━━━━━━━━\u001b[0m\u001b[37m━\u001b[0m \u001b[1m0s\u001b[0m 18ms/step - duration_outputs_loss: 1.0844 - loss: 2.8649 - note_outputs_loss: 1.7805[['START', 'C:major', '4/4TS', 'rest', 'rest', 'B-3', 'rest', 'B-3', 'rest', 'B-3', 'rest', 'D4', 'D4', 'D4', 'D4', 'D4', 'D4', 'D4', 'D4', 'D4', 'D4', 'D4', 'D4', 'B-3', 'D5', 'D5', 'D5', 'D5', 'D5', 'D5', 'C5', 'A4', 'C5', 'C5', 'C5', 'C5', 'C5', 'B-4', 'B-4', 'B-4', 'B-4', 'B-4', 'B-4', 'B-4', 'B-4', 'B-4', 'B-4', 'B-4', 'B-4'], ['0.0', '0.0', '0.0', '1.0', '1.0', '1.0', '1.0', '1.0', '0.5', '1.0', '1.0', '1.0', '1.0', '1.0', '1.0', '1.0', '1.0', '1.0', '1.0', '1.0', '1.0', '1.0', '1.0', '1.0', '0.5', '0.5', '0.5', '0.5', '0.5', '0.5', '0.5', '1.0', '1.0', '1.0', '1.0', '1.0', '1.0', '1.0', '1.0', '1.0', '1.0', '1.0', '1.0', '1.0', '1.0', '1.0', '1.0', '1.0', '1.0']]\n",
            "\u001b[1m459/459\u001b[0m \u001b[32m━━━━━━━━━━━━━━━━━━━━\u001b[0m\u001b[37m\u001b[0m \u001b[1m42s\u001b[0m 92ms/step - duration_outputs_loss: 1.0841 - loss: 2.8646 - note_outputs_loss: 1.7805\n",
            "Epoch 26/50\n",
            "\u001b[1m457/459\u001b[0m \u001b[32m━━━━━━━━━━━━━━━━━━━\u001b[0m\u001b[37m━\u001b[0m \u001b[1m0s\u001b[0m 18ms/step - duration_outputs_loss: 1.0157 - loss: 2.7156 - note_outputs_loss: 1.6999[['START', 'C:major', '4/4TS', 'rest', 'rest', 'rest', 'rest', 'rest', 'rest', 'rest', 'rest', 'rest', 'rest', 'rest', 'rest', 'rest', 'rest', 'rest', 'rest', 'rest', 'rest', 'rest', 'rest', 'rest', 'rest', 'rest', 'rest', 'rest', 'rest', 'rest', 'rest', 'rest', 'rest', 'A4', 'rest', 'B-4', 'rest', 'A4', 'rest', 'B-4', 'rest', 'B4', 'F#4', 'rest', 'G4', 'rest', 'F#4', 'rest', 'rest'], ['0.0', '1.0', '1.0', '1.0', '1.0', '1.0', '1.0', '1.0', '1.0', '1.0', '1.0', '1.0', '1.0', '1.0', '1.0', '1.0', '1.0', '1.0', '1.0', '1.0', '1.0', '1.0', '1.0', '1.0', '1.0', '1.0', '1.0', '1.0', '1.0', '1.0', '1.0', '1.0', '1.0', '1.0', '1.0', '1.0', '1.0', '1.0', '1.0', '1.0', '0.5', '1.0', '1.0', '1.0', '1.0', '1.0', '1.0', '1.0', '1.0']]\n",
            "\u001b[1m459/459\u001b[0m \u001b[32m━━━━━━━━━━━━━━━━━━━━\u001b[0m\u001b[37m\u001b[0m \u001b[1m42s\u001b[0m 91ms/step - duration_outputs_loss: 1.0158 - loss: 2.7161 - note_outputs_loss: 1.7003\n",
            "Epoch 27/50\n",
            "\u001b[1m457/459\u001b[0m \u001b[32m━━━━━━━━━━━━━━━━━━━\u001b[0m\u001b[37m━\u001b[0m \u001b[1m0s\u001b[0m 20ms/step - duration_outputs_loss: 1.0435 - loss: 2.7323 - note_outputs_loss: 1.6888[['START', 'C:major', '4/4TS', 'rest', 'rest', 'rest', 'rest', 'rest', 'B-3', 'rest', 'B-3', 'rest', 'D4', 'D4', 'D4', 'D4', 'D4', 'D4', 'B-3', 'A3', 'A3', 'B-3', 'B-3', 'B-3', 'B-3', 'B-3', 'B-3', 'B-3', 'rest', 'D4', 'D4', 'D4', 'D4', 'D4', 'D4', 'F3', 'B-3', 'B-3', 'B-3', 'B-3', 'B-3', 'F3', 'F3', 'F3', 'F3', 'F3', 'F3', 'F3', 'F3'], ['0.0', '1.0', '1.0', '1.0', '1.0', '1.0', '1.0', '1.0', '1.0', '1.0', '1.0', '1.0', '1.0', '1.0', '1.0', '1.0', '1.0', '1.0', '1.0', '1.0', '1.0', '1.0', '1.0', '1.0', '1.0', '1.0', '1.0', '1.0', '1.0', '1.0', '1.0', '1.0', '1.0', '1.0', '1.0', '1.0', '1.0', '1.0', '1.0', '1.0', '1.0', '1.0', '1.0', '1.0', '1.0', '1.0', '1.0', '1.0', '1.0']]\n",
            "\u001b[1m459/459\u001b[0m \u001b[32m━━━━━━━━━━━━━━━━━━━━\u001b[0m\u001b[37m\u001b[0m \u001b[1m84s\u001b[0m 95ms/step - duration_outputs_loss: 1.0434 - loss: 2.7326 - note_outputs_loss: 1.6892\n",
            "Epoch 28/50\n",
            "\u001b[1m456/459\u001b[0m \u001b[32m━━━━━━━━━━━━━━━━━━━\u001b[0m\u001b[37m━\u001b[0m \u001b[1m0s\u001b[0m 18ms/step - duration_outputs_loss: 0.9890 - loss: 2.6662 - note_outputs_loss: 1.6773[['START', 'C:major', '4/4TS', 'E5', 'E5', 'E5', 'E5', 'E5', 'E5', 'E5', 'E5', 'E5', 'F#5', 'F#5', 'F#5', 'D5', 'D5', 'D5', 'D5', 'D5', 'C#5', 'C#5', 'D5', 'D5', 'E5', 'F#5', 'E5', 'G5', 'G5', 'F#5', 'F#5', 'F#5', 'D5', 'D5', 'D5', 'D5', 'D5', 'D5', 'D5', 'D5', 'D5', 'D5', 'D5', 'D5', 'D5', 'D5', 'D5', 'D5', 'D5'], ['0.0', '0.0', '0.0', '0.5', '0.5', '0.5', '0.5', '0.5', '0.5', '0.5', '0.5', '0.5', '0.5', '0.5', '0.5', '0.5', '0.5', '0.5', '0.5', '0.25', '0.25', '0.25', '0.25', '0.25', '0.25', '0.5', '0.25', '0.25', '0.5', '0.5', '0.5', '0.5', '0.5', '0.5', '0.5', '0.25', '1.0', '0.5', '0.5', '0.5', '0.5', '0.5', '0.5', '0.5', '0.5', '0.5', '0.5', '0.5', '0.5']]\n",
            "\u001b[1m459/459\u001b[0m \u001b[32m━━━━━━━━━━━━━━━━━━━━\u001b[0m\u001b[37m\u001b[0m \u001b[1m42s\u001b[0m 90ms/step - duration_outputs_loss: 0.9893 - loss: 2.6671 - note_outputs_loss: 1.6778\n",
            "Epoch 29/50\n",
            "\u001b[1m457/459\u001b[0m \u001b[32m━━━━━━━━━━━━━━━━━━━\u001b[0m\u001b[37m━\u001b[0m \u001b[1m0s\u001b[0m 18ms/step - duration_outputs_loss: 1.0384 - loss: 2.7363 - note_outputs_loss: 1.6979[['START', 'C:major', '4/4TS', 'E5', 'E5', 'E5', 'E5', 'E5', 'E5', 'E5', 'E5', 'E5', 'E5', 'E5', 'E5', 'E5', 'E5', 'E5', 'E5', 'E5', 'E5', 'E5', 'E5', 'E5', 'E5', 'E5', 'E5', 'E5', 'E5', 'E5', 'E5', 'E5', 'E5', 'E5', 'E5', 'E5', 'G#5', 'G#5', 'G#5', 'G#5', 'G#5', 'G#5', 'G#5', 'G#5', 'G#5', 'G#5', 'G#5', 'G#5', 'G#5'], ['0.0', '1.0', '1.0', '1.0', '1.0', '1.0', '1.0', '1.0', '1.0', '1.0', '1.0', '1.0', '1.0', '1.0', '1.0', '1.0', '1.0', '1.0', '1.0', '1.0', '1.0', '1.0', '1.0', '1.0', '1.0', '1.0', '1.0', '1.0', '1.0', '1.0', '1.0', '1.0', '1.0', '1.0', '1.0', '1.0', '1.0', '1.0', '1.0', '1.0', '1.0', '1.0', '1.0', '1.0', '1.0', '1.0', '1.0', '1.0', '1.0']]\n",
            "\u001b[1m459/459\u001b[0m \u001b[32m━━━━━━━━━━━━━━━━━━━━\u001b[0m\u001b[37m\u001b[0m \u001b[1m82s\u001b[0m 92ms/step - duration_outputs_loss: 1.0383 - loss: 2.7363 - note_outputs_loss: 1.6980\n",
            "Epoch 30/50\n",
            "\u001b[1m458/459\u001b[0m \u001b[32m━━━━━━━━━━━━━━━━━━━\u001b[0m\u001b[37m━\u001b[0m \u001b[1m0s\u001b[0m 18ms/step - duration_outputs_loss: 1.0619 - loss: 2.7497 - note_outputs_loss: 1.6878[['START', 'C:major', '4/4TS', 'E5', 'E5', 'E5', 'E5', 'E5', 'F5', 'F5', 'F5', 'F5', 'F5', 'F5', 'F5', 'F5', 'F5', 'F5', 'F5', 'F5', 'F5', 'F5', 'F5', 'F5', 'F5', 'F5', 'F5', 'F5', 'F5', 'F5', 'F5', 'F5', 'F5', 'F5', 'F5', 'F5', 'F5', 'F5', 'F5', 'F5', 'F5', 'F5', 'F5', 'F5', 'F5', 'F5', 'F5', 'F5', 'F5'], ['0.0', '0.0', '0.5', '0.5', '0.5', '0.5', '0.5', '0.5', '0.5', '0.5', '0.5', '0.5', '0.5', '0.5', '0.5', '0.5', '0.5', '0.5', '0.5', '0.5', '0.5', '0.5', '0.5', '0.5', '0.5', '0.5', '0.5', '0.5', '0.5', '0.5', '0.5', '0.5', '0.5', '0.5', '0.5', '0.5', '0.5', '0.5', '0.5', '0.5', '0.5', '0.5', '0.5', '0.5', '0.5', '0.5', '0.5', '0.5', '0.5']]\n",
            "\u001b[1m459/459\u001b[0m \u001b[32m━━━━━━━━━━━━━━━━━━━━\u001b[0m\u001b[37m\u001b[0m \u001b[1m41s\u001b[0m 90ms/step - duration_outputs_loss: 1.0617 - loss: 2.7496 - note_outputs_loss: 1.6879\n",
            "Epoch 31/50\n",
            "\u001b[1m458/459\u001b[0m \u001b[32m━━━━━━━━━━━━━━━━━━━\u001b[0m\u001b[37m━\u001b[0m \u001b[1m0s\u001b[0m 18ms/step - duration_outputs_loss: 0.9940 - loss: 2.6647 - note_outputs_loss: 1.6706[['START', 'C:major', '2/4TS', 'D2', 'rest', 'A2', 'rest', 'A1', 'rest', 'A2', 'rest', 'A2', 'rest', 'rest', 'rest', 'rest', 'rest', 'rest', 'rest', 'rest', 'rest', 'rest', 'rest', 'rest', 'rest', 'rest', 'rest', 'rest', 'rest', 'G#2', 'rest', 'rest', 'A2', 'D5', 'D5', 'A2', 'D5', 'rest', 'C#5', 'C#5', 'rest', 'rest', 'rest', 'rest', 'rest', 'rest', 'rest', 'rest', 'rest'], ['0.0', '1.0', '1.0', '1.0', '1.0', '1.0', '1.0', '1.0', '1.0', '1.0', '1.0', '1.0', '1.0', '1.0', '1.0', '1.0', '1.0', '1.0', '1.0', '1.0', '1.0', '1.0', '1.0', '1.0', '1.0', '1.0', '1.0', '1.0', '1.0', '1.0', '1.0', '1.0', '1.0', '1.0', '1.0', '1.0', '1.0', '1.0', '1.0', '1.0', '1.0', '1.0', '1.0', '1.0', '1.0', '1.0', '1.0', '1.0', '1.0']]\n",
            "\u001b[1m459/459\u001b[0m \u001b[32m━━━━━━━━━━━━━━━━━━━━\u001b[0m\u001b[37m\u001b[0m \u001b[1m45s\u001b[0m 97ms/step - duration_outputs_loss: 0.9942 - loss: 2.6649 - note_outputs_loss: 1.6707\n",
            "Epoch 32/50\n",
            "\u001b[1m457/459\u001b[0m \u001b[32m━━━━━━━━━━━━━━━━━━━\u001b[0m\u001b[37m━\u001b[0m \u001b[1m0s\u001b[0m 18ms/step - duration_outputs_loss: 1.0251 - loss: 2.6883 - note_outputs_loss: 1.6633[['START', 'C:major', '2/4TS', 'E3', 'F#4', 'E3', 'F#4', 'E3', 'rest', 'G4', 'E3', 'E-4', 'E3', 'rest', 'E-4', 'E3', 'E-4', 'E3', 'F#4', 'E3', 'E-4', 'E3', 'rest', 'E3', 'rest', 'F#4', 'F#4', 'F#4', 'F#4', 'F#4', 'F#4', 'F#4', 'F#4', 'F#4', 'F#4', 'F#4', 'F#4', 'F#4', 'F#4', 'F#4', 'F#4', 'F#4', 'F#4', 'F#4', 'F#4', 'F#4', 'F#4', 'F#4', 'F#4'], ['0.0', '0.0', '1.0', '1.0', '1.0', '1.0', '1.0', '1.0', '1.0', '1.0', '1.0', '1.0', '1.0', '1.0', '1.0', '1.0', '1.0', '1.0', '1.0', '1.0', '1.0', '1.0', '1.0', '1.0', '1.0', '1.0', '1.0', '1.0', '1.0', '1.0', '1.0', '1.0', '1.0', '1.0', '1.0', '1.0', '1.0', '1.0', '1.0', '1.0', '1.0', '1.0', '1.0', '1.0', '1.0', '1.0', '1.0', '1.0', '1.0']]\n",
            "\u001b[1m459/459\u001b[0m \u001b[32m━━━━━━━━━━━━━━━━━━━━\u001b[0m\u001b[37m\u001b[0m \u001b[1m80s\u001b[0m 92ms/step - duration_outputs_loss: 1.0251 - loss: 2.6886 - note_outputs_loss: 1.6634\n",
            "Epoch 33/50\n",
            "\u001b[1m457/459\u001b[0m \u001b[32m━━━━━━━━━━━━━━━━━━━\u001b[0m\u001b[37m━\u001b[0m \u001b[1m0s\u001b[0m 17ms/step - duration_outputs_loss: 1.0447 - loss: 2.6628 - note_outputs_loss: 1.6181[['START', 'C:major', '4/4TS', 'rest', 'rest', 'rest', 'rest', 'E5', 'rest', 'E5', 'rest', 'E5', 'rest', 'C5', 'rest', 'E5', 'rest', 'E5', 'rest', 'E5', 'E5', 'rest', 'E5', 'rest', 'rest', 'D5', 'rest', 'D5', 'rest', 'D5', 'rest', 'D5', 'rest', 'D5', 'rest', 'G4', 'rest', 'D5', 'rest', 'D5', 'rest', 'D5', 'rest', 'D5', 'rest', 'D5', 'rest', 'D5', 'rest'], ['0.0', '0.0', '1.0', '1.0', '0.5', '0.5', '1.0', '1.0', '1.0', '1.0', '1.0', '1.0', '1.0', '1.0', '1.0', '1.0', '1.0', '1.0', '1.0', '1.0', '1.0', '1.0', '1.0', '1.0', '1.0', '1.0', '1.0', '1.0', '1.0', '1.0', '1.0', '1.0', '1.0', '0.5', '1.0', '1.0', '1.0', '1.0', '0.5', '0.5', '1.0', '1.0', '1.0', '1.0', '0.5', '0.5', '1.0', '1.0', '1.0']]\n",
            "\u001b[1m459/459\u001b[0m \u001b[32m━━━━━━━━━━━━━━━━━━━━\u001b[0m\u001b[37m\u001b[0m \u001b[1m82s\u001b[0m 92ms/step - duration_outputs_loss: 1.0446 - loss: 2.6629 - note_outputs_loss: 1.6183\n",
            "Epoch 34/50\n",
            "\u001b[1m458/459\u001b[0m \u001b[32m━━━━━━━━━━━━━━━━━━━\u001b[0m\u001b[37m━\u001b[0m \u001b[1m0s\u001b[0m 17ms/step - duration_outputs_loss: 0.9960 - loss: 2.6131 - note_outputs_loss: 1.6172[['START', 'C:major', '3/4TS', 'rest', 'rest', 'rest', 'F#5', 'rest', 'F#5', 'rest', 'E5', 'rest', 'rest', 'D5', 'C#5', 'rest', 'E5', 'E5', 'rest', 'E5', 'E5', 'D5', 'rest', 'C#5', 'rest', 'E5', 'rest', 'F#5', 'D6', 'F#6', 'F#6', 'F#6', 'F#6', 'F#6', 'F#6', 'F#6', 'F#6', 'F#6', 'F#6', 'F#6', 'F#6', 'F#6', 'F#6', 'F#6', 'F#6', 'F#6', 'F#6', 'F#6', 'F#6'], ['0.0', '1.0', '1.0', '1.0', '1.0', '1.0', '1.0', '1.0', '1.0', '1.0', '1.0', '1.0', '1.0', '1.0', '1.0', '1.0', '1.0', '1.0', '1.0', '1.0', '1.0', '1.0', '1.0', '1.0', '1.0', '1.0', '1.0', '1.0', '1.0', '1.0', '1.0', '1.0', '1.0', '1.0', '1.0', '1.0', '1.0', '1.0', '1.0', '1.0', '1.0', '1.0', '1.0', '1.0', '1.0', '1.0', '1.0', '1.0', '1.0']]\n",
            "\u001b[1m459/459\u001b[0m \u001b[32m━━━━━━━━━━━━━━━━━━━━\u001b[0m\u001b[37m\u001b[0m \u001b[1m42s\u001b[0m 92ms/step - duration_outputs_loss: 0.9961 - loss: 2.6134 - note_outputs_loss: 1.6174\n",
            "Epoch 35/50\n",
            "\u001b[1m458/459\u001b[0m \u001b[32m━━━━━━━━━━━━━━━━━━━\u001b[0m\u001b[37m━\u001b[0m \u001b[1m0s\u001b[0m 18ms/step - duration_outputs_loss: 0.9870 - loss: 2.5938 - note_outputs_loss: 1.6068[['START', 'C:major', '4/4TS', 'E5', 'E5', 'E5', 'E5', 'E5', 'E5', 'E5', 'E5', 'E5', 'E5', 'E5', 'E5', 'E5', 'E5', 'E5', 'E5', 'E5', 'E5', 'E5', 'E5', 'E5', 'E5', 'E5', 'E5', 'E5', 'E5', 'E5', 'E5', 'E5', 'E5', 'E5', 'E5', 'E5', 'E5', 'E5', 'E5', 'E5', 'E5', 'E5', 'E5', 'E5', 'E5', 'E5', 'E5', 'E5', 'E5'], ['0.0', '0.0', '0.0', '0.5', '0.5', '1.0', '0.5', '1.0', '1.0', '1.0', '1.0', '1.0', '1.0', '1.0', '1.0', '1.0', '1.0', '1.0', '1.0', '1.0', '1.0', '1.0', '1.0', '1.0', '1.0', '1.0', '1.0', '1.0', '1.0', '1.0', '1.0', '1.0', '1.0', '1.0', '1.0', '1.0', '1.0', '1.0', '1.0', '0.5', '0.5', '1.0', '1.0', '0.5', '1.0', '1.0', '1.0', '1.0', '1.0']]\n",
            "\u001b[1m459/459\u001b[0m \u001b[32m━━━━━━━━━━━━━━━━━━━━\u001b[0m\u001b[37m\u001b[0m \u001b[1m43s\u001b[0m 94ms/step - duration_outputs_loss: 0.9871 - loss: 2.5941 - note_outputs_loss: 1.6070\n",
            "Epoch 36/50\n",
            "\u001b[1m459/459\u001b[0m \u001b[32m━━━━━━━━━━━━━━━━━━━━\u001b[0m\u001b[37m\u001b[0m \u001b[1m0s\u001b[0m 17ms/step - duration_outputs_loss: 1.0879 - loss: 2.7094 - note_outputs_loss: 1.6215[['START', 'C:major', '4/4TS', 'rest', 'E5', 'E5', 'E5', 'E5', 'E5', 'E5', 'E5', 'E5', 'E5', 'E5', 'E5', 'E5', 'E5', 'E5', 'E5', 'E5', 'E5', 'E5', 'E5', 'E5', 'E5', 'E5', 'E5', 'E5', 'E5', 'E5', 'E5', 'E5', 'E5', 'E5', 'E5', 'E5', 'E5', 'E5', 'E5', 'E5', 'E5', 'E5', 'E5', 'E5', 'E5', 'E5', 'E5', 'E5', 'E5'], ['0.0', '1.0', '1.0', '1.0', '1.0', '1.0', '1.0', '1.0', '1.0', '1.0', '1.0', '1.0', '1.0', '1.0', '1.0', '1.0', '1.0', '1.0', '1.0', '1.0', '1.0', '1.0', '1.0', '1.0', '1.0', '1.0', '1.0', '2.0', '1.0', '1.0', '1.0', '1.0', '1.0', '1.0', '1.0', '1.0', '1.0', '1.0', '0.5', '0.5', '1.0', '0.5', '0.5', '0.5', '0.5', '0.5', '0.5', '0.5', '0.5']]\n",
            "\u001b[1m459/459\u001b[0m \u001b[32m━━━━━━━━━━━━━━━━━━━━\u001b[0m\u001b[37m\u001b[0m \u001b[1m43s\u001b[0m 94ms/step - duration_outputs_loss: 1.0878 - loss: 2.7093 - note_outputs_loss: 1.6215\n",
            "Epoch 37/50\n",
            "\u001b[1m457/459\u001b[0m \u001b[32m━━━━━━━━━━━━━━━━━━━\u001b[0m\u001b[37m━\u001b[0m \u001b[1m0s\u001b[0m 18ms/step - duration_outputs_loss: 1.0276 - loss: 2.6523 - note_outputs_loss: 1.6247[['START', 'C:major', '2/4TS', 'D2', 'rest', 'A1', 'rest', 'A2', 'rest', 'A1', 'rest', 'A2', 'rest', 'D5', 'C#5', 'D5', 'C#5', 'D5', 'C#5', 'B4', 'rest', 'A4', 'rest', 'A5', 'rest', 'G#5', 'F#5', 'D6', 'F#6', 'F#6', 'F#6', 'F#6', 'F#6', 'F#6', 'F#6', 'F#6', 'F#6', 'F#6', 'F#6', 'F#6', 'F#6', 'F#6', 'F#6', 'F#6', 'F#6', 'F#6', 'F#6', 'F#6', 'F#6'], ['0.0', '0.5', '0.5', '0.5', '0.5', '0.5', '0.5', '0.5', '0.5', '0.5', '0.5', '0.5', '0.5', '0.5', '0.5', '0.5', '0.5', '0.5', '0.5', '0.5', '0.5', '0.5', '0.5', '0.5', '0.5', '0.5', '0.5', '0.5', '0.5', '0.5', '0.5', '0.5', '0.5', '0.5', '0.5', '0.5', '0.5', '0.5', '0.5', '0.5', '0.5', '0.5', '0.5', '0.5', '0.5', '0.5', '0.5', '0.5', '0.5']]\n",
            "\u001b[1m459/459\u001b[0m \u001b[32m━━━━━━━━━━━━━━━━━━━━\u001b[0m\u001b[37m\u001b[0m \u001b[1m43s\u001b[0m 94ms/step - duration_outputs_loss: 1.0276 - loss: 2.6522 - note_outputs_loss: 1.6247\n",
            "Epoch 38/50\n",
            "\u001b[1m459/459\u001b[0m \u001b[32m━━━━━━━━━━━━━━━━━━━━\u001b[0m\u001b[37m\u001b[0m \u001b[1m0s\u001b[0m 18ms/step - duration_outputs_loss: 1.0813 - loss: 2.6714 - note_outputs_loss: 1.5901[['START', 'G:major', '2/4TS', 'E3', 'E4', 'E3', 'E3', 'E3', 'E3', 'E3', 'E3', 'E3', 'E3', 'E3', 'E3', 'E3', 'E3', 'E3', 'E3', 'E3', 'E3', 'E3', 'E3', 'E3', 'E3', 'E3', 'E3', 'E3', 'E3', 'E3', 'E3', 'E3', 'E3', 'E3', 'E3', 'E3', 'E3', 'E3', 'E3', 'E3', 'E3', 'E3', 'E3', 'E3', 'E3', 'E3', 'E3', 'E3', 'E3'], ['0.0', '0.0', '0.5', '0.5', '0.5', '0.5', '0.5', '0.5', '0.5', '0.5', '0.5', '0.5', '0.5', '0.5', '0.5', '0.5', '0.5', '0.5', '0.5', '0.5', '0.5', '0.5', '0.5', '0.5', '0.5', '0.5', '0.5', '0.5', '0.5', '0.5', '0.5', '0.5', '0.5', '0.5', '0.5', '0.5', '0.5', '0.5', '0.5', '0.5', '0.25', '0.25', '0.5', '0.5', '0.5', '0.5', '0.5', '0.5', '0.5']]\n",
            "\u001b[1m459/459\u001b[0m \u001b[32m━━━━━━━━━━━━━━━━━━━━\u001b[0m\u001b[37m\u001b[0m \u001b[1m42s\u001b[0m 91ms/step - duration_outputs_loss: 1.0812 - loss: 2.6713 - note_outputs_loss: 1.5901\n",
            "Epoch 39/50\n",
            "\u001b[1m459/459\u001b[0m \u001b[32m━━━━━━━━━━━━━━━━━━━━\u001b[0m\u001b[37m\u001b[0m \u001b[1m0s\u001b[0m 18ms/step - duration_outputs_loss: 1.0274 - loss: 2.6095 - note_outputs_loss: 1.5821[['START', 'C:major', '3/4TS', 'rest', 'rest', 'rest', 'rest', 'rest', 'rest', 'rest', 'rest', 'rest', 'rest', 'rest', 'rest', 'rest', 'rest', 'rest', 'rest', 'rest', 'rest', 'rest', 'rest', 'rest', 'rest', 'rest', 'rest', 'rest', 'rest', 'rest', 'rest', 'rest', 'rest', 'rest', 'rest', 'rest', 'rest', 'rest', 'rest', 'rest', 'rest', 'rest', 'rest', 'rest', 'rest', 'rest', 'rest', 'rest', 'rest'], ['0.0', '0.0', '0.5', '0.5', '0.5', '0.5', '0.25', '0.25', '0.25', '0.25', '0.25', '0.25', '0.25', '0.25', '0.25', '0.5', '0.25', '0.25', '0.25', '0.25', '0.25', '0.25', '0.25', '0.25', '0.25', '0.25', '0.25', '0.25', '0.25', '0.25', '0.25', '0.25', '0.25', '0.25', '0.25', '0.25', '0.25', '0.25', '0.25', '0.25', '0.25', '0.25', '0.25', '0.25', '0.25', '0.25', '0.25', '0.25', '0.25']]\n",
            "\u001b[1m459/459\u001b[0m \u001b[32m━━━━━━━━━━━━━━━━━━━━\u001b[0m\u001b[37m\u001b[0m \u001b[1m42s\u001b[0m 91ms/step - duration_outputs_loss: 1.0274 - loss: 2.6095 - note_outputs_loss: 1.5821\n",
            "Epoch 40/50\n",
            "\u001b[1m458/459\u001b[0m \u001b[32m━━━━━━━━━━━━━━━━━━━\u001b[0m\u001b[37m━\u001b[0m \u001b[1m0s\u001b[0m 18ms/step - duration_outputs_loss: 0.9965 - loss: 2.5648 - note_outputs_loss: 1.5683[['START', 'C:major', '3/4TS', 'rest', 'rest', 'E6', 'rest', 'E6', 'rest', 'E6', 'rest', 'E6', 'rest', 'E6', 'rest', 'E6', 'rest', 'E6', 'rest', 'E6', 'rest', 'E6', 'rest', 'E6', 'rest', 'E6', 'rest', 'E6', 'rest', 'E6', 'rest', 'E6', 'rest', 'E6', 'rest', 'E6', 'rest', 'E6', 'rest', 'E6', 'rest', 'E6', 'rest', 'E6', 'rest', 'E6', 'rest', 'E6', 'rest'], ['0.0', '0.0', '0.0', '0.5', '0.5', '0.5', '0.5', '0.5', '0.5', '0.5', '0.5', '0.5', '0.5', '0.5', '0.5', '0.5', '0.5', '0.5', '0.5', '0.5', '0.5', '0.5', '0.5', '0.5', '0.5', '0.5', '0.5', '0.5', '0.5', '0.5', '0.5', '0.5', '0.5', '0.5', '0.5', '0.5', '0.5', '0.5', '0.5', '0.5', '0.5', '0.5', '0.5', '0.5', '0.5', '0.5', '0.5', '0.5', '0.5']]\n",
            "\u001b[1m459/459\u001b[0m \u001b[32m━━━━━━━━━━━━━━━━━━━━\u001b[0m\u001b[37m\u001b[0m \u001b[1m44s\u001b[0m 95ms/step - duration_outputs_loss: 0.9966 - loss: 2.5651 - note_outputs_loss: 1.5685\n",
            "Epoch 41/50\n",
            "\u001b[1m458/459\u001b[0m \u001b[32m━━━━━━━━━━━━━━━━━━━\u001b[0m\u001b[37m━\u001b[0m \u001b[1m0s\u001b[0m 18ms/step - duration_outputs_loss: 1.0541 - loss: 2.6370 - note_outputs_loss: 1.5830[['START', 'D:minor', '4/4TS', 'E5', 'E5', 'E5', 'E5', 'E5', 'E5', 'E5', 'E5', 'E5', 'E5', 'E5', 'E5', 'E5', 'E5', 'E5', 'E5', 'E5', 'E5', 'E5', 'E5', 'E5', 'E5', 'E5', 'E5', 'E5', 'E5', 'E5', 'E5', 'G#5', 'G#5', 'G#5', 'G#5', 'G#5', 'G#5', 'G#5', 'G#5', 'G#5', 'G#5', 'G#5', 'G#5', 'G#5', 'E5', 'E5', 'E5', 'E5', 'E5'], ['0.0', '1.0', '1.0', '1.0', '1.0', '1.0', '1.0', '1.0', '1.0', '1.0', '1.0', '1.0', '1.0', '1.0', '1.0', '1.0', '1.0', '1.0', '1.0', '1.0', '1.0', '1.0', '1.0', '1.0', '1.0', '1.0', '1.0', '1.0', '1.0', '1.0', '1.0', '1.0', '1.0', '1.0', '1.0', '1.0', '1.0', '1.0', '1.0', '1.0', '1.0', '1.0', '1.0', '1.0', '1.0', '1.0', '1.0', '1.0', '1.0']]\n",
            "\u001b[1m459/459\u001b[0m \u001b[32m━━━━━━━━━━━━━━━━━━━━\u001b[0m\u001b[37m\u001b[0m \u001b[1m80s\u001b[0m 90ms/step - duration_outputs_loss: 1.0539 - loss: 2.6369 - note_outputs_loss: 1.5830\n",
            "Epoch 42/50\n",
            "\u001b[1m459/459\u001b[0m \u001b[32m━━━━━━━━━━━━━━━━━━━━\u001b[0m\u001b[37m\u001b[0m \u001b[1m0s\u001b[0m 18ms/step - duration_outputs_loss: 1.0223 - loss: 2.5398 - note_outputs_loss: 1.5176[['START', 'C:major', '2/4TS', 'D2', 'rest', 'A2', 'rest', 'A1', 'rest', 'C5', 'D2', 'rest', 'D2', 'rest', 'A2', 'rest', 'A1', 'rest', 'A2', 'rest', 'D5', 'rest', 'D5', 'rest', 'D5', 'D5', 'D5', 'rest', 'C#5', 'rest', 'C#5', 'rest', 'F#5', 'D6', 'E6', 'E6', 'E6', 'E6', 'D6', 'E6', 'E6', 'D6', 'E6', 'D6', 'E6', 'D6', 'E6', 'D6', 'E6'], ['0.0', '0.5', '0.5', '0.5', '0.5', '0.5', '0.5', '0.5', '0.5', '0.5', '0.5', '0.5', '0.5', '0.5', '0.5', '0.5', '0.5', '0.5', '0.5', '0.5', '0.5', '0.5', '0.5', '0.5', '0.5', '0.5', '0.5', '0.5', '0.5', '0.5', '0.5', '0.5', '0.5', '0.5', '0.5', '0.5', '0.5', '0.5', '0.5', '0.5', '0.5', '0.5', '0.5', '0.5', '0.5', '0.5', '0.5', '0.5', '0.5']]\n",
            "\u001b[1m459/459\u001b[0m \u001b[32m━━━━━━━━━━━━━━━━━━━━\u001b[0m\u001b[37m\u001b[0m \u001b[1m42s\u001b[0m 91ms/step - duration_outputs_loss: 1.0223 - loss: 2.5399 - note_outputs_loss: 1.5177\n",
            "Epoch 43/50\n",
            "\u001b[1m458/459\u001b[0m \u001b[32m━━━━━━━━━━━━━━━━━━━\u001b[0m\u001b[37m━\u001b[0m \u001b[1m0s\u001b[0m 18ms/step - duration_outputs_loss: 1.0117 - loss: 2.5596 - note_outputs_loss: 1.5480[['START', 'C:major', '2/4TS', 'D2', 'rest', 'A2', 'rest', 'A1', 'rest', 'A2', 'rest', 'D2', 'rest', 'A1', 'rest', 'A2', 'rest', 'D2', 'rest', 'A2', 'rest', 'A1', 'rest', 'A2', 'rest', 'D2', 'rest', 'A1', 'rest', 'A2', 'rest', 'D2', 'rest', 'D2', 'rest', 'A3', 'rest', 'A2', 'rest', 'rest', 'rest', 'rest', 'rest', 'rest', 'rest', 'rest', 'rest', 'rest', 'rest'], ['0.0', '1.0', '1.0', '1.0', '1.0', '1.0', '1.0', '1.0', '1.0', '1.0', '1.0', '1.0', '1.0', '1.0', '1.0', '1.0', '1.0', '1.0', '1.0', '1.0', '1.0', '1.0', '1.0', '1.0', '1.0', '1.0', '1.0', '1.0', '1.0', '1.0', '1.0', '1.0', '1.0', '1.0', '1.0', '1.0', '1.0', '1.0', '1.0', '1.0', '1.0', '1.0', '1.0', '1.0', '1.0', '1.0', '1.0', '1.0', '1.0']]\n",
            "\u001b[1m459/459\u001b[0m \u001b[32m━━━━━━━━━━━━━━━━━━━━\u001b[0m\u001b[37m\u001b[0m \u001b[1m42s\u001b[0m 91ms/step - duration_outputs_loss: 1.0117 - loss: 2.5597 - note_outputs_loss: 1.5480\n",
            "Epoch 44/50\n",
            "\u001b[1m458/459\u001b[0m \u001b[32m━━━━━━━━━━━━━━━━━━━\u001b[0m\u001b[37m━\u001b[0m \u001b[1m0s\u001b[0m 18ms/step - duration_outputs_loss: 1.0298 - loss: 2.5609 - note_outputs_loss: 1.5312[['START', 'C:major', '2/4TS', 'D2', 'rest', 'A2', 'rest', 'A1', 'rest', 'A2', 'rest', 'D5', 'C#5', 'D5', 'C#5', 'D5', 'rest', 'E5', 'rest', 'F#5', 'rest', 'E5', 'E5', 'D5', 'C#5', 'C#5', 'C#5', 'C#5', 'C#5', 'C#5', 'B4', 'A4', 'A4', 'rest', 'B5', 'B5', 'B5', 'B5', 'B5', 'rest', 'B5', 'rest', 'B5', 'rest', 'B5', 'rest', 'B5', 'rest', 'G5'], ['0.0', '1.0', '1.0', '1.0', '1.0', '1.0', '1.0', '1.0', '1.0', '1.0', '1.0', '1.0', '1.0', '1.0', '1.0', '1.0', '1.0', '1.0', '1.0', '1.0', '1.0', '1.0', '1.0', '1.0', '1.0', '1.0', '1.0', '1.0', '1.0', '1.0', '1.0', '1.0', '1.0', '1.0', '1.0', '1.0', '1.0', '1.0', '1.0', '1.0', '1.0', '1.0', '1.0', '1.0', '1.0', '1.0', '1.0', '1.0', '1.0']]\n",
            "\u001b[1m459/459\u001b[0m \u001b[32m━━━━━━━━━━━━━━━━━━━━\u001b[0m\u001b[37m\u001b[0m \u001b[1m44s\u001b[0m 96ms/step - duration_outputs_loss: 1.0297 - loss: 2.5610 - note_outputs_loss: 1.5313\n",
            "Epoch 45/50\n",
            "\u001b[1m459/459\u001b[0m \u001b[32m━━━━━━━━━━━━━━━━━━━━\u001b[0m\u001b[37m\u001b[0m \u001b[1m0s\u001b[0m 18ms/step - duration_outputs_loss: 1.0264 - loss: 2.5565 - note_outputs_loss: 1.5300[['START', 'C:major', '2/4TS', 'D2', 'rest', 'A2', 'rest', 'A1', 'rest', 'D2', 'rest', 'A2', 'rest', 'A1', 'rest', 'D2', 'rest', 'D2', 'rest', 'A2', 'rest', 'A1', 'rest', 'D2', 'rest', 'A3', 'rest', 'A2', 'rest', 'rest', 'rest', 'rest', 'rest', 'rest', 'rest', 'rest', 'rest', 'rest', 'rest', 'rest', 'rest', 'rest', 'rest', 'rest', 'rest', 'rest', 'rest', 'rest', 'rest'], ['0.0', '0.5', '0.5', '0.5', '0.5', '0.5', '0.25', '0.25', '0.25', '0.25', '0.5', '0.5', '0.25', '0.25', '0.25', '0.25', '0.25', '0.25', '0.25', '0.25', '0.25', '0.25', '0.25', '0.25', '0.25', '0.25', '0.25', '0.25', '0.25', '0.25', '0.25', '0.25', '0.25', '0.25', '0.25', '0.25', '0.25', '0.25', '0.25', '0.25', '0.25', '0.25', '0.25', '0.25', '0.25', '0.25', '0.25', '0.25', '0.25']]\n",
            "\u001b[1m459/459\u001b[0m \u001b[32m━━━━━━━━━━━━━━━━━━━━\u001b[0m\u001b[37m\u001b[0m \u001b[1m43s\u001b[0m 93ms/step - duration_outputs_loss: 1.0264 - loss: 2.5565 - note_outputs_loss: 1.5301\n",
            "Epoch 46/50\n",
            "\u001b[1m458/459\u001b[0m \u001b[32m━━━━━━━━━━━━━━━━━━━\u001b[0m\u001b[37m━\u001b[0m \u001b[1m0s\u001b[0m 18ms/step - duration_outputs_loss: 0.9966 - loss: 2.5281 - note_outputs_loss: 1.5315[['START', 'C:major', '2/4TS', 'D2', 'rest', 'A2', 'rest', 'A1', 'rest', 'A2', 'rest', 'A2', 'rest', 'A2', 'rest', 'A2', 'rest', 'A1', 'rest', 'A2', 'rest', 'A2', 'rest', 'A2', 'rest', 'A2', 'rest', 'A2', 'rest', 'A2', 'rest', 'G2', 'rest', 'G2', 'rest', 'E2', 'rest', 'G6', 'E6', 'E6', 'E6', 'E6', 'E6', 'E6', 'E6', 'E6', 'E6', 'E6', 'E6'], ['0.0', '1.0', '1.0', '1.0', '1.0', '1.0', '1.0', '1.0', '1.0', '0.5', '0.5', '1.0', '1.0', '1.0', '1.0', '1.0', '1.0', '1.0', '1.0', '1.0', '1.0', '1.0', '1.0', '1.0', '0.5', '0.5', '0.5', '0.5', '1.0', '1.0', '1.0', '0.5', '0.5', '0.5', '0.5', '0.5', '0.5', '0.5', '0.5', '0.5', '0.5', '0.5', '0.5', '0.5', '0.5', '0.5', '0.5', '0.5', '0.5']]\n",
            "\u001b[1m459/459\u001b[0m \u001b[32m━━━━━━━━━━━━━━━━━━━━\u001b[0m\u001b[37m\u001b[0m \u001b[1m42s\u001b[0m 92ms/step - duration_outputs_loss: 0.9967 - loss: 2.5282 - note_outputs_loss: 1.5315\n",
            "Epoch 47/50\n",
            "\u001b[1m457/459\u001b[0m \u001b[32m━━━━━━━━━━━━━━━━━━━\u001b[0m\u001b[37m━\u001b[0m \u001b[1m0s\u001b[0m 18ms/step - duration_outputs_loss: 1.0409 - loss: 2.5494 - note_outputs_loss: 1.5085[['START', 'C:major', '2/4TS', 'D2', 'rest', 'A2', 'rest', 'A1', 'rest', 'A2', 'rest', 'D5', 'C#5', 'D5', 'C#5', 'C#5', 'C#5', 'C#5', 'D5', 'E6', 'A5', 'A5', 'A5', 'A5', 'A5', 'A5', 'A5', 'E5', 'rest', 'G5', 'F5', 'F5', 'D5', 'G5', 'F5', 'F5', 'F5', 'F5', 'F5', 'F5', 'D4', 'F5', 'F5', 'F5', 'F5', 'F5', 'F5', 'F5', 'F5'], ['0.0', '0.0', '1.0', '0.5', '0.5', '1.0', '1.0', '1.0', '0.5', '1.0', '1.0', '1.0', '1.0', '1.0', '1.0', '1.0', '1.0', '1.0', '1.0', '1.0', '1.0', '1.0', '1.0', '1.0', '1.0', '1.0', '1.0', '1.0', '1.0', '1.0', '1.0', '1.0', '1.0', '1.0', '1.0', '1.0', '1.0', '1.0', '1.0', '1.0', '1.0', '1.0', '1.0', '1.0', '1.0', '1.0', '1.0', '1.0', '1.0']]\n",
            "\u001b[1m459/459\u001b[0m \u001b[32m━━━━━━━━━━━━━━━━━━━━\u001b[0m\u001b[37m\u001b[0m \u001b[1m43s\u001b[0m 93ms/step - duration_outputs_loss: 1.0408 - loss: 2.5494 - note_outputs_loss: 1.5087\n",
            "Epoch 48/50\n",
            "\u001b[1m459/459\u001b[0m \u001b[32m━━━━━━━━━━━━━━━━━━━━\u001b[0m\u001b[37m\u001b[0m \u001b[1m0s\u001b[0m 18ms/step - duration_outputs_loss: 0.9796 - loss: 2.4374 - note_outputs_loss: 1.4579[['START', 'C:major', '2/4TS', 'D2', 'rest', 'A1', 'rest', 'A2', 'rest', 'A1', 'rest', 'A2', 'rest', 'A2', 'rest', 'A2', 'rest', 'C#4', 'C#4', 'B2', 'rest', 'E3', 'C#4', 'C#4', 'E4', 'E4', 'E4', 'E4', 'E4', 'A4', 'E-4', 'E4', 'E4', 'E4', 'F#4', 'rest', 'C4', 'G4', 'E3', 'E3', 'rest', 'rest', 'G4', 'E3', 'E3', 'E3', 'E3', 'E3', 'E3'], ['0.0', '0.5', '0.5', '0.5', '0.5', '0.5', '0.5', '0.5', '0.5', '0.5', '0.5', '0.5', '0.5', '0.5', '0.5', '0.5', '0.5', '0.5', '0.5', '0.5', '0.5', '0.5', '0.5', '0.5', '0.5', '0.5', '0.5', '0.5', '0.5', '0.5', '0.5', '0.5', '0.5', '0.5', '0.5', '0.5', '0.5', '0.5', '0.5', '0.5', '0.5', '0.5', '0.5', '0.5', '0.5', '0.5', '0.5', '0.5', '0.5']]\n",
            "\u001b[1m459/459\u001b[0m \u001b[32m━━━━━━━━━━━━━━━━━━━━\u001b[0m\u001b[37m\u001b[0m \u001b[1m82s\u001b[0m 94ms/step - duration_outputs_loss: 0.9797 - loss: 2.4377 - note_outputs_loss: 1.4580\n",
            "Epoch 49/50\n",
            "\u001b[1m459/459\u001b[0m \u001b[32m━━━━━━━━━━━━━━━━━━━━\u001b[0m\u001b[37m\u001b[0m \u001b[1m0s\u001b[0m 18ms/step - duration_outputs_loss: 1.0114 - loss: 2.4822 - note_outputs_loss: 1.4709[['START', 'G:major', '2/4TS', 'E3', 'E4', 'E3', 'E3', 'E3', 'E3', 'E3', 'E3', 'E3', 'E3', 'E3', 'E3', 'E3', 'E3', 'E3', 'E3', 'E3', 'E3', 'E3', 'E3', 'E3', 'E3', 'E3', 'E3', 'E3', 'E3', 'E3', 'E3', 'E3', 'E3', 'E3', 'E3', 'E3', 'E3', 'E3', 'E3', 'E3', 'E3', 'E3', 'E3', 'E3', 'E3', 'E3', 'E3', 'E3', 'E3'], ['0.0', '0.0', '1.0', '0.5', '0.5', '0.5', '1.0', '1.0', '1.0', '1.0', '1.0', '1.0', '1.0', '1.0', '1.0', '1.0', '1.0', '1.0', '1.0', '1.0', '1.0', '1.0', '1.0', '1.0', '1.0', '1.0', '1.0', '1.0', '1.0', '1.0', '1.0', '1.0', '1.0', '1.0', '1.0', '1.0', '1.0', '1.0', '1.0', '1.0', '0.5', '0.5', '1.0', '1.0', '1.0', '0.5', '0.5', '0.5', '0.5']]\n",
            "\u001b[1m459/459\u001b[0m \u001b[32m━━━━━━━━━━━━━━━━━━━━\u001b[0m\u001b[37m\u001b[0m \u001b[1m42s\u001b[0m 90ms/step - duration_outputs_loss: 1.0114 - loss: 2.4824 - note_outputs_loss: 1.4710\n",
            "Epoch 50/50\n",
            "\u001b[1m457/459\u001b[0m \u001b[32m━━━━━━━━━━━━━━━━━━━\u001b[0m\u001b[37m━\u001b[0m \u001b[1m0s\u001b[0m 18ms/step - duration_outputs_loss: 0.9780 - loss: 2.4667 - note_outputs_loss: 1.4888[['START', 'C:major', '3/4TS', 'F#5', 'E5', 'E5', 'E5', 'F#5', 'F#5', 'F#5', 'F#5', 'F#5', 'F#5', 'F#5', 'F#5', 'D5', 'D5', 'D5', 'D5', 'D5', 'C#6', 'C#6', 'C#6', 'C#6', 'B5', 'B4', 'B4', 'C#5', 'B4', 'C#5', 'B4', 'rest', 'D5', 'D5', 'C#5', 'B4', 'rest', 'A4', 'rest', 'A4', 'A4', 'A4', 'G4', 'G4', 'G4', 'G4', 'G4', 'G4', 'G4'], ['0.0', '0.5', '0.5', '0.5', '0.5', '0.5', '0.5', '0.5', '0.5', '0.5', '0.5', '0.5', '0.5', '0.5', '0.5', '0.5', '0.5', '0.5', '0.5', '0.5', '0.5', '0.5', '0.5', '0.5', '0.5', '0.5', '0.5', '0.5', '0.5', '0.5', '0.5', '0.5', '0.5', '0.5', '0.5', '0.5', '0.5', '0.5', '0.5', '0.5', '0.5', '0.5', '0.5', '0.5', '0.5', '0.5', '0.5', '0.5', '0.5']]\n",
            "\u001b[1m459/459\u001b[0m \u001b[32m━━━━━━━━━━━━━━━━━━━━\u001b[0m\u001b[37m\u001b[0m \u001b[1m42s\u001b[0m 91ms/step - duration_outputs_loss: 0.9782 - loss: 2.4671 - note_outputs_loss: 1.4889\n"
          ]
        },
        {
          "output_type": "execute_result",
          "data": {
            "text/plain": [
              "<keras.src.callbacks.history.History at 0x79efc61b6aa0>"
            ]
          },
          "metadata": {},
          "execution_count": 33
        }
      ]
    },
    {
      "cell_type": "code",
      "source": [
        "# Save the final model\n",
        "model.save(\"/content/model.keras\")"
      ],
      "metadata": {
        "id": "OGdag34BUqvZ"
      },
      "execution_count": 36,
      "outputs": []
    },
    {
      "cell_type": "markdown",
      "source": [
        "#Generate Music Using the Transformer"
      ],
      "metadata": {
        "id": "TALC89nLUrvs"
      }
    },
    {
      "cell_type": "code",
      "source": [
        "info = music_generator.generate(\n",
        "    [\"START\"], [\"0.0\"], max_tokens=50, temperature=0.5\n",
        ")\n",
        "midi_stream = info[-1][\"midi\"].chordify()\n",
        "#midi_stream.show()"
      ],
      "metadata": {
        "id": "YeVL8oZLUvbH"
      },
      "execution_count": 38,
      "outputs": []
    },
    {
      "cell_type": "markdown",
      "source": [
        "Write Music to Midi File"
      ],
      "metadata": {
        "id": "tHFqGWiAUyzi"
      }
    },
    {
      "cell_type": "code",
      "source": [
        "timestr = time.strftime(\"%Y%m%d-%H%M%S\")\n",
        "\n",
        "# Create the directory if it doesn't exist\n",
        "os.makedirs(\"/content/transformer_output\", exist_ok=True)\n",
        "\n",
        "midi_stream.write(\n",
        "    \"midi\",\n",
        "    fp=os.path.join(\n",
        "        \"/content/transformer_output\",\n",
        "        \"output-\" + timestr + \".mid\",\n",
        "    ),\n",
        ")"
      ],
      "metadata": {
        "id": "aqaZ1OE0U1go",
        "colab": {
          "base_uri": "https://localhost:8080/",
          "height": 36
        },
        "outputId": "1e6b02b2-d46d-43a6-c391-119c1a6664dd"
      },
      "execution_count": 40,
      "outputs": [
        {
          "output_type": "execute_result",
          "data": {
            "text/plain": [
              "'/content/transformer_output/output-20241207-193032.mid'"
            ],
            "application/vnd.google.colaboratory.intrinsic+json": {
              "type": "string"
            }
          },
          "metadata": {},
          "execution_count": 40
        }
      ]
    },
    {
      "cell_type": "markdown",
      "source": [
        "#Note Probabiltiies"
      ],
      "metadata": {
        "id": "b2wjMMR4U-aC"
      }
    },
    {
      "cell_type": "code",
      "source": [
        "max_pitch = 70\n",
        "seq_len = len(info)\n",
        "grid = np.zeros((max_pitch, seq_len), dtype=np.float32)\n",
        "\n",
        "for j in range(seq_len):\n",
        "    for i, prob in enumerate(info[j][\"note_probs\"]):\n",
        "        try:\n",
        "            pitch = music21.note.Note(notes_vocab[i]).pitch.midi\n",
        "            grid[pitch, j] = prob\n",
        "        except:\n",
        "            pass  # Don't show key / time signatures"
      ],
      "metadata": {
        "id": "TdlgZFAMU70-"
      },
      "execution_count": 41,
      "outputs": []
    },
    {
      "cell_type": "code",
      "source": [
        "fig, ax = plt.subplots(figsize=(8, 8))\n",
        "ax.set_yticks([int(j) for j in range(35, 70)])\n",
        "plt.imshow(\n",
        "    grid[35:70, :],\n",
        "    origin=\"lower\",\n",
        "    cmap=\"coolwarm\",\n",
        "    vmin=-0.5,\n",
        "    vmax=0.5,\n",
        "    extent=[0, seq_len, 35, 70],\n",
        ")\n",
        "plt.show()"
      ],
      "metadata": {
        "id": "SEwYGpKBVChx",
        "colab": {
          "base_uri": "https://localhost:8080/",
          "height": 503
        },
        "outputId": "6072c1f5-d032-4839-caa8-4ee38ba94e3b"
      },
      "execution_count": 42,
      "outputs": [
        {
          "output_type": "display_data",
          "data": {
            "text/plain": [
              "<Figure size 800x800 with 1 Axes>"
            ],
            "image/png": "[encoded data removed]"
          },
          "metadata": {
            "image/png": {
              "width": 667,
              "height": 486
            }
          }
        }
      ]
    },
    {
      "cell_type": "markdown",
      "source": [
        "#Attention Plot"
      ],
      "metadata": {
        "id": "OcuGcAdNVDRi"
      }
    },
    {
      "cell_type": "code",
      "source": [
        "plot_size = 20\n",
        "\n",
        "att_matrix = np.zeros((plot_size, plot_size))\n",
        "prediction_output = []\n",
        "last_prompt = []"
      ],
      "metadata": {
        "id": "5SLumOhEVEPO"
      },
      "execution_count": 43,
      "outputs": []
    },
    {
      "cell_type": "code",
      "source": [
        "for j in range(plot_size):\n",
        "    atts = info[j][\"atts\"].max(axis=0)\n",
        "    att_matrix[: (j + 1), j] = atts\n",
        "    prediction_output.append(info[j][\"chosen_note\"][0])\n",
        "    last_prompt.append(info[j][\"prompt\"][0][-1])"
      ],
      "metadata": {
        "id": "kTVPmomTVGTk"
      },
      "execution_count": 44,
      "outputs": []
    },
    {
      "cell_type": "code",
      "source": [
        "fig, ax = plt.subplots(figsize=(8, 8))\n",
        "im = ax.imshow(att_matrix, cmap=\"Greens\", interpolation=\"nearest\")\n",
        "\n",
        "ax.set_xticks(np.arange(-0.5, plot_size, 1), minor=True)\n",
        "ax.set_yticks(np.arange(-0.5, plot_size, 1), minor=True)\n",
        "ax.grid(which=\"minor\", color=\"black\", linestyle=\"-\", linewidth=1)\n",
        "ax.set_xticks(np.arange(plot_size))\n",
        "ax.set_yticks(np.arange(plot_size))\n",
        "ax.set_xticklabels(prediction_output[:plot_size])\n",
        "ax.set_yticklabels(last_prompt[:plot_size])\n",
        "ax.xaxis.tick_top()\n",
        "\n",
        "plt.setp(\n",
        "    ax.get_xticklabels(),\n",
        "    rotation=90,\n",
        "    ha=\"left\",\n",
        "    va=\"center\",\n",
        "    rotation_mode=\"anchor\",\n",
        ")\n",
        "plt.show()\n"
      ],
      "metadata": {
        "id": "wX2i4EsPVIES",
        "colab": {
          "base_uri": "https://localhost:8080/",
          "height": 717
        },
        "outputId": "296df2fe-1947-4cf3-aeea-8dc6d95c4e52"
      },
      "execution_count": 45,
      "outputs": [
        {
          "output_type": "display_data",
          "data": {
            "text/plain": [
              "<Figure size 800x800 with 1 Axes>"
            ],
            "image/png": "[encoded data removed]"
          },
          "metadata": {
            "image/png": {
              "width": 700,
              "height": 700
            }
          }
        }
      ]
    },
    {
      "cell_type": "code",
      "source": [
        "from google.colab import files\n",
        "import shutil\n",
        "\n",
        "shutil.make_archive('/content/model_archive', 'zip', '/content/model.keras')\n",
        "shutil.make_archive(\"/content/output\", 'zip', \"my_folder\")\n",
        "shutil.make_archive(\"/content/transformer_output\", 'zip', \"my_folder\")\n",
        "shutil.make_archive(\"/content/data\", 'zip', \"my_folder\")\n"
      ],
      "metadata": {
        "id": "p0mg65W6VK-0",
        "colab": {
          "base_uri": "https://localhost:8080/",
          "height": 36
        },
        "outputId": "943c71ff-0107-4389-e3f5-8ec6591a0c55"
      },
      "execution_count": 54,
      "outputs": [
        {
          "output_type": "execute_result",
          "data": {
            "text/plain": [
              "'/content/data.zip'"
            ],
            "application/vnd.google.colaboratory.intrinsic+json": {
              "type": "string"
            }
          },
          "metadata": {},
          "execution_count": 54
        }
      ]
    },
    {
      "cell_type": "code",
      "source": [
        "from google.colab import drive\n",
        "drive.mount('/content/drive')"
      ],
      "metadata": {
        "id": "LK0hPG81VNcv",
        "colab": {
          "base_uri": "https://localhost:8080/"
        },
        "outputId": "cd197fd5-6f7c-4bad-8ae9-7c64b9064f51"
      },
      "execution_count": 47,
      "outputs": [
        {
          "output_type": "stream",
          "name": "stdout",
          "text": [
            "Drive already mounted at /content/drive; to attempt to forcibly remount, call drive.mount(\"/content/drive\", force_remount=True).\n"
          ]
        }
      ]
    },
    {
      "cell_type": "code",
      "source": [
        "# Saving the model and its data on the Google drive\n",
        "\n",
        "!cp -r /content/data /content/drive/MyDrive/GenAI\n",
        "!cp /content/model_archive.zip /content/drive/MyDrive/GenAI/\n",
        "!cp -r /content/output /content/drive/MyDrive/GenAI\n",
        "!cp -r /content/transformer_output /content/drive/MyDrive/GenAI"
      ],
      "metadata": {
        "id": "UrE3iozXVO85"
      },
      "execution_count": 56,
      "outputs": []
    }
  ]
}