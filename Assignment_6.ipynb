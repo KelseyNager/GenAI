{
  "nbformat": 4,
  "nbformat_minor": 0,
  "metadata": {
    "colab": {
      "provenance": [],
      "gpuType": "T4",
      "authorship_tag": "ABX9TyNBOzMUyFK5jLAPvwDiTCf3",
      "include_colab_link": true
    },
    "kernelspec": {
      "name": "python3",
      "display_name": "Python 3"
    },
    "language_info": {
      "name": "python"
    },
    "accelerator": "GPU"
  },
  "cells": [
    {
      "cell_type": "markdown",
      "metadata": {
        "id": "view-in-github",
        "colab_type": "text"
      },
      "source": [
        "<a href=\"https://colab.research.google.com/github/KelseyNager/GenAI/blob/main/Assignment_6.ipynb\" target=\"_parent\"><img src=\"https://colab.research.google.com/assets/colab-badge.svg\" alt=\"Open In Colab\"/></a>"
      ]
    },
    {
      "cell_type": "markdown",
      "source": [
        "#Music Generation with Transformers\n",
        "##Kelsey Nager\n",
        "##CSC 330\n",
        "\n",
        "####THe purpose of this code"
      ],
      "metadata": {
        "id": "NnOx8--UTA6N"
      }
    },
    {
      "cell_type": "code",
      "execution_count": 1,
      "metadata": {
        "colab": {
          "base_uri": "https://localhost:8080/"
        },
        "id": "P4uRxa_6S79r",
        "outputId": "76e7a8d3-c3a2-42de-b194-f750aea70c4c"
      },
      "outputs": [
        {
          "output_type": "stream",
          "name": "stdout",
          "text": [
            "Reading package lists... Done\n",
            "Building dependency tree... Done\n",
            "Reading state information... Done\n",
            "The following additional packages will be installed:\n",
            "  desktop-file-utils fonts-freefont-ttf libevdev2 libgudev-1.0-0 libinput-bin libinput10 libmd4c0\n",
            "  libmtdev1 libportaudio2 libportmidi0 libqt5core5a libqt5dbus5 libqt5gui5 libqt5help5\n",
            "  libqt5network5 libqt5printsupport5 libqt5qml5 libqt5qmlmodels5 libqt5qmlworkerscript5\n",
            "  libqt5quick5 libqt5sql5 libqt5sql5-sqlite libqt5svg5 libqt5widgets5 libqt5xml5 libqt5xmlpatterns5\n",
            "  libwacom-bin libwacom-common libwacom9 libxcb-icccm4 libxcb-image0 libxcb-keysyms1\n",
            "  libxcb-render-util0 libxcb-util1 libxcb-xinerama0 libxcb-xinput0 libxcb-xkb1 libxkbcommon-x11-0\n",
            "  musescore-common musescore-general-soundfont-small qml-module-qt-labs-folderlistmodel\n",
            "  qml-module-qt-labs-settings qml-module-qtgraphicaleffects qml-module-qtqml\n",
            "  qml-module-qtqml-models2 qml-module-qtquick-controls qml-module-qtquick-dialogs\n",
            "  qml-module-qtquick-layouts qml-module-qtquick-privatewidgets qml-module-qtquick-window2\n",
            "  qml-module-qtquick2 qt5-gtk-platformtheme qttranslations5-l10n\n",
            "Suggested packages:\n",
            "  qt5-image-formats-plugins qtwayland5 qt5-qmltooling-plugins pulseaudio-utils\n",
            "The following NEW packages will be installed:\n",
            "  desktop-file-utils fonts-freefont-ttf libevdev2 libgudev-1.0-0 libinput-bin libinput10 libmd4c0\n",
            "  libmtdev1 libportaudio2 libportmidi0 libqt5core5a libqt5dbus5 libqt5gui5 libqt5help5\n",
            "  libqt5network5 libqt5printsupport5 libqt5qml5 libqt5qmlmodels5 libqt5qmlworkerscript5\n",
            "  libqt5quick5 libqt5sql5 libqt5sql5-sqlite libqt5svg5 libqt5widgets5 libqt5xml5 libqt5xmlpatterns5\n",
            "  libwacom-bin libwacom-common libwacom9 libxcb-icccm4 libxcb-image0 libxcb-keysyms1\n",
            "  libxcb-render-util0 libxcb-util1 libxcb-xinerama0 libxcb-xinput0 libxcb-xkb1 libxkbcommon-x11-0\n",
            "  musescore musescore-common musescore-general-soundfont-small qml-module-qt-labs-folderlistmodel\n",
            "  qml-module-qt-labs-settings qml-module-qtgraphicaleffects qml-module-qtqml\n",
            "  qml-module-qtqml-models2 qml-module-qtquick-controls qml-module-qtquick-dialogs\n",
            "  qml-module-qtquick-layouts qml-module-qtquick-privatewidgets qml-module-qtquick-window2\n",
            "  qml-module-qtquick2 qt5-gtk-platformtheme qttranslations5-l10n\n",
            "0 upgraded, 54 newly installed, 0 to remove and 49 not upgraded.\n",
            "Need to get 63.2 MB of archives.\n",
            "After this operation, 162 MB of additional disk space will be used.\n",
            "Get:1 http://archive.ubuntu.com/ubuntu jammy-updates/universe amd64 libqt5core5a amd64 5.15.3+dfsg-2ubuntu0.2 [2,006 kB]\n",
            "Get:2 http://archive.ubuntu.com/ubuntu jammy/main amd64 libevdev2 amd64 1.12.1+dfsg-1 [39.5 kB]\n",
            "Get:3 http://archive.ubuntu.com/ubuntu jammy/main amd64 libmtdev1 amd64 1.1.6-1build4 [14.5 kB]\n",
            "Get:4 http://archive.ubuntu.com/ubuntu jammy/main amd64 libgudev-1.0-0 amd64 1:237-2build1 [16.3 kB]\n",
            "Get:5 http://archive.ubuntu.com/ubuntu jammy/main amd64 libwacom-common all 2.2.0-1 [54.3 kB]\n",
            "Get:6 http://archive.ubuntu.com/ubuntu jammy/main amd64 libwacom9 amd64 2.2.0-1 [22.0 kB]\n",
            "Get:7 http://archive.ubuntu.com/ubuntu jammy-updates/main amd64 libinput-bin amd64 1.20.0-1ubuntu0.3 [19.9 kB]\n",
            "Get:8 http://archive.ubuntu.com/ubuntu jammy-updates/main amd64 libinput10 amd64 1.20.0-1ubuntu0.3 [131 kB]\n",
            "Get:9 http://archive.ubuntu.com/ubuntu jammy/universe amd64 libmd4c0 amd64 0.4.8-1 [42.0 kB]\n",
            "Get:10 http://archive.ubuntu.com/ubuntu jammy-updates/universe amd64 libqt5dbus5 amd64 5.15.3+dfsg-2ubuntu0.2 [222 kB]\n",
            "Get:11 http://archive.ubuntu.com/ubuntu jammy-updates/universe amd64 libqt5network5 amd64 5.15.3+dfsg-2ubuntu0.2 [731 kB]\n",
            "Get:12 http://archive.ubuntu.com/ubuntu jammy/main amd64 libxcb-icccm4 amd64 0.4.1-1.1build2 [11.5 kB]\n",
            "Get:13 http://archive.ubuntu.com/ubuntu jammy/main amd64 libxcb-util1 amd64 0.4.0-1build2 [11.4 kB]\n",
            "Get:14 http://archive.ubuntu.com/ubuntu jammy/main amd64 libxcb-image0 amd64 0.4.0-2 [11.5 kB]\n",
            "Get:15 http://archive.ubuntu.com/ubuntu jammy/main amd64 libxcb-keysyms1 amd64 0.4.0-1build3 [8,746 B]\n",
            "Get:16 http://archive.ubuntu.com/ubuntu jammy/main amd64 libxcb-render-util0 amd64 0.3.9-1build3 [10.3 kB]\n",
            "Get:17 http://archive.ubuntu.com/ubuntu jammy/main amd64 libxcb-xinerama0 amd64 1.14-3ubuntu3 [5,414 B]\n",
            "Get:18 http://archive.ubuntu.com/ubuntu jammy/main amd64 libxcb-xinput0 amd64 1.14-3ubuntu3 [34.3 kB]\n",
            "Get:19 http://archive.ubuntu.com/ubuntu jammy/main amd64 libxcb-xkb1 amd64 1.14-3ubuntu3 [32.8 kB]\n",
            "Get:20 http://archive.ubuntu.com/ubuntu jammy/main amd64 libxkbcommon-x11-0 amd64 1.4.0-1 [14.4 kB]\n",
            "Get:21 http://archive.ubuntu.com/ubuntu jammy-updates/universe amd64 libqt5gui5 amd64 5.15.3+dfsg-2ubuntu0.2 [3,722 kB]\n",
            "Get:22 http://archive.ubuntu.com/ubuntu jammy-updates/universe amd64 libqt5widgets5 amd64 5.15.3+dfsg-2ubuntu0.2 [2,561 kB]\n",
            "Get:23 http://archive.ubuntu.com/ubuntu jammy/universe amd64 libqt5svg5 amd64 5.15.3-1 [149 kB]\n",
            "Get:24 http://archive.ubuntu.com/ubuntu jammy/universe amd64 libqt5qml5 amd64 5.15.3+dfsg-1 [1,472 kB]\n",
            "Get:25 http://archive.ubuntu.com/ubuntu jammy/universe amd64 libqt5qmlmodels5 amd64 5.15.3+dfsg-1 [205 kB]\n",
            "Get:26 http://archive.ubuntu.com/ubuntu jammy/universe amd64 libqt5quick5 amd64 5.15.3+dfsg-1 [1,748 kB]\n",
            "Get:27 http://archive.ubuntu.com/ubuntu jammy/universe amd64 qml-module-qtquick-window2 amd64 5.15.3+dfsg-1 [26.3 kB]\n",
            "Get:28 http://archive.ubuntu.com/ubuntu jammy/universe amd64 libqt5qmlworkerscript5 amd64 5.15.3+dfsg-1 [34.4 kB]\n",
            "Get:29 http://archive.ubuntu.com/ubuntu jammy/universe amd64 qml-module-qtquick2 amd64 5.15.3+dfsg-1 [33.7 kB]\n",
            "Get:30 http://archive.ubuntu.com/ubuntu jammy/universe amd64 qml-module-qtgraphicaleffects amd64 5.15.3-1 [74.3 kB]\n",
            "Get:31 http://archive.ubuntu.com/ubuntu jammy/universe amd64 qml-module-qtqml amd64 5.15.3+dfsg-1 [17.2 kB]\n",
            "Get:32 http://archive.ubuntu.com/ubuntu jammy/universe amd64 qml-module-qtqml-models2 amd64 5.15.3+dfsg-1 [18.0 kB]\n",
            "Get:33 http://archive.ubuntu.com/ubuntu jammy/universe amd64 qml-module-qtquick-layouts amd64 5.15.3+dfsg-1 [56.0 kB]\n",
            "Get:34 http://archive.ubuntu.com/ubuntu jammy/universe amd64 qml-module-qtquick-controls amd64 5.15.3-1 [577 kB]\n",
            "Get:35 http://archive.ubuntu.com/ubuntu jammy/main amd64 desktop-file-utils amd64 0.26-1ubuntu3 [55.9 kB]\n",
            "Get:36 http://archive.ubuntu.com/ubuntu jammy/main amd64 fonts-freefont-ttf all 20120503-10build1 [2,388 kB]\n",
            "Get:37 http://archive.ubuntu.com/ubuntu jammy/universe amd64 libportaudio2 amd64 19.6.0-1.1 [65.3 kB]\n",
            "Get:38 http://archive.ubuntu.com/ubuntu jammy/universe amd64 libportmidi0 amd64 1:217-6 [17.8 kB]\n",
            "Get:39 http://archive.ubuntu.com/ubuntu jammy-updates/universe amd64 libqt5sql5 amd64 5.15.3+dfsg-2ubuntu0.2 [123 kB]\n",
            "Get:40 http://archive.ubuntu.com/ubuntu jammy/universe amd64 libqt5help5 amd64 5.15.3-1 [162 kB]\n",
            "Get:41 http://archive.ubuntu.com/ubuntu jammy-updates/universe amd64 libqt5printsupport5 amd64 5.15.3+dfsg-2ubuntu0.2 [214 kB]\n",
            "Get:42 http://archive.ubuntu.com/ubuntu jammy-updates/universe amd64 libqt5sql5-sqlite amd64 5.15.3+dfsg-2ubuntu0.2 [53.0 kB]\n",
            "Get:43 http://archive.ubuntu.com/ubuntu jammy-updates/universe amd64 libqt5xml5 amd64 5.15.3+dfsg-2ubuntu0.2 [124 kB]\n",
            "Get:44 http://archive.ubuntu.com/ubuntu jammy/universe amd64 libqt5xmlpatterns5 amd64 5.15.3-1 [901 kB]\n",
            "Get:45 http://archive.ubuntu.com/ubuntu jammy/main amd64 libwacom-bin amd64 2.2.0-1 [13.6 kB]\n",
            "Get:46 http://archive.ubuntu.com/ubuntu jammy/universe amd64 qml-module-qt-labs-folderlistmodel amd64 5.15.3+dfsg-1 [36.1 kB]\n",
            "Get:47 http://archive.ubuntu.com/ubuntu jammy/universe amd64 qml-module-qt-labs-settings amd64 5.15.3+dfsg-1 [26.5 kB]\n",
            "Get:48 http://archive.ubuntu.com/ubuntu jammy/universe amd64 qml-module-qtquick-privatewidgets amd64 5.15.3-1 [49.8 kB]\n",
            "Get:49 http://archive.ubuntu.com/ubuntu jammy/universe amd64 qml-module-qtquick-dialogs amd64 5.15.3-1 [132 kB]\n",
            "Get:50 http://archive.ubuntu.com/ubuntu jammy/universe amd64 musescore-general-soundfont-small all 0.2.1-1 [34.1 MB]\n",
            "Get:51 http://archive.ubuntu.com/ubuntu jammy/universe amd64 musescore-common all 2.3.2+dfsg4-15 [3,332 kB]\n",
            "Get:52 http://archive.ubuntu.com/ubuntu jammy/universe amd64 musescore amd64 2.3.2+dfsg4-15 [5,195 kB]\n",
            "Get:53 http://archive.ubuntu.com/ubuntu jammy-updates/universe amd64 qt5-gtk-platformtheme amd64 5.15.3+dfsg-2ubuntu0.2 [130 kB]\n",
            "Get:54 http://archive.ubuntu.com/ubuntu jammy/universe amd64 qttranslations5-l10n all 5.15.3-1 [1,983 kB]\n",
            "Fetched 63.2 MB in 7s (9,394 kB/s)\n",
            "Extracting templates from packages: 100%\n",
            "Selecting previously unselected package libqt5core5a:amd64.\n",
            "(Reading database ... 123632 files and directories currently installed.)\n",
            "Preparing to unpack .../00-libqt5core5a_5.15.3+dfsg-2ubuntu0.2_amd64.deb ...\n",
            "Unpacking libqt5core5a:amd64 (5.15.3+dfsg-2ubuntu0.2) ...\n",
            "Selecting previously unselected package libevdev2:amd64.\n",
            "Preparing to unpack .../01-libevdev2_1.12.1+dfsg-1_amd64.deb ...\n",
            "Unpacking libevdev2:amd64 (1.12.1+dfsg-1) ...\n",
            "Selecting previously unselected package libmtdev1:amd64.\n",
            "Preparing to unpack .../02-libmtdev1_1.1.6-1build4_amd64.deb ...\n",
            "Unpacking libmtdev1:amd64 (1.1.6-1build4) ...\n",
            "Selecting previously unselected package libgudev-1.0-0:amd64.\n",
            "Preparing to unpack .../03-libgudev-1.0-0_1%3a237-2build1_amd64.deb ...\n",
            "Unpacking libgudev-1.0-0:amd64 (1:237-2build1) ...\n",
            "Selecting previously unselected package libwacom-common.\n",
            "Preparing to unpack .../04-libwacom-common_2.2.0-1_all.deb ...\n",
            "Unpacking libwacom-common (2.2.0-1) ...\n",
            "Selecting previously unselected package libwacom9:amd64.\n",
            "Preparing to unpack .../05-libwacom9_2.2.0-1_amd64.deb ...\n",
            "Unpacking libwacom9:amd64 (2.2.0-1) ...\n",
            "Selecting previously unselected package libinput-bin.\n",
            "Preparing to unpack .../06-libinput-bin_1.20.0-1ubuntu0.3_amd64.deb ...\n",
            "Unpacking libinput-bin (1.20.0-1ubuntu0.3) ...\n",
            "Selecting previously unselected package libinput10:amd64.\n",
            "Preparing to unpack .../07-libinput10_1.20.0-1ubuntu0.3_amd64.deb ...\n",
            "Unpacking libinput10:amd64 (1.20.0-1ubuntu0.3) ...\n",
            "Selecting previously unselected package libmd4c0:amd64.\n",
            "Preparing to unpack .../08-libmd4c0_0.4.8-1_amd64.deb ...\n",
            "Unpacking libmd4c0:amd64 (0.4.8-1) ...\n",
            "Selecting previously unselected package libqt5dbus5:amd64.\n",
            "Preparing to unpack .../09-libqt5dbus5_5.15.3+dfsg-2ubuntu0.2_amd64.deb ...\n",
            "Unpacking libqt5dbus5:amd64 (5.15.3+dfsg-2ubuntu0.2) ...\n",
            "Selecting previously unselected package libqt5network5:amd64.\n",
            "Preparing to unpack .../10-libqt5network5_5.15.3+dfsg-2ubuntu0.2_amd64.deb ...\n",
            "Unpacking libqt5network5:amd64 (5.15.3+dfsg-2ubuntu0.2) ...\n",
            "Selecting previously unselected package libxcb-icccm4:amd64.\n",
            "Preparing to unpack .../11-libxcb-icccm4_0.4.1-1.1build2_amd64.deb ...\n",
            "Unpacking libxcb-icccm4:amd64 (0.4.1-1.1build2) ...\n",
            "Selecting previously unselected package libxcb-util1:amd64.\n",
            "Preparing to unpack .../12-libxcb-util1_0.4.0-1build2_amd64.deb ...\n",
            "Unpacking libxcb-util1:amd64 (0.4.0-1build2) ...\n",
            "Selecting previously unselected package libxcb-image0:amd64.\n",
            "Preparing to unpack .../13-libxcb-image0_0.4.0-2_amd64.deb ...\n",
            "Unpacking libxcb-image0:amd64 (0.4.0-2) ...\n",
            "Selecting previously unselected package libxcb-keysyms1:amd64.\n",
            "Preparing to unpack .../14-libxcb-keysyms1_0.4.0-1build3_amd64.deb ...\n",
            "Unpacking libxcb-keysyms1:amd64 (0.4.0-1build3) ...\n",
            "Selecting previously unselected package libxcb-render-util0:amd64.\n",
            "Preparing to unpack .../15-libxcb-render-util0_0.3.9-1build3_amd64.deb ...\n",
            "Unpacking libxcb-render-util0:amd64 (0.3.9-1build3) ...\n",
            "Selecting previously unselected package libxcb-xinerama0:amd64.\n",
            "Preparing to unpack .../16-libxcb-xinerama0_1.14-3ubuntu3_amd64.deb ...\n",
            "Unpacking libxcb-xinerama0:amd64 (1.14-3ubuntu3) ...\n",
            "Selecting previously unselected package libxcb-xinput0:amd64.\n",
            "Preparing to unpack .../17-libxcb-xinput0_1.14-3ubuntu3_amd64.deb ...\n",
            "Unpacking libxcb-xinput0:amd64 (1.14-3ubuntu3) ...\n",
            "Selecting previously unselected package libxcb-xkb1:amd64.\n",
            "Preparing to unpack .../18-libxcb-xkb1_1.14-3ubuntu3_amd64.deb ...\n",
            "Unpacking libxcb-xkb1:amd64 (1.14-3ubuntu3) ...\n",
            "Selecting previously unselected package libxkbcommon-x11-0:amd64.\n",
            "Preparing to unpack .../19-libxkbcommon-x11-0_1.4.0-1_amd64.deb ...\n",
            "Unpacking libxkbcommon-x11-0:amd64 (1.4.0-1) ...\n",
            "Selecting previously unselected package libqt5gui5:amd64.\n",
            "Preparing to unpack .../20-libqt5gui5_5.15.3+dfsg-2ubuntu0.2_amd64.deb ...\n",
            "Unpacking libqt5gui5:amd64 (5.15.3+dfsg-2ubuntu0.2) ...\n",
            "Selecting previously unselected package libqt5widgets5:amd64.\n",
            "Preparing to unpack .../21-libqt5widgets5_5.15.3+dfsg-2ubuntu0.2_amd64.deb ...\n",
            "Unpacking libqt5widgets5:amd64 (5.15.3+dfsg-2ubuntu0.2) ...\n",
            "Selecting previously unselected package libqt5svg5:amd64.\n",
            "Preparing to unpack .../22-libqt5svg5_5.15.3-1_amd64.deb ...\n",
            "Unpacking libqt5svg5:amd64 (5.15.3-1) ...\n",
            "Selecting previously unselected package libqt5qml5:amd64.\n",
            "Preparing to unpack .../23-libqt5qml5_5.15.3+dfsg-1_amd64.deb ...\n",
            "Unpacking libqt5qml5:amd64 (5.15.3+dfsg-1) ...\n",
            "Selecting previously unselected package libqt5qmlmodels5:amd64.\n",
            "Preparing to unpack .../24-libqt5qmlmodels5_5.15.3+dfsg-1_amd64.deb ...\n",
            "Unpacking libqt5qmlmodels5:amd64 (5.15.3+dfsg-1) ...\n",
            "Selecting previously unselected package libqt5quick5:amd64.\n",
            "Preparing to unpack .../25-libqt5quick5_5.15.3+dfsg-1_amd64.deb ...\n",
            "Unpacking libqt5quick5:amd64 (5.15.3+dfsg-1) ...\n",
            "Selecting previously unselected package qml-module-qtquick-window2:amd64.\n",
            "Preparing to unpack .../26-qml-module-qtquick-window2_5.15.3+dfsg-1_amd64.deb ...\n",
            "Unpacking qml-module-qtquick-window2:amd64 (5.15.3+dfsg-1) ...\n",
            "Selecting previously unselected package libqt5qmlworkerscript5:amd64.\n",
            "Preparing to unpack .../27-libqt5qmlworkerscript5_5.15.3+dfsg-1_amd64.deb ...\n",
            "Unpacking libqt5qmlworkerscript5:amd64 (5.15.3+dfsg-1) ...\n",
            "Selecting previously unselected package qml-module-qtquick2:amd64.\n",
            "Preparing to unpack .../28-qml-module-qtquick2_5.15.3+dfsg-1_amd64.deb ...\n",
            "Unpacking qml-module-qtquick2:amd64 (5.15.3+dfsg-1) ...\n",
            "Selecting previously unselected package qml-module-qtgraphicaleffects:amd64.\n",
            "Preparing to unpack .../29-qml-module-qtgraphicaleffects_5.15.3-1_amd64.deb ...\n",
            "Unpacking qml-module-qtgraphicaleffects:amd64 (5.15.3-1) ...\n",
            "Selecting previously unselected package qml-module-qtqml:amd64.\n",
            "Preparing to unpack .../30-qml-module-qtqml_5.15.3+dfsg-1_amd64.deb ...\n",
            "Unpacking qml-module-qtqml:amd64 (5.15.3+dfsg-1) ...\n",
            "Selecting previously unselected package qml-module-qtqml-models2:amd64.\n",
            "Preparing to unpack .../31-qml-module-qtqml-models2_5.15.3+dfsg-1_amd64.deb ...\n",
            "Unpacking qml-module-qtqml-models2:amd64 (5.15.3+dfsg-1) ...\n",
            "Selecting previously unselected package qml-module-qtquick-layouts:amd64.\n",
            "Preparing to unpack .../32-qml-module-qtquick-layouts_5.15.3+dfsg-1_amd64.deb ...\n",
            "Unpacking qml-module-qtquick-layouts:amd64 (5.15.3+dfsg-1) ...\n",
            "Selecting previously unselected package qml-module-qtquick-controls:amd64.\n",
            "Preparing to unpack .../33-qml-module-qtquick-controls_5.15.3-1_amd64.deb ...\n",
            "Unpacking qml-module-qtquick-controls:amd64 (5.15.3-1) ...\n",
            "Selecting previously unselected package desktop-file-utils.\n",
            "Preparing to unpack .../34-desktop-file-utils_0.26-1ubuntu3_amd64.deb ...\n",
            "Unpacking desktop-file-utils (0.26-1ubuntu3) ...\n",
            "Selecting previously unselected package fonts-freefont-ttf.\n",
            "Preparing to unpack .../35-fonts-freefont-ttf_20120503-10build1_all.deb ...\n",
            "Unpacking fonts-freefont-ttf (20120503-10build1) ...\n",
            "Selecting previously unselected package libportaudio2:amd64.\n",
            "Preparing to unpack .../36-libportaudio2_19.6.0-1.1_amd64.deb ...\n",
            "Unpacking libportaudio2:amd64 (19.6.0-1.1) ...\n",
            "Selecting previously unselected package libportmidi0:amd64.\n",
            "Preparing to unpack .../37-libportmidi0_1%3a217-6_amd64.deb ...\n",
            "Unpacking libportmidi0:amd64 (1:217-6) ...\n",
            "Selecting previously unselected package libqt5sql5:amd64.\n",
            "Preparing to unpack .../38-libqt5sql5_5.15.3+dfsg-2ubuntu0.2_amd64.deb ...\n",
            "Unpacking libqt5sql5:amd64 (5.15.3+dfsg-2ubuntu0.2) ...\n",
            "Selecting previously unselected package libqt5help5:amd64.\n",
            "Preparing to unpack .../39-libqt5help5_5.15.3-1_amd64.deb ...\n",
            "Unpacking libqt5help5:amd64 (5.15.3-1) ...\n",
            "Selecting previously unselected package libqt5printsupport5:amd64.\n",
            "Preparing to unpack .../40-libqt5printsupport5_5.15.3+dfsg-2ubuntu0.2_amd64.deb ...\n",
            "Unpacking libqt5printsupport5:amd64 (5.15.3+dfsg-2ubuntu0.2) ...\n",
            "Selecting previously unselected package libqt5sql5-sqlite:amd64.\n",
            "Preparing to unpack .../41-libqt5sql5-sqlite_5.15.3+dfsg-2ubuntu0.2_amd64.deb ...\n",
            "Unpacking libqt5sql5-sqlite:amd64 (5.15.3+dfsg-2ubuntu0.2) ...\n",
            "Selecting previously unselected package libqt5xml5:amd64.\n",
            "Preparing to unpack .../42-libqt5xml5_5.15.3+dfsg-2ubuntu0.2_amd64.deb ...\n",
            "Unpacking libqt5xml5:amd64 (5.15.3+dfsg-2ubuntu0.2) ...\n",
            "Selecting previously unselected package libqt5xmlpatterns5:amd64.\n",
            "Preparing to unpack .../43-libqt5xmlpatterns5_5.15.3-1_amd64.deb ...\n",
            "Unpacking libqt5xmlpatterns5:amd64 (5.15.3-1) ...\n",
            "Selecting previously unselected package libwacom-bin.\n",
            "Preparing to unpack .../44-libwacom-bin_2.2.0-1_amd64.deb ...\n",
            "Unpacking libwacom-bin (2.2.0-1) ...\n",
            "Selecting previously unselected package qml-module-qt-labs-folderlistmodel:amd64.\n",
            "Preparing to unpack .../45-qml-module-qt-labs-folderlistmodel_5.15.3+dfsg-1_amd64.deb ...\n",
            "Unpacking qml-module-qt-labs-folderlistmodel:amd64 (5.15.3+dfsg-1) ...\n",
            "Selecting previously unselected package qml-module-qt-labs-settings:amd64.\n",
            "Preparing to unpack .../46-qml-module-qt-labs-settings_5.15.3+dfsg-1_amd64.deb ...\n",
            "Unpacking qml-module-qt-labs-settings:amd64 (5.15.3+dfsg-1) ...\n",
            "Selecting previously unselected package qml-module-qtquick-privatewidgets:amd64.\n",
            "Preparing to unpack .../47-qml-module-qtquick-privatewidgets_5.15.3-1_amd64.deb ...\n",
            "Unpacking qml-module-qtquick-privatewidgets:amd64 (5.15.3-1) ...\n",
            "Selecting previously unselected package qml-module-qtquick-dialogs:amd64.\n",
            "Preparing to unpack .../48-qml-module-qtquick-dialogs_5.15.3-1_amd64.deb ...\n",
            "Unpacking qml-module-qtquick-dialogs:amd64 (5.15.3-1) ...\n",
            "Selecting previously unselected package musescore-general-soundfont-small.\n",
            "Preparing to unpack .../49-musescore-general-soundfont-small_0.2.1-1_all.deb ...\n",
            "Unpacking musescore-general-soundfont-small (0.2.1-1) ...\n",
            "Selecting previously unselected package musescore-common.\n",
            "Preparing to unpack .../50-musescore-common_2.3.2+dfsg4-15_all.deb ...\n",
            "Unpacking musescore-common (2.3.2+dfsg4-15) ...\n",
            "Selecting previously unselected package musescore.\n",
            "Preparing to unpack .../51-musescore_2.3.2+dfsg4-15_amd64.deb ...\n",
            "Unpacking musescore (2.3.2+dfsg4-15) ...\n",
            "Selecting previously unselected package qt5-gtk-platformtheme:amd64.\n",
            "Preparing to unpack .../52-qt5-gtk-platformtheme_5.15.3+dfsg-2ubuntu0.2_amd64.deb ...\n",
            "Unpacking qt5-gtk-platformtheme:amd64 (5.15.3+dfsg-2ubuntu0.2) ...\n",
            "Selecting previously unselected package qttranslations5-l10n.\n",
            "Preparing to unpack .../53-qttranslations5-l10n_5.15.3-1_all.deb ...\n",
            "Unpacking qttranslations5-l10n (5.15.3-1) ...\n",
            "Setting up libportaudio2:amd64 (19.6.0-1.1) ...\n",
            "Setting up desktop-file-utils (0.26-1ubuntu3) ...\n",
            "Setting up libxcb-xinput0:amd64 (1.14-3ubuntu3) ...\n",
            "Setting up libxcb-keysyms1:amd64 (0.4.0-1build3) ...\n",
            "Setting up fonts-freefont-ttf (20120503-10build1) ...\n",
            "Setting up libxcb-render-util0:amd64 (0.3.9-1build3) ...\n",
            "Setting up libxcb-icccm4:amd64 (0.4.1-1.1build2) ...\n",
            "Setting up musescore-general-soundfont-small (0.2.1-1) ...\n",
            "update-alternatives: using /usr/share/sounds/sf3/MuseScore_General_Lite.sf3 to provide /usr/share/sounds/sf3/default-GM.sf3 (default-GM.sf3) in auto mode\n",
            "update-alternatives: using /usr/share/sounds/sf3/MuseScore_General_Lite.sf3 to provide /usr/share/sounds/sf3/MuseScore_General.sf3 (MuseScore_General.sf3) in auto mode\n",
            "Setting up libxcb-util1:amd64 (0.4.0-1build2) ...\n",
            "Setting up libxcb-xkb1:amd64 (1.14-3ubuntu3) ...\n",
            "Setting up libxcb-image0:amd64 (0.4.0-2) ...\n",
            "Setting up musescore-common (2.3.2+dfsg4-15) ...\n",
            "Setting up libxcb-xinerama0:amd64 (1.14-3ubuntu3) ...\n",
            "Setting up qttranslations5-l10n (5.15.3-1) ...\n",
            "Setting up libportmidi0:amd64 (1:217-6) ...\n",
            "Setting up libxkbcommon-x11-0:amd64 (1.4.0-1) ...\n",
            "Setting up libqt5core5a:amd64 (5.15.3+dfsg-2ubuntu0.2) ...\n",
            "Setting up libmtdev1:amd64 (1.1.6-1build4) ...\n",
            "Setting up libqt5dbus5:amd64 (5.15.3+dfsg-2ubuntu0.2) ...\n",
            "Setting up libmd4c0:amd64 (0.4.8-1) ...\n",
            "Setting up libevdev2:amd64 (1.12.1+dfsg-1) ...\n",
            "Setting up libgudev-1.0-0:amd64 (1:237-2build1) ...\n",
            "Setting up libwacom-common (2.2.0-1) ...\n",
            "Setting up libwacom9:amd64 (2.2.0-1) ...\n",
            "Setting up libqt5network5:amd64 (5.15.3+dfsg-2ubuntu0.2) ...\n",
            "Setting up libinput-bin (1.20.0-1ubuntu0.3) ...\n",
            "Setting up libqt5sql5:amd64 (5.15.3+dfsg-2ubuntu0.2) ...\n",
            "Setting up libqt5xml5:amd64 (5.15.3+dfsg-2ubuntu0.2) ...\n",
            "Setting up libqt5qml5:amd64 (5.15.3+dfsg-1) ...\n",
            "Setting up libwacom-bin (2.2.0-1) ...\n",
            "Setting up libinput10:amd64 (1.20.0-1ubuntu0.3) ...\n",
            "Setting up libqt5qmlmodels5:amd64 (5.15.3+dfsg-1) ...\n",
            "Setting up libqt5sql5-sqlite:amd64 (5.15.3+dfsg-2ubuntu0.2) ...\n",
            "Setting up qml-module-qtqml:amd64 (5.15.3+dfsg-1) ...\n",
            "Setting up libqt5xmlpatterns5:amd64 (5.15.3-1) ...\n",
            "Setting up libqt5gui5:amd64 (5.15.3+dfsg-2ubuntu0.2) ...\n",
            "Setting up libqt5widgets5:amd64 (5.15.3+dfsg-2ubuntu0.2) ...\n",
            "Setting up libqt5help5:amd64 (5.15.3-1) ...\n",
            "Setting up qt5-gtk-platformtheme:amd64 (5.15.3+dfsg-2ubuntu0.2) ...\n",
            "Setting up qml-module-qt-labs-folderlistmodel:amd64 (5.15.3+dfsg-1) ...\n",
            "Setting up libqt5qmlworkerscript5:amd64 (5.15.3+dfsg-1) ...\n",
            "Setting up qml-module-qt-labs-settings:amd64 (5.15.3+dfsg-1) ...\n",
            "Setting up libqt5printsupport5:amd64 (5.15.3+dfsg-2ubuntu0.2) ...\n",
            "Setting up qml-module-qtqml-models2:amd64 (5.15.3+dfsg-1) ...\n",
            "Setting up libqt5quick5:amd64 (5.15.3+dfsg-1) ...\n",
            "Setting up libqt5svg5:amd64 (5.15.3-1) ...\n",
            "Setting up qml-module-qtquick-window2:amd64 (5.15.3+dfsg-1) ...\n",
            "Setting up qml-module-qtquick-layouts:amd64 (5.15.3+dfsg-1) ...\n",
            "Setting up qml-module-qtquick2:amd64 (5.15.3+dfsg-1) ...\n",
            "Setting up qml-module-qtquick-privatewidgets:amd64 (5.15.3-1) ...\n",
            "Setting up qml-module-qtgraphicaleffects:amd64 (5.15.3-1) ...\n",
            "Setting up qml-module-qtquick-dialogs:amd64 (5.15.3-1) ...\n",
            "Setting up qml-module-qtquick-controls:amd64 (5.15.3-1) ...\n",
            "Setting up musescore (2.3.2+dfsg4-15) ...\n",
            "Processing triggers for hicolor-icon-theme (0.17-2) ...\n",
            "Processing triggers for libc-bin (2.35-0ubuntu3.4) ...\n",
            "/sbin/ldconfig.real: /usr/local/lib/libumf.so.0 is not a symbolic link\n",
            "\n",
            "/sbin/ldconfig.real: /usr/local/lib/libtbbbind.so.3 is not a symbolic link\n",
            "\n",
            "/sbin/ldconfig.real: /usr/local/lib/libtcm.so.1 is not a symbolic link\n",
            "\n",
            "/sbin/ldconfig.real: /usr/local/lib/libur_loader.so.0 is not a symbolic link\n",
            "\n",
            "/sbin/ldconfig.real: /usr/local/lib/libtcm_debug.so.1 is not a symbolic link\n",
            "\n",
            "/sbin/ldconfig.real: /usr/local/lib/libtbbbind_2_5.so.3 is not a symbolic link\n",
            "\n",
            "/sbin/ldconfig.real: /usr/local/lib/libtbbbind_2_0.so.3 is not a symbolic link\n",
            "\n",
            "/sbin/ldconfig.real: /usr/local/lib/libur_adapter_level_zero.so.0 is not a symbolic link\n",
            "\n",
            "/sbin/ldconfig.real: /usr/local/lib/libtbbmalloc_proxy.so.2 is not a symbolic link\n",
            "\n",
            "/sbin/ldconfig.real: /usr/local/lib/libtbbmalloc.so.2 is not a symbolic link\n",
            "\n",
            "/sbin/ldconfig.real: /usr/local/lib/libtbb.so.12 is not a symbolic link\n",
            "\n",
            "/sbin/ldconfig.real: /usr/local/lib/libur_adapter_opencl.so.0 is not a symbolic link\n",
            "\n",
            "/sbin/ldconfig.real: /usr/local/lib/libhwloc.so.15 is not a symbolic link\n",
            "\n",
            "Processing triggers for man-db (2.10.2-1) ...\n",
            "Processing triggers for shared-mime-info (2.1-2) ...\n",
            "Processing triggers for fontconfig (2.13.1-4.2ubuntu5) ...\n",
            "Reading package lists... Done\n",
            "Building dependency tree... Done\n",
            "Reading state information... Done\n",
            "E: Unable to locate package music21\n",
            "Reading package lists... Done\n",
            "Building dependency tree... Done\n",
            "Reading state information... Done\n",
            "The following additional packages will be installed:\n",
            "  fluid-soundfont-gm libfluidsynth3 libinstpatch-1.0-2 qsynth\n",
            "Suggested packages:\n",
            "  fluid-soundfont-gs jackd\n",
            "The following NEW packages will be installed:\n",
            "  fluid-soundfont-gm fluidsynth libfluidsynth3 libinstpatch-1.0-2 qsynth\n",
            "0 upgraded, 5 newly installed, 0 to remove and 49 not upgraded.\n",
            "Need to get 130 MB of archives.\n",
            "After this operation, 151 MB of additional disk space will be used.\n",
            "Get:1 http://archive.ubuntu.com/ubuntu jammy/universe amd64 fluid-soundfont-gm all 3.1-5.3 [130 MB]\n",
            "Get:2 http://archive.ubuntu.com/ubuntu jammy/universe amd64 libinstpatch-1.0-2 amd64 1.1.6-1 [240 kB]\n",
            "Get:3 http://archive.ubuntu.com/ubuntu jammy/universe amd64 libfluidsynth3 amd64 2.2.5-1 [246 kB]\n",
            "Get:4 http://archive.ubuntu.com/ubuntu jammy/universe amd64 fluidsynth amd64 2.2.5-1 [27.4 kB]\n",
            "Get:5 http://archive.ubuntu.com/ubuntu jammy/universe amd64 qsynth amd64 0.9.6-1 [305 kB]\n",
            "Fetched 130 MB in 6s (22.2 MB/s)\n",
            "Selecting previously unselected package fluid-soundfont-gm.\n",
            "(Reading database ... 125643 files and directories currently installed.)\n",
            "Preparing to unpack .../fluid-soundfont-gm_3.1-5.3_all.deb ...\n",
            "Unpacking fluid-soundfont-gm (3.1-5.3) ...\n",
            "Selecting previously unselected package libinstpatch-1.0-2:amd64.\n",
            "Preparing to unpack .../libinstpatch-1.0-2_1.1.6-1_amd64.deb ...\n",
            "Unpacking libinstpatch-1.0-2:amd64 (1.1.6-1) ...\n",
            "Selecting previously unselected package libfluidsynth3:amd64.\n",
            "Preparing to unpack .../libfluidsynth3_2.2.5-1_amd64.deb ...\n",
            "Unpacking libfluidsynth3:amd64 (2.2.5-1) ...\n",
            "Selecting previously unselected package fluidsynth.\n",
            "Preparing to unpack .../fluidsynth_2.2.5-1_amd64.deb ...\n",
            "Unpacking fluidsynth (2.2.5-1) ...\n",
            "Selecting previously unselected package qsynth.\n",
            "Preparing to unpack .../qsynth_0.9.6-1_amd64.deb ...\n",
            "Unpacking qsynth (0.9.6-1) ...\n",
            "Setting up fluid-soundfont-gm (3.1-5.3) ...\n",
            "update-alternatives: using /usr/share/sounds/sf2/FluidR3_GM.sf2 to provide /usr/share/sounds/sf2/default-GM.sf2 (default-GM.sf2) in auto mode\n",
            "Setting up libinstpatch-1.0-2:amd64 (1.1.6-1) ...\n",
            "Setting up libfluidsynth3:amd64 (2.2.5-1) ...\n",
            "Setting up qsynth (0.9.6-1) ...\n",
            "Setting up fluidsynth (2.2.5-1) ...\n",
            "Created symlink /etc/systemd/user/default.target.wants/fluidsynth.service → /usr/lib/systemd/user/fluidsynth.service.\n",
            "Processing triggers for hicolor-icon-theme (0.17-2) ...\n",
            "Processing triggers for libc-bin (2.35-0ubuntu3.4) ...\n",
            "/sbin/ldconfig.real: /usr/local/lib/libumf.so.0 is not a symbolic link\n",
            "\n",
            "/sbin/ldconfig.real: /usr/local/lib/libtbbbind.so.3 is not a symbolic link\n",
            "\n",
            "/sbin/ldconfig.real: /usr/local/lib/libtcm.so.1 is not a symbolic link\n",
            "\n",
            "/sbin/ldconfig.real: /usr/local/lib/libur_loader.so.0 is not a symbolic link\n",
            "\n",
            "/sbin/ldconfig.real: /usr/local/lib/libtcm_debug.so.1 is not a symbolic link\n",
            "\n",
            "/sbin/ldconfig.real: /usr/local/lib/libtbbbind_2_5.so.3 is not a symbolic link\n",
            "\n",
            "/sbin/ldconfig.real: /usr/local/lib/libtbbbind_2_0.so.3 is not a symbolic link\n",
            "\n",
            "/sbin/ldconfig.real: /usr/local/lib/libur_adapter_level_zero.so.0 is not a symbolic link\n",
            "\n",
            "/sbin/ldconfig.real: /usr/local/lib/libtbbmalloc_proxy.so.2 is not a symbolic link\n",
            "\n",
            "/sbin/ldconfig.real: /usr/local/lib/libtbbmalloc.so.2 is not a symbolic link\n",
            "\n",
            "/sbin/ldconfig.real: /usr/local/lib/libtbb.so.12 is not a symbolic link\n",
            "\n",
            "/sbin/ldconfig.real: /usr/local/lib/libur_adapter_opencl.so.0 is not a symbolic link\n",
            "\n",
            "/sbin/ldconfig.real: /usr/local/lib/libhwloc.so.15 is not a symbolic link\n",
            "\n",
            "Processing triggers for man-db (2.10.2-1) ...\n",
            "Processing triggers for desktop-file-utils (0.26-1ubuntu3) ...\n"
          ]
        }
      ],
      "source": [
        "!apt-get install musescore\n",
        "!apt-get install music21\n",
        "!apt-get install fluidsynth"
      ]
    },
    {
      "cell_type": "code",
      "source": [
        "%%writefile transformer_utils.py\n",
        "import music21"
      ],
      "metadata": {
        "colab": {
          "base_uri": "https://localhost:8080/"
        },
        "id": "mza-MWSSdtTP",
        "outputId": "aaa5e046-1f02-4344-a598-380a5fcf7061"
      },
      "execution_count": 2,
      "outputs": [
        {
          "output_type": "stream",
          "name": "stdout",
          "text": [
            "Writing transformer_utils.py\n"
          ]
        }
      ]
    },
    {
      "cell_type": "code",
      "source": [
        "!pip install music21"
      ],
      "metadata": {
        "colab": {
          "base_uri": "https://localhost:8080/"
        },
        "id": "h59g6RnMSLa7",
        "outputId": "8e20a4f4-a5da-4997-edea-b648e6f691a3"
      },
      "execution_count": 3,
      "outputs": [
        {
          "output_type": "stream",
          "name": "stdout",
          "text": [
            "Requirement already satisfied: music21 in /usr/local/lib/python3.10/dist-packages (9.3.0)\n",
            "Requirement already satisfied: chardet in /usr/local/lib/python3.10/dist-packages (from music21) (5.2.0)\n",
            "Requirement already satisfied: joblib in /usr/local/lib/python3.10/dist-packages (from music21) (1.4.2)\n",
            "Requirement already satisfied: jsonpickle in /usr/local/lib/python3.10/dist-packages (from music21) (4.0.0)\n",
            "Requirement already satisfied: matplotlib in /usr/local/lib/python3.10/dist-packages (from music21) (3.8.0)\n",
            "Requirement already satisfied: more-itertools in /usr/local/lib/python3.10/dist-packages (from music21) (10.5.0)\n",
            "Requirement already satisfied: numpy in /usr/local/lib/python3.10/dist-packages (from music21) (1.26.4)\n",
            "Requirement already satisfied: requests in /usr/local/lib/python3.10/dist-packages (from music21) (2.32.3)\n",
            "Requirement already satisfied: webcolors>=1.5 in /usr/local/lib/python3.10/dist-packages (from music21) (24.11.1)\n",
            "Requirement already satisfied: contourpy>=1.0.1 in /usr/local/lib/python3.10/dist-packages (from matplotlib->music21) (1.3.1)\n",
            "Requirement already satisfied: cycler>=0.10 in /usr/local/lib/python3.10/dist-packages (from matplotlib->music21) (0.12.1)\n",
            "Requirement already satisfied: fonttools>=4.22.0 in /usr/local/lib/python3.10/dist-packages (from matplotlib->music21) (4.55.1)\n",
            "Requirement already satisfied: kiwisolver>=1.0.1 in /usr/local/lib/python3.10/dist-packages (from matplotlib->music21) (1.4.7)\n",
            "Requirement already satisfied: packaging>=20.0 in /usr/local/lib/python3.10/dist-packages (from matplotlib->music21) (24.2)\n",
            "Requirement already satisfied: pillow>=6.2.0 in /usr/local/lib/python3.10/dist-packages (from matplotlib->music21) (11.0.0)\n",
            "Requirement already satisfied: pyparsing>=2.3.1 in /usr/local/lib/python3.10/dist-packages (from matplotlib->music21) (3.2.0)\n",
            "Requirement already satisfied: python-dateutil>=2.7 in /usr/local/lib/python3.10/dist-packages (from matplotlib->music21) (2.8.2)\n",
            "Requirement already satisfied: charset-normalizer<4,>=2 in /usr/local/lib/python3.10/dist-packages (from requests->music21) (3.4.0)\n",
            "Requirement already satisfied: idna<4,>=2.5 in /usr/local/lib/python3.10/dist-packages (from requests->music21) (3.10)\n",
            "Requirement already satisfied: urllib3<3,>=1.21.1 in /usr/local/lib/python3.10/dist-packages (from requests->music21) (2.2.3)\n",
            "Requirement already satisfied: certifi>=2017.4.17 in /usr/local/lib/python3.10/dist-packages (from requests->music21) (2024.8.30)\n",
            "Requirement already satisfied: six>=1.5 in /usr/local/lib/python3.10/dist-packages (from python-dateutil>=2.7->matplotlib->music21) (1.16.0)\n"
          ]
        }
      ]
    },
    {
      "cell_type": "code",
      "source": [
        "%load_ext autoreload\n",
        "%autoreload 2\n",
        "\n",
        "import os\n",
        "import glob\n",
        "import numpy as np\n",
        "import time\n",
        "import matplotlib.pyplot as plt\n",
        "\n",
        "import tensorflow as tf\n",
        "from tensorflow.keras import layers, models, losses, callbacks\n",
        "\n",
        "import pickle\n",
        "import music21\n",
        "import keras\n",
        "\n",
        "from fractions import Fraction\n"
      ],
      "metadata": {
        "id": "u03AD6g3TDnZ",
        "colab": {
          "base_uri": "https://localhost:8080/"
        },
        "outputId": "114d1960-29a7-41a9-bb44-5a39888e42de"
      },
      "execution_count": 36,
      "outputs": [
        {
          "output_type": "stream",
          "name": "stdout",
          "text": [
            "The autoreload extension is already loaded. To reload it, use:\n",
            "  %reload_ext autoreload\n"
          ]
        }
      ]
    },
    {
      "cell_type": "markdown",
      "source": [
        "#Parameters"
      ],
      "metadata": {
        "id": "uEH9ltc2WCJS"
      }
    },
    {
      "cell_type": "code",
      "source": [
        "PARSE_MIDI_FILES = True\n",
        "PARSED_DATA_PATH = \"/content/data/\"\n",
        "DATASET_REPETITIONS = 1\n",
        "\n",
        "SEQ_LEN = 64  # Sequence length\n",
        "EMBEDDING_DIM = 256\n",
        "KEY_DIM = 256\n",
        "N_HEADS = 4\n",
        "DROPOUT_RATE = 0.3\n",
        "FEED_FORWARD_DIM = 256\n",
        "LOAD_MODEL = False\n",
        "\n",
        "# optimization\n",
        "EPOCHS = 100\n",
        "BATCH_SIZE = 64\n",
        "\n",
        "GENERATE_LEN = 50"
      ],
      "metadata": {
        "id": "5dyLaY9zTH17"
      },
      "execution_count": 37,
      "outputs": []
    },
    {
      "cell_type": "code",
      "source": [
        "def parse_midi_files(file_list, parser, seq_len, parsed_data_path=None):\n",
        "    os.makedirs(parsed_data_path, exist_ok=True)\n",
        "\n",
        "    notes_list = []\n",
        "    duration_list = []\n",
        "    notes = []\n",
        "    durations = []\n",
        "\n",
        "    for i, file in enumerate(file_list):\n",
        "        print(i + 1, \"Parsing %s\" % file)\n",
        "        score = parser.parse(file).chordify()\n",
        "\n",
        "        notes.append(\"START\")\n",
        "        durations.append(\"0.0\")\n",
        "\n",
        "        for element in score.flat:\n",
        "            note_name = None\n",
        "            duration_name = None\n",
        "\n",
        "            if isinstance(element, music21.key.Key):\n",
        "                note_name = str(element.tonic.name) + \":\" + str(element.mode)\n",
        "                duration_name = \"0.0\"\n",
        "\n",
        "            elif isinstance(element, music21.meter.TimeSignature):\n",
        "                note_name = str(element.ratioString) + \"TS\"\n",
        "                duration_name = \"0.0\"\n",
        "\n",
        "            elif isinstance(element, music21.chord.Chord):\n",
        "                note_name = element.pitches[-1].nameWithOctave\n",
        "                duration_name = str(element.duration.quarterLength)\n",
        "\n",
        "            elif isinstance(element, music21.note.Rest):\n",
        "                note_name = str(element.name)\n",
        "                duration_name = str(element.duration.quarterLength)\n",
        "\n",
        "            elif isinstance(element, music21.note.Note):\n",
        "                note_name = str(element.nameWithOctave)\n",
        "                duration_name = str(element.duration.quarterLength)\n",
        "\n",
        "            if note_name and duration_name:\n",
        "                notes.append(note_name)\n",
        "                durations.append(duration_name)\n",
        "        print(f\"{len(notes)} notes parsed\")\n",
        "\n",
        "    notes_list = []\n",
        "    duration_list = []\n",
        "    print(f\"Building sequences of length {seq_len}\")\n",
        "    for i in range(len(notes) - seq_len):\n",
        "        notes_list.append(\" \".join(notes[i : (i + seq_len)]))\n",
        "        duration_list.append(\" \".join(durations[i : (i + seq_len)]))\n",
        "\n",
        "    if parsed_data_path:\n",
        "        with open(os.path.join(parsed_data_path, \"notes\"), \"wb\") as f:\n",
        "            pickle.dump(notes_list, f)\n",
        "        with open(os.path.join(parsed_data_path, \"durations\"), \"wb\") as f:\n",
        "            pickle.dump(duration_list, f)\n",
        "\n",
        "    return notes_list, duration_list"
      ],
      "metadata": {
        "id": "5s_O583-bpey"
      },
      "execution_count": 47,
      "outputs": []
    },
    {
      "cell_type": "code",
      "source": [
        "def load_parsed_files(parsed_data_path):\n",
        "    with open(os.path.join(parsed_data_path, \"notes\"), \"rb\") as f:\n",
        "        notes = pickle.load(f)\n",
        "    with open(os.path.join(parsed_data_path, \"durations\"), \"rb\") as f:\n",
        "        durations = pickle.load(f)\n",
        "    return notes, durations\n"
      ],
      "metadata": {
        "id": "y79pq0lhbyEn"
      },
      "execution_count": 48,
      "outputs": []
    },
    {
      "cell_type": "code",
      "source": [
        "def get_midi_note(sample_note, sample_duration):\n",
        "    new_note = None\n",
        "\n",
        "    if \"TS\" in sample_note:\n",
        "        new_note = music21.meter.TimeSignature(sample_note.split(\"TS\")[0])\n",
        "\n",
        "    elif \"major\" in sample_note or \"minor\" in sample_note:\n",
        "        tonic, mode = sample_note.split(\":\")\n",
        "        new_note = music21.key.Key(tonic, mode)\n",
        "\n",
        "    elif sample_note == \"rest\":\n",
        "        new_note = music21.note.Rest()\n",
        "        new_note.duration = music21.duration.Duration(\n",
        "            float(Fraction(sample_duration))\n",
        "        )\n",
        "        new_note.storedInstrument = music21.instrument.Violoncello()\n",
        "\n",
        "    elif \".\" in sample_note:\n",
        "        notes_in_chord = sample_note.split(\".\")\n",
        "        chord_notes = []\n",
        "        for current_note in notes_in_chord:\n",
        "            n = music21.note.Note(current_note)\n",
        "            n.duration = music21.duration.Duration(\n",
        "                float(Fraction(sample_duration))\n",
        "            )\n",
        "            n.storedInstrument = music21.instrument.Violoncello()\n",
        "            chord_notes.append(n)\n",
        "        new_note = music21.chord.Chord(chord_notes)\n",
        "\n",
        "    elif sample_note == \"rest\":\n",
        "        new_note = music21.note.Rest()\n",
        "        new_note.duration = music21.duration.Duration(\n",
        "            float(Fraction(sample_duration))\n",
        "        )\n",
        "        new_note.storedInstrument = music21.instrument.Violoncello()\n",
        "\n",
        "    elif sample_note != \"START\":\n",
        "        new_note = music21.note.Note(sample_note)\n",
        "        new_note.duration = music21.duration.Duration(\n",
        "            float(Fraction(sample_duration))\n",
        "        )\n",
        "        new_note.storedInstrument = music21.instrument.Violoncello()\n",
        "\n",
        "    return new_note\n"
      ],
      "metadata": {
        "id": "ymET1aaZb1Z-"
      },
      "execution_count": 49,
      "outputs": []
    },
    {
      "cell_type": "code",
      "source": [
        "class SinePositionEncoding(keras.layers.Layer):\n",
        "    \"\"\"Sinusoidal positional encoding layer.\n",
        "    This layer calculates the position encoding as a mix of sine and cosine\n",
        "    functions with geometrically increasing wavelengths. Defined and formulized\n",
        "    in [Attention is All You Need](https://arxiv.org/abs/1706.03762).\n",
        "    Takes as input an embedded token tensor. The input must have shape\n",
        "    [batch_size, sequence_length, feature_size]. This layer will return a\n",
        "    positional encoding the same size as the embedded token tensor, which\n",
        "    can be added directly to the embedded token tensor.\n",
        "    Args:\n",
        "        max_wavelength: The maximum angular wavelength of the sine/cosine\n",
        "            curves, as described in Attention is All You Need. Defaults to\n",
        "            10000.\n",
        "    Examples:\n",
        "    ```python\n",
        "    # create a simple embedding layer with sinusoidal positional encoding\n",
        "    seq_len = 100\n",
        "    vocab_size = 1000\n",
        "    embedding_dim = 32\n",
        "    inputs = keras.Input((seq_len,), dtype=tf.float32)\n",
        "    embedding = keras.layers.Embedding(\n",
        "        input_dim=vocab_size, output_dim=embedding_dim\n",
        "    )(inputs)\n",
        "    positional_encoding = keras_nlp.layers.SinePositionEncoding()(embedding)\n",
        "    outputs = embedding + positional_encoding\n",
        "    ```\n",
        "    References:\n",
        "     - [Vaswani et al., 2017](https://arxiv.org/abs/1706.03762)\n",
        "    \"\"\"\n",
        "\n",
        "    def __init__(\n",
        "        self,\n",
        "        max_wavelength=10000,\n",
        "        **kwargs,\n",
        "    ):\n",
        "        super().__init__(**kwargs)\n",
        "        self.max_wavelength = max_wavelength\n",
        "\n",
        "    def call(self, inputs):\n",
        "        # TODO(jbischof): replace `hidden_size` with`hidden_dim` for consistency\n",
        "        # with other layers.\n",
        "        input_shape = tf.shape(inputs)\n",
        "        # length of sequence is the second last dimension of the inputs\n",
        "        seq_length = input_shape[-2]\n",
        "        hidden_size = input_shape[-1]\n",
        "        position = tf.cast(tf.range(seq_length), self.compute_dtype)\n",
        "        min_freq = tf.cast(1 / self.max_wavelength, dtype=self.compute_dtype)\n",
        "        timescales = tf.pow(\n",
        "            min_freq,\n",
        "            tf.cast(2 * (tf.range(hidden_size) // 2), self.compute_dtype)\n",
        "            / tf.cast(hidden_size, self.compute_dtype),\n",
        "        )\n",
        "        angles = tf.expand_dims(position, 1) * tf.expand_dims(timescales, 0)\n",
        "        # even indices are sine, odd are cosine\n",
        "        cos_mask = tf.cast(tf.range(hidden_size) % 2, self.compute_dtype)\n",
        "        sin_mask = 1 - cos_mask\n",
        "        # embedding shape is [seq_length, hidden_size]\n",
        "        positional_encodings = (\n",
        "            tf.sin(angles) * sin_mask + tf.cos(angles) * cos_mask\n",
        "        )\n",
        "\n",
        "        return tf.broadcast_to(positional_encodings, input_shape)\n",
        "\n",
        "    def get_config(self):\n",
        "        config = super().get_config()\n",
        "        config.update(\n",
        "            {\n",
        "                \"max_wavelength\": self.max_wavelength,\n",
        "            }\n",
        "        )\n",
        "        return config"
      ],
      "metadata": {
        "id": "u22sfK0cb2E0"
      },
      "execution_count": 50,
      "outputs": []
    },
    {
      "cell_type": "markdown",
      "source": [
        "Prepare the Data"
      ],
      "metadata": {
        "id": "8GPofyNNWEfG"
      }
    },
    {
      "cell_type": "code",
      "source": [
        "# Load the data\n",
        "from google.colab import drive\n",
        "drive.mount('/content/drive')\n",
        "\n",
        "\n",
        "import glob\n",
        "tchai_folder_path = '/content/drive/MyDrive/tchai/**/*.mid' # For files with .mid extension\n",
        "tchai_folder_path2 = '/content/drive/MyDrive/tchai/**/*.midi' # For files with .midi extension\n",
        "\n",
        "file_list_mid = glob.glob(tchai_folder_path, recursive=True)\n",
        "file_list_midi = glob.glob(tchai_folder_path2, recursive=True)\n",
        "\n",
        "file_list = file_list_mid + file_list_midi\n",
        "\n",
        "print(f\"Found {len(file_list)} midi files\")"
      ],
      "metadata": {
        "id": "Ae58eI6-TIfd",
        "colab": {
          "base_uri": "https://localhost:8080/"
        },
        "outputId": "818bb24d-3500-46d7-c6cc-ae5399ba3d67"
      },
      "execution_count": 51,
      "outputs": [
        {
          "output_type": "stream",
          "name": "stdout",
          "text": [
            "Drive already mounted at /content/drive; to attempt to forcibly remount, call drive.mount(\"/content/drive\", force_remount=True).\n",
            "Found 23 midi files\n"
          ]
        }
      ]
    },
    {
      "cell_type": "code",
      "source": [
        "parser = music21.converter"
      ],
      "metadata": {
        "id": "q9mcrSoFTIjU"
      },
      "execution_count": 52,
      "outputs": []
    },
    {
      "cell_type": "code",
      "source": [
        "example_score = (\n",
        "    music21.converter.parse(file_list[1]).splitAtQuarterLength(12)[0].chordify()\n",
        ")"
      ],
      "metadata": {
        "id": "maKvjPVATPjW"
      },
      "execution_count": 53,
      "outputs": []
    },
    {
      "cell_type": "code",
      "source": [
        "example_score.show(\"text\")"
      ],
      "metadata": {
        "id": "VRgqHpJhTPqY",
        "colab": {
          "base_uri": "https://localhost:8080/"
        },
        "outputId": "5251ebd2-c332-4870-e325-c4a3ee93556f"
      },
      "execution_count": 54,
      "outputs": [
        {
          "output_type": "stream",
          "name": "stdout",
          "text": [
            "{0.0} <music21.metadata.Metadata object at 0x7d618b72e440>\n",
            "{0.0} <music21.stream.Measure 1 offset=0.0>\n",
            "    {0.0} <music21.instrument.Flute 'Flute'>\n",
            "    {0.0} <music21.instrument.Flute 'Flute'>\n",
            "    {0.0} <music21.instrument.Flute 'Flute'>\n",
            "    {0.0} <music21.instrument.Flute '3 Flutes: 3 Flutes'>\n",
            "    {0.0} <music21.clef.TrebleClef>\n",
            "    {0.0} <music21.tempo.MetronomeMark larghetto Quarter=62>\n",
            "    {0.0} <music21.key.Key of G major>\n",
            "    {0.0} <music21.meter.TimeSignature 2/4>\n",
            "    {0.0} <music21.chord.Chord E2 E3>\n",
            "    {0.5} <music21.chord.Chord G3 B3 E4>\n",
            "    {1.0} <music21.chord.Chord E2 E3>\n",
            "    {1.5} <music21.chord.Chord A3 C4 F#4>\n",
            "{2.0} <music21.stream.Measure 2 offset=2.0>\n",
            "    {0.0} <music21.chord.Chord E2 E3>\n",
            "    {0.5} <music21.chord.Chord B-3 C#4 G4>\n",
            "    {1.0} <music21.chord.Chord E2 E3>\n",
            "    {1.5} <music21.chord.Chord A3 C4 E-4>\n",
            "{4.0} <music21.stream.Measure 3 offset=4.0>\n",
            "    {0.0} <music21.chord.Chord E2 E3>\n",
            "    {0.5} <music21.chord.Chord G3 B3 E4>\n",
            "    {1.0} <music21.chord.Chord E2 E3>\n",
            "    {1.5} <music21.chord.Chord A3 C4 F#4>\n",
            "{6.0} <music21.stream.Measure 4 offset=6.0>\n",
            "    {0.0} <music21.chord.Chord E2 E3>\n",
            "    {0.5} <music21.chord.Chord B-3 C#4 G4>\n",
            "    {1.0} <music21.chord.Chord E2 E3>\n",
            "    {1.5} <music21.chord.Chord A3 C4 E-4>\n",
            "{8.0} <music21.stream.Measure 5 offset=8.0>\n",
            "    {0.0} <music21.chord.Chord E2 E3>\n",
            "    {0.5} <music21.chord.Chord G3 B3 E4 E6 B6 G7>\n",
            "    {0.75} <music21.chord.Chord G3 B3 E4 B5 G6 E7>\n",
            "    {1.0} <music21.chord.Chord E2 E3 E6 B6 G7>\n",
            "    {1.25} <music21.chord.Chord E2 E3>\n",
            "    {1.5} <music21.chord.Chord A3 C4 F#4 C6 E6 A6 F#7>\n",
            "    {1.75} <music21.chord.Chord A3 C4 F#4>\n",
            "{10.0} <music21.stream.Measure 6 offset=10.0>\n",
            "    {0.0} <music21.chord.Chord E2 E3 A5 C6 F#6 E-7>\n",
            "    {0.25} <music21.chord.Chord E2 E3>\n",
            "    {0.5} <music21.chord.Chord B-3 C#4 G4 B-5 C#6 G6 E7>\n",
            "    {0.75} <music21.chord.Chord B-3 C#4 G4>\n",
            "    {1.0} <music21.chord.Chord E2 E3 B5 F6 G#6 D7>\n",
            "    {1.25} <music21.chord.Chord E2 E3 B5 F6 G#6 D7>\n",
            "    {1.5} <music21.chord.Chord B3 D4 G#4 B5 F6 G#6 D7>\n",
            "    {1.75} <music21.chord.Chord B3 D4 G#4>\n"
          ]
        }
      ]
    },
    {
      "cell_type": "code",
      "source": [
        "if PARSE_MIDI_FILES:\n",
        "    notes, durations = parse_midi_files(\n",
        "        file_list, parser, SEQ_LEN + 1, PARSED_DATA_PATH\n",
        "    )\n",
        "else:\n",
        "    notes, durations = load_parsed_files()"
      ],
      "metadata": {
        "id": "JoWwe20FTSLd",
        "colab": {
          "base_uri": "https://localhost:8080/"
        },
        "outputId": "ee284a30-e4e3-487e-b984-a7b8a4c20546"
      },
      "execution_count": 55,
      "outputs": [
        {
          "output_type": "stream",
          "name": "stdout",
          "text": [
            "1 Parsing /content/drive/MyDrive/tchai/tchaikovsky_nutcracker_suite_overture_71a_1_(c)kirschbaum.mid\n"
          ]
        },
        {
          "output_type": "stream",
          "name": "stderr",
          "text": [
            "<ipython-input-55-04172d0f16ff>:2: Music21DeprecationWarning: .flat is deprecated.  Call .flatten() instead\n",
            "  notes, durations = parse_midi_files(\n"
          ]
        },
        {
          "output_type": "stream",
          "name": "stdout",
          "text": [
            "1310 notes parsed\n",
            "2 Parsing /content/drive/MyDrive/tchai/sugar-plum-fairy.mid\n",
            "1698 notes parsed\n",
            "3 Parsing /content/drive/MyDrive/tchai/tchaikovsky_nutcracker_act-1_0_overture_(c)yogore.mid\n",
            "3008 notes parsed\n",
            "4 Parsing /content/drive/MyDrive/tchai/nutcrkr1.mid\n",
            "4341 notes parsed\n",
            "5 Parsing /content/drive/MyDrive/tchai/Tchaikovsky_-_Waltz_The_Sleeping_Beauty_Full_Piano_Solo_Medium.mid\n",
            "6032 notes parsed\n",
            "6 Parsing /content/drive/MyDrive/tchai/tchai1.mid\n",
            "6485 notes parsed\n",
            "7 Parsing /content/drive/MyDrive/tchai/tchai2.mid\n",
            "11267 notes parsed\n",
            "8 Parsing /content/drive/MyDrive/tchai/tchai3.mid\n",
            "12774 notes parsed\n",
            "9 Parsing /content/drive/MyDrive/tchai/tchai4.mid\n",
            "13177 notes parsed\n",
            "10 Parsing /content/drive/MyDrive/tchai/tchai5.mid\n",
            "13796 notes parsed\n",
            "11 Parsing /content/drive/MyDrive/tchai/tchai6.mid\n",
            "17856 notes parsed\n",
            "12 Parsing /content/drive/MyDrive/tchai/tchai7.mid\n",
            "19997 notes parsed\n",
            "13 Parsing /content/drive/MyDrive/tchai/tchai8.mid\n",
            "21542 notes parsed\n",
            "14 Parsing /content/drive/MyDrive/tchai/[Free-scores.com]_tchaikovsky-piotr-ilitch-danse-e-draga-87881.midi\n",
            "22098 notes parsed\n",
            "15 Parsing /content/drive/MyDrive/tchai/[Free-scores.com]_tchaikovsky-piotr-ilitch-piano-sonata-c-sharp-minor-posth-2nd-movement-159463.midi\n",
            "22958 notes parsed\n",
            "16 Parsing /content/drive/MyDrive/tchai/[Free-scores.com]_tchaikovsky-piotr-ilitch-waltz-the-flowers-valse-des-fleurs-blumenwalzer-139022.midi\n",
            "23632 notes parsed\n",
            "17 Parsing /content/drive/MyDrive/tchai/[Free-scores.com]_tchaikovsky-piotr-ilitch-1812-overture-measure-349-end-8286.midi\n",
            "23915 notes parsed\n",
            "18 Parsing /content/drive/MyDrive/tchai/[Free-scores.com]_tchaikovsky-piotr-ilitch-the-seasons-january-9156.midi\n",
            "24707 notes parsed\n",
            "19 Parsing /content/drive/MyDrive/tchai/[Free-scores.com]_tchaikovsky-piotr-ilitch-the-seasons-august-harvest-time-3136.midi\n",
            "25720 notes parsed\n",
            "20 Parsing /content/drive/MyDrive/tchai/[Free-scores.com]_tchaikovsky-piotr-ilitch-the-seasons-february-carneval-10565.midi\n",
            "26577 notes parsed\n",
            "21 Parsing /content/drive/MyDrive/tchai/[Free-scores.com]_tchaikovsky-piotr-ilitch-nathalie-valse-166714.midi\n",
            "26883 notes parsed\n",
            "22 Parsing /content/drive/MyDrive/tchai/[Free-scores.com]_tchaikovsky-piotr-ilitch-the-seasons-706.midi\n",
            "28070 notes parsed\n",
            "23 Parsing /content/drive/MyDrive/tchai/[Free-scores.com]_tchaikovsky-piotr-ilitch-the-seasons-707.midi\n",
            "29489 notes parsed\n",
            "Building sequences of length 65\n"
          ]
        }
      ]
    },
    {
      "cell_type": "code",
      "source": [
        "example_notes = notes[600]\n",
        "example_durations = durations[600]\n",
        "print(\"\\nNotes string\\n\", example_notes, \"...\")\n",
        "print(\"\\nDuration string\\n\", example_durations, \"...\")"
      ],
      "metadata": {
        "id": "iosjDc-lTSOF",
        "colab": {
          "base_uri": "https://localhost:8080/"
        },
        "outputId": "2ab69f31-6a4c-4fa2-ba06-5180fef6b420"
      },
      "execution_count": 56,
      "outputs": [
        {
          "output_type": "stream",
          "name": "stdout",
          "text": [
            "\n",
            "Notes string\n",
            " G6 E6 G6 F6 F6 F6 G6 G6 G6 E6 G6 F6 F6 F6 G6 G6 G6 E6 G6 F6 F6 F6 D6 C6 B5 C6 B-5 A5 A5 A5 G5 F5 F5 F5 D5 C5 G5 F5 B-5 A5 D6 C6 F6 F6 E6 E6 F6 F6 rest B-5 rest E-6 rest D6 C6 C6 G6 rest F6 rest B-5 B-3 E-6 E-6 D6 ...\n",
            "\n",
            "Duration string\n",
            " 0.25 0.25 0.25 0.25 0.25 0.25 0.25 0.25 0.25 0.25 0.25 0.25 0.25 0.25 0.25 0.25 0.25 0.25 0.25 0.25 0.25 0.25 0.25 0.25 0.25 0.25 0.25 0.25 0.25 0.25 0.25 0.25 0.25 0.25 0.25 0.25 0.25 0.25 0.25 0.25 0.25 0.25 0.25 0.25 0.25 0.25 0.25 0.25 0.5 0.25 0.75 0.25 0.5 0.25 0.25 0.25 0.25 0.25 0.25 0.25 0.25 0.25 0.25 0.25 0.25 ...\n"
          ]
        }
      ]
    },
    {
      "cell_type": "markdown",
      "source": [
        "#Tokenize the Data"
      ],
      "metadata": {
        "id": "romtNIxzTY3Z"
      }
    },
    {
      "cell_type": "code",
      "source": [
        "def create_dataset(elements):\n",
        "    ds = (\n",
        "        tf.data.Dataset.from_tensor_slices(elements)\n",
        "        .batch(BATCH_SIZE, drop_remainder=True)\n",
        "        .shuffle(1000)\n",
        "    )\n",
        "    vectorize_layer = layers.TextVectorization(\n",
        "        standardize=None, output_mode=\"int\"\n",
        "    )\n",
        "    vectorize_layer.adapt(ds)\n",
        "    vocab = vectorize_layer.get_vocabulary()\n",
        "    return ds, vectorize_layer, vocab\n",
        "\n",
        "\n",
        "notes_seq_ds, notes_vectorize_layer, notes_vocab = create_dataset(notes)\n",
        "durations_seq_ds, durations_vectorize_layer, durations_vocab = create_dataset(\n",
        "    durations\n",
        ")\n",
        "seq_ds = tf.data.Dataset.zip((notes_seq_ds, durations_seq_ds))"
      ],
      "metadata": {
        "id": "2R3l069JUDj0"
      },
      "execution_count": 57,
      "outputs": []
    },
    {
      "cell_type": "code",
      "source": [
        "# Display the same example notes and durations converted to ints\n",
        "example_tokenised_notes = notes_vectorize_layer(example_notes)\n",
        "example_tokenised_durations = durations_vectorize_layer(example_durations)\n",
        "print(\"{:10} {:10}\".format(\"note token\", \"duration token\"))\n",
        "for i, (note_int, duration_int) in enumerate(\n",
        "    zip(\n",
        "        example_tokenised_notes.numpy()[:11],\n",
        "        example_tokenised_durations.numpy()[:11],\n",
        "    )\n",
        "):\n",
        "    print(f\"{note_int:10}{duration_int:10}\")"
      ],
      "metadata": {
        "id": "23oNOKb8TyiN",
        "colab": {
          "base_uri": "https://localhost:8080/"
        },
        "outputId": "b6d3f7f5-3aff-4488-be9e-5d428210e37a"
      },
      "execution_count": 58,
      "outputs": [
        {
          "output_type": "stream",
          "name": "stdout",
          "text": [
            "note token duration token\n",
            "        26         2\n",
            "        23         2\n",
            "        26         2\n",
            "        21         2\n",
            "        21         2\n",
            "        21         2\n",
            "        26         2\n",
            "        26         2\n",
            "        26         2\n",
            "        23         2\n",
            "        26         2\n"
          ]
        }
      ]
    },
    {
      "cell_type": "code",
      "source": [
        "notes_vocab_size = len(notes_vocab)\n",
        "durations_vocab_size = len(durations_vocab)\n",
        "vocab = notes_vocab + durations_vocab\n",
        "vocab_size = len(vocab)\n",
        "\n",
        "# Display some token:note mappings\n",
        "print(f\"\\nNOTES_VOCAB: length = {len(notes_vocab)}\")\n",
        "for i, note in enumerate(notes_vocab[:10]):\n",
        "    print(f\"{i}: {note}\")\n",
        "\n",
        "print(f\"\\nDURATIONS_VOCAB: length = {len(durations_vocab)}\")\n",
        "# Display some token:duration mappings\n",
        "for i, note in enumerate(durations_vocab[:10]):\n",
        "    print(f\"{i}: {note}\")"
      ],
      "metadata": {
        "id": "4XucMytlT1bJ",
        "colab": {
          "base_uri": "https://localhost:8080/"
        },
        "outputId": "be0c782e-2cd1-415e-a47b-e693032c6654"
      },
      "execution_count": 59,
      "outputs": [
        {
          "output_type": "stream",
          "name": "stdout",
          "text": [
            "\n",
            "NOTES_VOCAB: length = 98\n",
            "0: \n",
            "1: [UNK]\n",
            "2: rest\n",
            "3: D5\n",
            "4: E5\n",
            "5: F5\n",
            "6: A5\n",
            "7: C5\n",
            "8: G5\n",
            "9: A4\n",
            "\n",
            "DURATIONS_VOCAB: length = 38\n",
            "0: \n",
            "1: [UNK]\n",
            "2: 0.25\n",
            "3: 0.5\n",
            "4: 1/12\n",
            "5: 1/3\n",
            "6: 1.0\n",
            "7: 1/6\n",
            "8: 0.75\n",
            "9: 2/3\n"
          ]
        }
      ]
    },
    {
      "cell_type": "markdown",
      "source": [
        "#Training Set"
      ],
      "metadata": {
        "id": "tlfFYs51T2qg"
      }
    },
    {
      "cell_type": "code",
      "source": [
        "\n",
        "# Create the training set of sequences and the same sequences shifted by one note\n",
        "def prepare_inputs(notes, durations):\n",
        "    notes = tf.expand_dims(notes, -1)\n",
        "    durations = tf.expand_dims(durations, -1)\n",
        "    tokenized_notes = notes_vectorize_layer(notes)\n",
        "    tokenized_durations = durations_vectorize_layer(durations)\n",
        "    x = (tokenized_notes[:, :-1], tokenized_durations[:, :-1])\n",
        "    y = (tokenized_notes[:, 1:], tokenized_durations[:, 1:])\n",
        "    return x, y\n",
        "\n",
        "\n",
        "ds = seq_ds.map(prepare_inputs).repeat(DATASET_REPETITIONS)"
      ],
      "metadata": {
        "id": "J3CSXDzTT3tj"
      },
      "execution_count": 60,
      "outputs": []
    },
    {
      "cell_type": "code",
      "source": [
        "example_input_output = ds.take(1).get_single_element()\n",
        "print(example_input_output)"
      ],
      "metadata": {
        "id": "pOJ-OOjOT6bi",
        "colab": {
          "base_uri": "https://localhost:8080/"
        },
        "outputId": "43a17a5c-5229-4fc1-c253-1dc88c1fcc26"
      },
      "execution_count": 61,
      "outputs": [
        {
          "output_type": "stream",
          "name": "stdout",
          "text": [
            "((<tf.Tensor: shape=(64, 64), dtype=int64, numpy=\n",
            "array([[28,  2, 19, ..., 10, 28, 28],\n",
            "       [ 2, 19,  2, ..., 28, 28,  4],\n",
            "       [19,  2, 15, ..., 28,  4,  2],\n",
            "       ...,\n",
            "       [10, 28, 28, ..., 17, 33,  9],\n",
            "       [28, 28,  4, ..., 33,  9, 33],\n",
            "       [28,  4,  2, ...,  9, 33,  6]])>, <tf.Tensor: shape=(64, 64), dtype=int64, numpy=\n",
            "array([[3, 2, 2, ..., 5, 5, 2],\n",
            "       [2, 2, 5, ..., 5, 2, 4],\n",
            "       [2, 5, 4, ..., 2, 4, 5],\n",
            "       ...,\n",
            "       [5, 5, 2, ..., 2, 9, 5],\n",
            "       [5, 2, 4, ..., 9, 5, 2],\n",
            "       [2, 4, 5, ..., 5, 2, 8]])>), (<tf.Tensor: shape=(64, 64), dtype=int64, numpy=\n",
            "array([[ 2, 19,  2, ..., 28, 28,  4],\n",
            "       [19,  2, 15, ..., 28,  4,  2],\n",
            "       [ 2, 15,  2, ...,  4,  2, 22],\n",
            "       ...,\n",
            "       [28, 28,  4, ..., 33,  9, 33],\n",
            "       [28,  4,  2, ...,  9, 33,  6],\n",
            "       [ 4,  2, 22, ..., 33,  6,  6]])>, <tf.Tensor: shape=(64, 64), dtype=int64, numpy=\n",
            "array([[2, 2, 5, ..., 5, 2, 4],\n",
            "       [2, 5, 4, ..., 2, 4, 5],\n",
            "       [5, 4, 2, ..., 4, 5, 5],\n",
            "       ...,\n",
            "       [5, 2, 4, ..., 9, 5, 2],\n",
            "       [2, 4, 5, ..., 5, 2, 8],\n",
            "       [4, 5, 5, ..., 2, 8, 5]])>))\n"
          ]
        }
      ]
    },
    {
      "cell_type": "markdown",
      "source": [
        "#Create the causal attention mask function"
      ],
      "metadata": {
        "id": "JUThc9G7T8fg"
      }
    },
    {
      "cell_type": "code",
      "source": [
        "def causal_attention_mask(batch_size, n_dest, n_src, dtype):\n",
        "    i = tf.range(n_dest)[:, None]\n",
        "    j = tf.range(n_src)\n",
        "    m = i >= j - n_src + n_dest\n",
        "    mask = tf.cast(m, dtype)\n",
        "    mask = tf.reshape(mask, [1, n_dest, n_src])\n",
        "    mult = tf.concat(\n",
        "        [tf.expand_dims(batch_size, -1), tf.constant([1, 1], dtype=tf.int32)], 0\n",
        "    )\n",
        "    return tf.tile(mask, mult)\n",
        "\n",
        "\n",
        "np.transpose(causal_attention_mask(1, 10, 10, dtype=tf.int32)[0])"
      ],
      "metadata": {
        "id": "mH2_EYalT_1v",
        "colab": {
          "base_uri": "https://localhost:8080/"
        },
        "outputId": "379c1060-1263-445f-bac5-8949aa64efdf"
      },
      "execution_count": 62,
      "outputs": [
        {
          "output_type": "execute_result",
          "data": {
            "text/plain": [
              "array([[1, 1, 1, 1, 1, 1, 1, 1, 1, 1],\n",
              "       [0, 1, 1, 1, 1, 1, 1, 1, 1, 1],\n",
              "       [0, 0, 1, 1, 1, 1, 1, 1, 1, 1],\n",
              "       [0, 0, 0, 1, 1, 1, 1, 1, 1, 1],\n",
              "       [0, 0, 0, 0, 1, 1, 1, 1, 1, 1],\n",
              "       [0, 0, 0, 0, 0, 1, 1, 1, 1, 1],\n",
              "       [0, 0, 0, 0, 0, 0, 1, 1, 1, 1],\n",
              "       [0, 0, 0, 0, 0, 0, 0, 1, 1, 1],\n",
              "       [0, 0, 0, 0, 0, 0, 0, 0, 1, 1],\n",
              "       [0, 0, 0, 0, 0, 0, 0, 0, 0, 1]], dtype=int32)"
            ]
          },
          "metadata": {},
          "execution_count": 62
        }
      ]
    },
    {
      "cell_type": "markdown",
      "source": [
        "#Create a Transformer Block Layer"
      ],
      "metadata": {
        "id": "Iq6PxMm0UB4l"
      }
    },
    {
      "cell_type": "code",
      "source": [
        "class TransformerBlock(layers.Layer):\n",
        "    def __init__(\n",
        "        self,\n",
        "        num_heads,\n",
        "        key_dim,\n",
        "        embed_dim,\n",
        "        ff_dim,\n",
        "        name,\n",
        "        dropout_rate=DROPOUT_RATE,\n",
        "    ):\n",
        "        super(TransformerBlock, self).__init__(name=name)\n",
        "        self.num_heads = num_heads\n",
        "        self.key_dim = key_dim\n",
        "        self.embed_dim = embed_dim\n",
        "        self.ff_dim = ff_dim\n",
        "        self.dropout_rate = dropout_rate\n",
        "        self.attn = layers.MultiHeadAttention(\n",
        "            num_heads, key_dim, output_shape=embed_dim\n",
        "        )\n",
        "        self.dropout_1 = layers.Dropout(self.dropout_rate)\n",
        "        self.ln_1 = layers.LayerNormalization(epsilon=1e-6)\n",
        "        self.ffn_1 = layers.Dense(self.ff_dim, activation=\"relu\")\n",
        "        self.ffn_2 = layers.Dense(self.embed_dim)\n",
        "        self.dropout_2 = layers.Dropout(self.dropout_rate)\n",
        "        self.ln_2 = layers.LayerNormalization(epsilon=1e-6)\n",
        "\n",
        "    def call(self, inputs):\n",
        "        input_shape = tf.shape(inputs)\n",
        "        batch_size = input_shape[0]\n",
        "        seq_len = input_shape[1]\n",
        "        causal_mask = causal_attention_mask(\n",
        "            batch_size, seq_len, seq_len, tf.bool\n",
        "        )\n",
        "        attention_output, attention_scores = self.attn(\n",
        "            inputs,\n",
        "            inputs,\n",
        "            attention_mask=causal_mask,\n",
        "            return_attention_scores=True,\n",
        "        )\n",
        "        attention_output = self.dropout_1(attention_output)\n",
        "        out1 = self.ln_1(inputs + attention_output)\n",
        "        ffn_1 = self.ffn_1(out1)\n",
        "        ffn_2 = self.ffn_2(ffn_1)\n",
        "        ffn_output = self.dropout_2(ffn_2)\n",
        "        return (self.ln_2(out1 + ffn_output), attention_scores)\n",
        "\n",
        "    def get_config(self):\n",
        "        config = super().get_config()\n",
        "        config.update(\n",
        "            {\n",
        "                \"key_dim\": self.key_dim,\n",
        "                \"embed_dim\": self.embed_dim,\n",
        "                \"num_heads\": self.num_heads,\n",
        "                \"ff_dim\": self.ff_dim,\n",
        "                \"dropout_rate\": self.dropout_rate,\n",
        "            }\n",
        "        )\n",
        "        return config"
      ],
      "metadata": {
        "id": "bCnFjmlZVv-q"
      },
      "execution_count": 63,
      "outputs": []
    },
    {
      "cell_type": "markdown",
      "source": [
        "#Create the Token and Position Embedding"
      ],
      "metadata": {
        "id": "i-0nkAUnUIO_"
      }
    },
    {
      "cell_type": "code",
      "source": [
        "class TokenAndPositionEmbedding(layers.Layer):\n",
        "    def __init__(self, vocab_size, embed_dim):\n",
        "        super(TokenAndPositionEmbedding, self).__init__()\n",
        "        self.vocab_size = vocab_size\n",
        "        self.embed_dim = embed_dim\n",
        "        self.token_emb = layers.Embedding(\n",
        "            input_dim=vocab_size,\n",
        "            output_dim=embed_dim,\n",
        "            embeddings_initializer=\"he_uniform\",\n",
        "        )\n",
        "        self.pos_emb = SinePositionEncoding()\n",
        "\n",
        "    def call(self, x):\n",
        "        embedding = self.token_emb(x)\n",
        "        positions = self.pos_emb(embedding)\n",
        "        return embedding + positions\n",
        "\n",
        "    def get_config(self):\n",
        "        config = super().get_config()\n",
        "        config.update(\n",
        "            {\n",
        "                \"vocab_size\": self.vocab_size,\n",
        "                \"embed_dim\": self.embed_dim,\n",
        "            }\n",
        "        )\n",
        "        return config"
      ],
      "metadata": {
        "id": "gWxJbGfoULoB"
      },
      "execution_count": 64,
      "outputs": []
    },
    {
      "cell_type": "code",
      "source": [
        "tpe = TokenAndPositionEmbedding(notes_vocab_size, 32)\n",
        "token_embedding = tpe.token_emb(example_tokenised_notes)\n",
        "position_embedding = tpe.pos_emb(token_embedding)\n",
        "embedding = tpe(example_tokenised_notes)\n",
        "plt.imshow(\n",
        "    np.transpose(token_embedding),\n",
        "    cmap=\"coolwarm\",\n",
        "    interpolation=\"nearest\",\n",
        "    origin=\"lower\",\n",
        ")\n",
        "plt.show()\n",
        "plt.imshow(\n",
        "    np.transpose(position_embedding),\n",
        "    cmap=\"coolwarm\",\n",
        "    interpolation=\"nearest\",\n",
        "    origin=\"lower\",\n",
        ")\n",
        "plt.show()\n",
        "plt.imshow(\n",
        "    np.transpose(embedding),\n",
        "    cmap=\"coolwarm\",\n",
        "    interpolation=\"nearest\",\n",
        "    origin=\"lower\",\n",
        ")\n",
        "plt.show()"
      ],
      "metadata": {
        "id": "T5iEGu_GULsA",
        "colab": {
          "base_uri": "https://localhost:8080/",
          "height": 878
        },
        "outputId": "bc0f9269-9ac6-4435-dd77-6be110130261"
      },
      "execution_count": 65,
      "outputs": [
        {
          "output_type": "display_data",
          "data": {
            "text/plain": [
              "<Figure size 640x480 with 1 Axes>"
            ],
            "image/png": "[encoded data removed]"
          },
          "metadata": {
            "image/png": {
              "width": 543,
              "height": 287
            }
          }
        },
        {
          "output_type": "display_data",
          "data": {
            "text/plain": [
              "<Figure size 640x480 with 1 Axes>"
            ],
            "image/png": "[encoded data removed]"
          },
          "metadata": {
            "image/png": {
              "width": 543,
              "height": 287
            }
          }
        },
        {
          "output_type": "display_data",
          "data": {
            "text/plain": [
              "<Figure size 640x480 with 1 Axes>"
            ],
            "image/png": "[encoded data removed]"
          },
          "metadata": {
            "image/png": {
              "width": 543,
              "height": 287
            }
          }
        }
      ]
    },
    {
      "cell_type": "markdown",
      "source": [
        "#Build the Transformer Model"
      ],
      "metadata": {
        "id": "CvIB53GQUYEB"
      }
    },
    {
      "cell_type": "code",
      "source": [
        "note_inputs = layers.Input(shape=(None,), dtype=tf.int32)\n",
        "durations_inputs = layers.Input(shape=(None,), dtype=tf.int32)\n",
        "note_embeddings = TokenAndPositionEmbedding(\n",
        "    notes_vocab_size, EMBEDDING_DIM // 2\n",
        ")(note_inputs)\n",
        "duration_embeddings = TokenAndPositionEmbedding(\n",
        "    durations_vocab_size, EMBEDDING_DIM // 2\n",
        ")(durations_inputs)\n",
        "embeddings = layers.Concatenate()([note_embeddings, duration_embeddings])\n",
        "x, attention_scores = TransformerBlock(\n",
        "    N_HEADS, KEY_DIM, EMBEDDING_DIM, FEED_FORWARD_DIM, name=\"attention\"\n",
        ")(embeddings)\n",
        "note_outputs = layers.Dense(\n",
        "    notes_vocab_size, activation=\"softmax\", name=\"note_outputs\"\n",
        ")(x)\n",
        "duration_outputs = layers.Dense(\n",
        "    durations_vocab_size, activation=\"softmax\", name=\"duration_outputs\"\n",
        ")(x)\n",
        "model = models.Model(\n",
        "    inputs=[note_inputs, durations_inputs],\n",
        "    outputs=[note_outputs, duration_outputs],  # attention_scores\n",
        ")\n",
        "model.compile(\n",
        "    \"adam\",\n",
        "    loss=[\n",
        "        losses.SparseCategoricalCrossentropy(),\n",
        "        losses.SparseCategoricalCrossentropy(),\n",
        "    ],\n",
        ")\n",
        "att_model = models.Model(\n",
        "    inputs=[note_inputs, durations_inputs], outputs=attention_scores\n",
        ")\n"
      ],
      "metadata": {
        "id": "m39oZUMNULv3"
      },
      "execution_count": 66,
      "outputs": []
    },
    {
      "cell_type": "code",
      "source": [
        "model.summary()"
      ],
      "metadata": {
        "id": "tc1imOEdUcnT",
        "colab": {
          "base_uri": "https://localhost:8080/",
          "height": 465
        },
        "outputId": "90de2520-10df-4bc0-c7ed-c6e1d63e78dc"
      },
      "execution_count": 67,
      "outputs": [
        {
          "output_type": "display_data",
          "data": {
            "text/plain": [
              "\u001b[1mModel: \"functional\"\u001b[0m\n"
            ],
            "text/html": [
              "<pre style=\"white-space:pre;overflow-x:auto;line-height:normal;font-family:Menlo,'DejaVu Sans Mono',consolas,'Courier New',monospace\"><span style=\"font-weight: bold\">Model: \"functional\"</span>\n",
              "</pre>\n"
            ]
          },
          "metadata": {}
        },
        {
          "output_type": "display_data",
          "data": {
            "text/plain": [
              "┏━━━━━━━━━━━━━━━━━━━━━━━━━━━┳━━━━━━━━━━━━━━━━━━━━━━━━┳━━━━━━━━━━━━━━━━┳━━━━━━━━━━━━━━━━━━━━━━━━┓\n",
              "┃\u001b[1m \u001b[0m\u001b[1mLayer (type)             \u001b[0m\u001b[1m \u001b[0m┃\u001b[1m \u001b[0m\u001b[1mOutput Shape          \u001b[0m\u001b[1m \u001b[0m┃\u001b[1m \u001b[0m\u001b[1m       Param #\u001b[0m\u001b[1m \u001b[0m┃\u001b[1m \u001b[0m\u001b[1mConnected to          \u001b[0m\u001b[1m \u001b[0m┃\n",
              "┡━━━━━━━━━━━━━━━━━━━━━━━━━━━╇━━━━━━━━━━━━━━━━━━━━━━━━╇━━━━━━━━━━━━━━━━╇━━━━━━━━━━━━━━━━━━━━━━━━┩\n",
              "│ input_layer (\u001b[38;5;33mInputLayer\u001b[0m)  │ (\u001b[38;5;45mNone\u001b[0m, \u001b[38;5;45mNone\u001b[0m)           │              \u001b[38;5;34m0\u001b[0m │ -                      │\n",
              "├───────────────────────────┼────────────────────────┼────────────────┼────────────────────────┤\n",
              "│ input_layer_1             │ (\u001b[38;5;45mNone\u001b[0m, \u001b[38;5;45mNone\u001b[0m)           │              \u001b[38;5;34m0\u001b[0m │ -                      │\n",
              "│ (\u001b[38;5;33mInputLayer\u001b[0m)              │                        │                │                        │\n",
              "├───────────────────────────┼────────────────────────┼────────────────┼────────────────────────┤\n",
              "│ token_and_position_embed… │ (\u001b[38;5;45mNone\u001b[0m, \u001b[38;5;45mNone\u001b[0m, \u001b[38;5;34m128\u001b[0m)      │         \u001b[38;5;34m12,544\u001b[0m │ input_layer[\u001b[38;5;34m0\u001b[0m][\u001b[38;5;34m0\u001b[0m]      │\n",
              "│ (\u001b[38;5;33mTokenAndPositionEmbeddi…\u001b[0m │                        │                │                        │\n",
              "├───────────────────────────┼────────────────────────┼────────────────┼────────────────────────┤\n",
              "│ token_and_position_embed… │ (\u001b[38;5;45mNone\u001b[0m, \u001b[38;5;45mNone\u001b[0m, \u001b[38;5;34m128\u001b[0m)      │          \u001b[38;5;34m4,864\u001b[0m │ input_layer_1[\u001b[38;5;34m0\u001b[0m][\u001b[38;5;34m0\u001b[0m]    │\n",
              "│ (\u001b[38;5;33mTokenAndPositionEmbeddi…\u001b[0m │                        │                │                        │\n",
              "├───────────────────────────┼────────────────────────┼────────────────┼────────────────────────┤\n",
              "│ concatenate (\u001b[38;5;33mConcatenate\u001b[0m) │ (\u001b[38;5;45mNone\u001b[0m, \u001b[38;5;45mNone\u001b[0m, \u001b[38;5;34m256\u001b[0m)      │              \u001b[38;5;34m0\u001b[0m │ token_and_position_em… │\n",
              "│                           │                        │                │ token_and_position_em… │\n",
              "├───────────────────────────┼────────────────────────┼────────────────┼────────────────────────┤\n",
              "│ attention                 │ [(\u001b[38;5;45mNone\u001b[0m, \u001b[38;5;45mNone\u001b[0m, \u001b[38;5;34m256\u001b[0m),    │      \u001b[38;5;34m1,184,512\u001b[0m │ concatenate[\u001b[38;5;34m0\u001b[0m][\u001b[38;5;34m0\u001b[0m]      │\n",
              "│ (\u001b[38;5;33mTransformerBlock\u001b[0m)        │ (\u001b[38;5;45mNone\u001b[0m, \u001b[38;5;34m4\u001b[0m, \u001b[38;5;45mNone\u001b[0m, \u001b[38;5;45mNone\u001b[0m)] │                │                        │\n",
              "├───────────────────────────┼────────────────────────┼────────────────┼────────────────────────┤\n",
              "│ note_outputs (\u001b[38;5;33mDense\u001b[0m)      │ (\u001b[38;5;45mNone\u001b[0m, \u001b[38;5;45mNone\u001b[0m, \u001b[38;5;34m98\u001b[0m)       │         \u001b[38;5;34m25,186\u001b[0m │ attention[\u001b[38;5;34m0\u001b[0m][\u001b[38;5;34m0\u001b[0m]        │\n",
              "├───────────────────────────┼────────────────────────┼────────────────┼────────────────────────┤\n",
              "│ duration_outputs (\u001b[38;5;33mDense\u001b[0m)  │ (\u001b[38;5;45mNone\u001b[0m, \u001b[38;5;45mNone\u001b[0m, \u001b[38;5;34m38\u001b[0m)       │          \u001b[38;5;34m9,766\u001b[0m │ attention[\u001b[38;5;34m0\u001b[0m][\u001b[38;5;34m0\u001b[0m]        │\n",
              "└───────────────────────────┴────────────────────────┴────────────────┴────────────────────────┘\n"
            ],
            "text/html": [
              "<pre style=\"white-space:pre;overflow-x:auto;line-height:normal;font-family:Menlo,'DejaVu Sans Mono',consolas,'Courier New',monospace\">┏━━━━━━━━━━━━━━━━━━━━━━━━━━━┳━━━━━━━━━━━━━━━━━━━━━━━━┳━━━━━━━━━━━━━━━━┳━━━━━━━━━━━━━━━━━━━━━━━━┓\n",
              "┃<span style=\"font-weight: bold\"> Layer (type)              </span>┃<span style=\"font-weight: bold\"> Output Shape           </span>┃<span style=\"font-weight: bold\">        Param # </span>┃<span style=\"font-weight: bold\"> Connected to           </span>┃\n",
              "┡━━━━━━━━━━━━━━━━━━━━━━━━━━━╇━━━━━━━━━━━━━━━━━━━━━━━━╇━━━━━━━━━━━━━━━━╇━━━━━━━━━━━━━━━━━━━━━━━━┩\n",
              "│ input_layer (<span style=\"color: #0087ff; text-decoration-color: #0087ff\">InputLayer</span>)  │ (<span style=\"color: #00d7ff; text-decoration-color: #00d7ff\">None</span>, <span style=\"color: #00d7ff; text-decoration-color: #00d7ff\">None</span>)           │              <span style=\"color: #00af00; text-decoration-color: #00af00\">0</span> │ -                      │\n",
              "├───────────────────────────┼────────────────────────┼────────────────┼────────────────────────┤\n",
              "│ input_layer_1             │ (<span style=\"color: #00d7ff; text-decoration-color: #00d7ff\">None</span>, <span style=\"color: #00d7ff; text-decoration-color: #00d7ff\">None</span>)           │              <span style=\"color: #00af00; text-decoration-color: #00af00\">0</span> │ -                      │\n",
              "│ (<span style=\"color: #0087ff; text-decoration-color: #0087ff\">InputLayer</span>)              │                        │                │                        │\n",
              "├───────────────────────────┼────────────────────────┼────────────────┼────────────────────────┤\n",
              "│ token_and_position_embed… │ (<span style=\"color: #00d7ff; text-decoration-color: #00d7ff\">None</span>, <span style=\"color: #00d7ff; text-decoration-color: #00d7ff\">None</span>, <span style=\"color: #00af00; text-decoration-color: #00af00\">128</span>)      │         <span style=\"color: #00af00; text-decoration-color: #00af00\">12,544</span> │ input_layer[<span style=\"color: #00af00; text-decoration-color: #00af00\">0</span>][<span style=\"color: #00af00; text-decoration-color: #00af00\">0</span>]      │\n",
              "│ (<span style=\"color: #0087ff; text-decoration-color: #0087ff\">TokenAndPositionEmbeddi…</span> │                        │                │                        │\n",
              "├───────────────────────────┼────────────────────────┼────────────────┼────────────────────────┤\n",
              "│ token_and_position_embed… │ (<span style=\"color: #00d7ff; text-decoration-color: #00d7ff\">None</span>, <span style=\"color: #00d7ff; text-decoration-color: #00d7ff\">None</span>, <span style=\"color: #00af00; text-decoration-color: #00af00\">128</span>)      │          <span style=\"color: #00af00; text-decoration-color: #00af00\">4,864</span> │ input_layer_1[<span style=\"color: #00af00; text-decoration-color: #00af00\">0</span>][<span style=\"color: #00af00; text-decoration-color: #00af00\">0</span>]    │\n",
              "│ (<span style=\"color: #0087ff; text-decoration-color: #0087ff\">TokenAndPositionEmbeddi…</span> │                        │                │                        │\n",
              "├───────────────────────────┼────────────────────────┼────────────────┼────────────────────────┤\n",
              "│ concatenate (<span style=\"color: #0087ff; text-decoration-color: #0087ff\">Concatenate</span>) │ (<span style=\"color: #00d7ff; text-decoration-color: #00d7ff\">None</span>, <span style=\"color: #00d7ff; text-decoration-color: #00d7ff\">None</span>, <span style=\"color: #00af00; text-decoration-color: #00af00\">256</span>)      │              <span style=\"color: #00af00; text-decoration-color: #00af00\">0</span> │ token_and_position_em… │\n",
              "│                           │                        │                │ token_and_position_em… │\n",
              "├───────────────────────────┼────────────────────────┼────────────────┼────────────────────────┤\n",
              "│ attention                 │ [(<span style=\"color: #00d7ff; text-decoration-color: #00d7ff\">None</span>, <span style=\"color: #00d7ff; text-decoration-color: #00d7ff\">None</span>, <span style=\"color: #00af00; text-decoration-color: #00af00\">256</span>),    │      <span style=\"color: #00af00; text-decoration-color: #00af00\">1,184,512</span> │ concatenate[<span style=\"color: #00af00; text-decoration-color: #00af00\">0</span>][<span style=\"color: #00af00; text-decoration-color: #00af00\">0</span>]      │\n",
              "│ (<span style=\"color: #0087ff; text-decoration-color: #0087ff\">TransformerBlock</span>)        │ (<span style=\"color: #00d7ff; text-decoration-color: #00d7ff\">None</span>, <span style=\"color: #00af00; text-decoration-color: #00af00\">4</span>, <span style=\"color: #00d7ff; text-decoration-color: #00d7ff\">None</span>, <span style=\"color: #00d7ff; text-decoration-color: #00d7ff\">None</span>)] │                │                        │\n",
              "├───────────────────────────┼────────────────────────┼────────────────┼────────────────────────┤\n",
              "│ note_outputs (<span style=\"color: #0087ff; text-decoration-color: #0087ff\">Dense</span>)      │ (<span style=\"color: #00d7ff; text-decoration-color: #00d7ff\">None</span>, <span style=\"color: #00d7ff; text-decoration-color: #00d7ff\">None</span>, <span style=\"color: #00af00; text-decoration-color: #00af00\">98</span>)       │         <span style=\"color: #00af00; text-decoration-color: #00af00\">25,186</span> │ attention[<span style=\"color: #00af00; text-decoration-color: #00af00\">0</span>][<span style=\"color: #00af00; text-decoration-color: #00af00\">0</span>]        │\n",
              "├───────────────────────────┼────────────────────────┼────────────────┼────────────────────────┤\n",
              "│ duration_outputs (<span style=\"color: #0087ff; text-decoration-color: #0087ff\">Dense</span>)  │ (<span style=\"color: #00d7ff; text-decoration-color: #00d7ff\">None</span>, <span style=\"color: #00d7ff; text-decoration-color: #00d7ff\">None</span>, <span style=\"color: #00af00; text-decoration-color: #00af00\">38</span>)       │          <span style=\"color: #00af00; text-decoration-color: #00af00\">9,766</span> │ attention[<span style=\"color: #00af00; text-decoration-color: #00af00\">0</span>][<span style=\"color: #00af00; text-decoration-color: #00af00\">0</span>]        │\n",
              "└───────────────────────────┴────────────────────────┴────────────────┴────────────────────────┘\n",
              "</pre>\n"
            ]
          },
          "metadata": {}
        },
        {
          "output_type": "display_data",
          "data": {
            "text/plain": [
              "\u001b[1m Total params: \u001b[0m\u001b[38;5;34m1,236,872\u001b[0m (4.72 MB)\n"
            ],
            "text/html": [
              "<pre style=\"white-space:pre;overflow-x:auto;line-height:normal;font-family:Menlo,'DejaVu Sans Mono',consolas,'Courier New',monospace\"><span style=\"font-weight: bold\"> Total params: </span><span style=\"color: #00af00; text-decoration-color: #00af00\">1,236,872</span> (4.72 MB)\n",
              "</pre>\n"
            ]
          },
          "metadata": {}
        },
        {
          "output_type": "display_data",
          "data": {
            "text/plain": [
              "\u001b[1m Trainable params: \u001b[0m\u001b[38;5;34m1,236,872\u001b[0m (4.72 MB)\n"
            ],
            "text/html": [
              "<pre style=\"white-space:pre;overflow-x:auto;line-height:normal;font-family:Menlo,'DejaVu Sans Mono',consolas,'Courier New',monospace\"><span style=\"font-weight: bold\"> Trainable params: </span><span style=\"color: #00af00; text-decoration-color: #00af00\">1,236,872</span> (4.72 MB)\n",
              "</pre>\n"
            ]
          },
          "metadata": {}
        },
        {
          "output_type": "display_data",
          "data": {
            "text/plain": [
              "\u001b[1m Non-trainable params: \u001b[0m\u001b[38;5;34m0\u001b[0m (0.00 B)\n"
            ],
            "text/html": [
              "<pre style=\"white-space:pre;overflow-x:auto;line-height:normal;font-family:Menlo,'DejaVu Sans Mono',consolas,'Courier New',monospace\"><span style=\"font-weight: bold\"> Non-trainable params: </span><span style=\"color: #00af00; text-decoration-color: #00af00\">0</span> (0.00 B)\n",
              "</pre>\n"
            ]
          },
          "metadata": {}
        }
      ]
    },
    {
      "cell_type": "markdown",
      "source": [
        "#Train the Transformer"
      ],
      "metadata": {
        "id": "PWhxdq7mUegA"
      }
    },
    {
      "cell_type": "code",
      "source": [
        "# Create a MusicGenerator checkpoint\n",
        "class MusicGenerator(callbacks.Callback):\n",
        "    def __init__(self, index_to_note, index_to_duration, top_k=10):\n",
        "        self.index_to_note = index_to_note\n",
        "        self.note_to_index = {\n",
        "            note: index for index, note in enumerate(index_to_note)\n",
        "        }\n",
        "        self.index_to_duration = index_to_duration\n",
        "        self.duration_to_index = {\n",
        "            duration: index for index, duration in enumerate(index_to_duration)\n",
        "        }\n",
        "\n",
        "    def sample_from(self, probs, temperature):\n",
        "        probs = probs ** (1 / temperature)\n",
        "        probs = probs / np.sum(probs)\n",
        "        return np.random.choice(len(probs), p=probs), probs\n",
        "\n",
        "    def get_note(self, notes, durations, temperature):\n",
        "        sample_note_idx = 1\n",
        "        while sample_note_idx == 1:\n",
        "            sample_note_idx, note_probs = self.sample_from(\n",
        "                notes[0][-1], temperature\n",
        "            )\n",
        "            sample_note = self.index_to_note[sample_note_idx]\n",
        "\n",
        "        sample_duration_idx = 1\n",
        "        while sample_duration_idx == 1:\n",
        "            sample_duration_idx, duration_probs = self.sample_from(\n",
        "                durations[0][-1], temperature\n",
        "            )\n",
        "            sample_duration = self.index_to_duration[sample_duration_idx]\n",
        "\n",
        "        new_note = get_midi_note(sample_note, sample_duration)\n",
        "\n",
        "        return (\n",
        "            new_note,\n",
        "            sample_note_idx,\n",
        "            sample_note,\n",
        "            note_probs,\n",
        "            sample_duration_idx,\n",
        "            sample_duration,\n",
        "            duration_probs,\n",
        "        )\n",
        "\n",
        "    def generate(self, start_notes, start_durations, max_tokens, temperature):\n",
        "        attention_model = models.Model(\n",
        "            inputs=self.model.input,\n",
        "            outputs=self.model.get_layer(\"attention\").output,\n",
        "        )\n",
        "\n",
        "        start_note_tokens = [self.note_to_index.get(x, 1) for x in start_notes]\n",
        "        start_duration_tokens = [\n",
        "            self.duration_to_index.get(x, 1) for x in start_durations\n",
        "        ]\n",
        "        sample_note = None\n",
        "        sample_duration = None\n",
        "        info = []\n",
        "        midi_stream = music21.stream.Stream()\n",
        "\n",
        "        midi_stream.append(music21.clef.BassClef())\n",
        "\n",
        "        for sample_note, sample_duration in zip(start_notes, start_durations):\n",
        "            new_note = get_midi_note(sample_note, sample_duration)\n",
        "            if new_note is not None:\n",
        "                midi_stream.append(new_note)\n",
        "\n",
        "        while len(start_note_tokens) < max_tokens:\n",
        "            x1 = np.array([start_note_tokens])\n",
        "            x2 = np.array([start_duration_tokens])\n",
        "            notes, durations = self.model.predict([x1, x2], verbose=0)\n",
        "\n",
        "            repeat = True\n",
        "\n",
        "            while repeat:\n",
        "                (\n",
        "                    new_note,\n",
        "                    sample_note_idx,\n",
        "                    sample_note,\n",
        "                    note_probs,\n",
        "                    sample_duration_idx,\n",
        "                    sample_duration,\n",
        "                    duration_probs,\n",
        "                ) = self.get_note(notes, durations, temperature)\n",
        "\n",
        "                if (\n",
        "                    isinstance(new_note, music21.chord.Chord)\n",
        "                    or isinstance(new_note, music21.note.Note)\n",
        "                    or isinstance(new_note, music21.note.Rest)\n",
        "                ) and sample_duration == \"0.0\":\n",
        "                    repeat = True\n",
        "                else:\n",
        "                    repeat = False\n",
        "\n",
        "            if new_note is not None:\n",
        "                midi_stream.append(new_note)\n",
        "\n",
        "            _, att = attention_model.predict([x1, x2], verbose=0)\n",
        "\n",
        "            info.append(\n",
        "                {\n",
        "                    \"prompt\": [start_notes.copy(), start_durations.copy()],\n",
        "                    \"midi\": midi_stream,\n",
        "                    \"chosen_note\": (sample_note, sample_duration),\n",
        "                    \"note_probs\": note_probs,\n",
        "                    \"duration_probs\": duration_probs,\n",
        "                    \"atts\": att[0, :, -1, :],\n",
        "                }\n",
        "            )\n",
        "            start_note_tokens.append(sample_note_idx)\n",
        "            start_duration_tokens.append(sample_duration_idx)\n",
        "            start_notes.append(sample_note)\n",
        "            start_durations.append(sample_duration)\n",
        "\n",
        "            if sample_note == \"START\":\n",
        "                break\n",
        "\n",
        "        return info\n",
        "\n",
        "    def on_epoch_end(self, epoch, logs=None):\n",
        "        info = self.generate(\n",
        "            [\"START\"], [\"0.0\"], max_tokens=GENERATE_LEN, temperature=0.5\n",
        "        )\n",
        "        midi_stream = info[-1][\"midi\"].chordify()\n",
        "        print(info[-1][\"prompt\"])\n",
        "        #midi_stream.show()\n",
        "        midi_stream.write(\n",
        "            \"midi\",\n",
        "            fp=os.path.join(\n",
        "                \"/content/output\",\n",
        "                \"output-\" + str(epoch).zfill(4) + \".mid\",\n",
        "            ),\n",
        "        )"
      ],
      "metadata": {
        "id": "qtk8IUv_Vnb6"
      },
      "execution_count": 68,
      "outputs": []
    },
    {
      "cell_type": "code",
      "source": [
        "# Tokenize starting prompt\n",
        "music_generator = MusicGenerator(notes_vocab, durations_vocab)"
      ],
      "metadata": {
        "id": "HTI78KhBUk6X"
      },
      "execution_count": 69,
      "outputs": []
    },
    {
      "cell_type": "code",
      "source": [
        "model.fit(\n",
        "    ds,\n",
        "    epochs=100,\n",
        "    callbacks=[\n",
        "        music_generator,\n",
        "    ],\n",
        ")"
      ],
      "metadata": {
        "id": "hLbOQ22hUmye",
        "colab": {
          "base_uri": "https://localhost:8080/",
          "height": 464
        },
        "outputId": "83423900-de11-4004-ef48-3c5576e16249"
      },
      "execution_count": 70,
      "outputs": [
        {
          "output_type": "stream",
          "name": "stdout",
          "text": [
            "Epoch 1/100\n",
            "\u001b[1m457/459\u001b[0m \u001b[32m━━━━━━━━━━━━━━━━━━━\u001b[0m\u001b[37m━\u001b[0m \u001b[1m0s\u001b[0m 18ms/step - duration_outputs_loss: 1.7331 - loss: 5.5860 - note_outputs_loss: 3.8529"
          ]
        },
        {
          "output_type": "stream",
          "name": "stderr",
          "text": [
            "/usr/local/lib/python3.10/dist-packages/keras/src/ops/nn.py:545: UserWarning: You are using a softmax over axis 3 of a tensor of shape (1, 4, 1, 1). This axis has size 1. The softmax operation will always return the value 1, which is likely not what you intended. Did you mean to use a sigmoid instead?\n",
            "  warnings.warn(\n"
          ]
        },
        {
          "output_type": "stream",
          "name": "stdout",
          "text": [
            "[['START', 'B2', 'B2', 'F#2', 'F#2', 'F#2', 'F#2', 'F#2', 'F#2', 'F#2', 'F#2', 'F#2', 'F#2', 'F#2', 'F#2', 'F#2', 'F#2', 'F#2', 'F#2', 'F#2', 'F#2', 'F#2', 'F#2', 'F#2', 'F#2', 'F#2', 'F#2', 'F#2', 'F#2', 'F#2', 'F#2', 'F#2', 'F#2', 'F#2', 'F#2', 'F#2', 'F#2', 'F#2', 'F#2', 'F#2', 'F#2', 'F#2', 'F#2', 'F#2', 'F#2', 'F#2', 'F#2', 'F#2', 'F#2'], ['0.0', '1.0', '1.0', '1.0', '1.0', '1.0', '1.0', '1.0', '1.0', '1.0', '1.0', '1.0', '1.0', '1.0', '1.0', '1.0', '1.0', '0.5', '1.0', '1.0', '1.0', '1.0', '1.0', '1.0', '1.0', '1.0', '1.0', '1.0', '1.0', '1.0', '1.0', '1.0', '1.0', '1.0', '1.0', '1.0', '1.0', '1.0', '1.0', '1.0', '1.0', '1.0', '0.5', '0.5', '0.5', '0.5', '0.5', '0.5', '0.5']]\n"
          ]
        },
        {
          "output_type": "error",
          "ename": "FileNotFoundError",
          "evalue": "[Errno 2] No such file or directory: '/content/output/output-0000.mid'",
          "traceback": [
            "\u001b[0;31m---------------------------------------------------------------------------\u001b[0m",
            "\u001b[0;31mFileNotFoundError\u001b[0m                         Traceback (most recent call last)",
            "\u001b[0;32m<ipython-input-70-885458674ddb>\u001b[0m in \u001b[0;36m<cell line: 1>\u001b[0;34m()\u001b[0m\n\u001b[0;32m----> 1\u001b[0;31m model.fit(\n\u001b[0m\u001b[1;32m      2\u001b[0m     \u001b[0mds\u001b[0m\u001b[0;34m,\u001b[0m\u001b[0;34m\u001b[0m\u001b[0;34m\u001b[0m\u001b[0m\n\u001b[1;32m      3\u001b[0m     \u001b[0mepochs\u001b[0m\u001b[0;34m=\u001b[0m\u001b[0;36m100\u001b[0m\u001b[0;34m,\u001b[0m\u001b[0;34m\u001b[0m\u001b[0;34m\u001b[0m\u001b[0m\n\u001b[1;32m      4\u001b[0m     callbacks=[\n\u001b[1;32m      5\u001b[0m         \u001b[0mmusic_generator\u001b[0m\u001b[0;34m,\u001b[0m\u001b[0;34m\u001b[0m\u001b[0;34m\u001b[0m\u001b[0m\n",
            "\u001b[0;32m/usr/local/lib/python3.10/dist-packages/keras/src/utils/traceback_utils.py\u001b[0m in \u001b[0;36merror_handler\u001b[0;34m(*args, **kwargs)\u001b[0m\n\u001b[1;32m    120\u001b[0m             \u001b[0;31m# To get the full stack trace, call:\u001b[0m\u001b[0;34m\u001b[0m\u001b[0;34m\u001b[0m\u001b[0m\n\u001b[1;32m    121\u001b[0m             \u001b[0;31m# `keras.config.disable_traceback_filtering()`\u001b[0m\u001b[0;34m\u001b[0m\u001b[0;34m\u001b[0m\u001b[0m\n\u001b[0;32m--> 122\u001b[0;31m             \u001b[0;32mraise\u001b[0m \u001b[0me\u001b[0m\u001b[0;34m.\u001b[0m\u001b[0mwith_traceback\u001b[0m\u001b[0;34m(\u001b[0m\u001b[0mfiltered_tb\u001b[0m\u001b[0;34m)\u001b[0m \u001b[0;32mfrom\u001b[0m \u001b[0;32mNone\u001b[0m\u001b[0;34m\u001b[0m\u001b[0;34m\u001b[0m\u001b[0m\n\u001b[0m\u001b[1;32m    123\u001b[0m         \u001b[0;32mfinally\u001b[0m\u001b[0;34m:\u001b[0m\u001b[0;34m\u001b[0m\u001b[0;34m\u001b[0m\u001b[0m\n\u001b[1;32m    124\u001b[0m             \u001b[0;32mdel\u001b[0m \u001b[0mfiltered_tb\u001b[0m\u001b[0;34m\u001b[0m\u001b[0;34m\u001b[0m\u001b[0m\n",
            "\u001b[0;32m<ipython-input-68-8d058398eda1>\u001b[0m in \u001b[0;36mon_epoch_end\u001b[0;34m(self, epoch, logs)\u001b[0m\n\u001b[1;32m    124\u001b[0m         \u001b[0mprint\u001b[0m\u001b[0;34m(\u001b[0m\u001b[0minfo\u001b[0m\u001b[0;34m[\u001b[0m\u001b[0;34m-\u001b[0m\u001b[0;36m1\u001b[0m\u001b[0;34m]\u001b[0m\u001b[0;34m[\u001b[0m\u001b[0;34m\"prompt\"\u001b[0m\u001b[0;34m]\u001b[0m\u001b[0;34m)\u001b[0m\u001b[0;34m\u001b[0m\u001b[0;34m\u001b[0m\u001b[0m\n\u001b[1;32m    125\u001b[0m         \u001b[0;31m#midi_stream.show()\u001b[0m\u001b[0;34m\u001b[0m\u001b[0;34m\u001b[0m\u001b[0m\n\u001b[0;32m--> 126\u001b[0;31m         midi_stream.write(\n\u001b[0m\u001b[1;32m    127\u001b[0m             \u001b[0;34m\"midi\"\u001b[0m\u001b[0;34m,\u001b[0m\u001b[0;34m\u001b[0m\u001b[0;34m\u001b[0m\u001b[0m\n\u001b[1;32m    128\u001b[0m             fp=os.path.join(\n",
            "\u001b[0;32m/usr/local/lib/python3.10/dist-packages/music21/stream/base.py\u001b[0m in \u001b[0;36mwrite\u001b[0;34m(self, fmt, fp, **keywords)\u001b[0m\n\u001b[1;32m    404\u001b[0m         \u001b[0;32mif\u001b[0m \u001b[0mself\u001b[0m\u001b[0;34m.\u001b[0m\u001b[0misSorted\u001b[0m \u001b[0;32mis\u001b[0m \u001b[0;32mFalse\u001b[0m \u001b[0;32mand\u001b[0m \u001b[0mself\u001b[0m\u001b[0;34m.\u001b[0m\u001b[0mautoSort\u001b[0m\u001b[0;34m:\u001b[0m  \u001b[0;31m# pragma: no cover\u001b[0m\u001b[0;34m\u001b[0m\u001b[0;34m\u001b[0m\u001b[0m\n\u001b[1;32m    405\u001b[0m             \u001b[0mself\u001b[0m\u001b[0;34m.\u001b[0m\u001b[0msort\u001b[0m\u001b[0;34m(\u001b[0m\u001b[0;34m)\u001b[0m\u001b[0;34m\u001b[0m\u001b[0;34m\u001b[0m\u001b[0m\n\u001b[0;32m--> 406\u001b[0;31m         \u001b[0;32mreturn\u001b[0m \u001b[0msuper\u001b[0m\u001b[0;34m(\u001b[0m\u001b[0;34m)\u001b[0m\u001b[0;34m.\u001b[0m\u001b[0mwrite\u001b[0m\u001b[0;34m(\u001b[0m\u001b[0mfmt\u001b[0m\u001b[0;34m=\u001b[0m\u001b[0mfmt\u001b[0m\u001b[0;34m,\u001b[0m \u001b[0mfp\u001b[0m\u001b[0;34m=\u001b[0m\u001b[0mfp\u001b[0m\u001b[0;34m,\u001b[0m \u001b[0;34m**\u001b[0m\u001b[0mkeywords\u001b[0m\u001b[0;34m)\u001b[0m\u001b[0;34m\u001b[0m\u001b[0;34m\u001b[0m\u001b[0m\n\u001b[0m\u001b[1;32m    407\u001b[0m \u001b[0;34m\u001b[0m\u001b[0m\n\u001b[1;32m    408\u001b[0m     \u001b[0;32mdef\u001b[0m \u001b[0mshow\u001b[0m\u001b[0;34m(\u001b[0m\u001b[0mself\u001b[0m\u001b[0;34m,\u001b[0m \u001b[0mfmt\u001b[0m\u001b[0;34m=\u001b[0m\u001b[0;32mNone\u001b[0m\u001b[0;34m,\u001b[0m \u001b[0mapp\u001b[0m\u001b[0;34m=\u001b[0m\u001b[0;32mNone\u001b[0m\u001b[0;34m,\u001b[0m \u001b[0;34m**\u001b[0m\u001b[0mkeywords\u001b[0m\u001b[0;34m)\u001b[0m\u001b[0;34m:\u001b[0m\u001b[0;34m\u001b[0m\u001b[0;34m\u001b[0m\u001b[0m\n",
            "\u001b[0;32m/usr/local/lib/python3.10/dist-packages/music21/base.py\u001b[0m in \u001b[0;36mwrite\u001b[0;34m(self, fmt, fp, **keywords)\u001b[0m\n\u001b[1;32m   2922\u001b[0m             \u001b[0;32mraise\u001b[0m \u001b[0mMusic21ObjectException\u001b[0m\u001b[0;34m(\u001b[0m\u001b[0;34mf'cannot support output in this format yet: {fmt}'\u001b[0m\u001b[0;34m)\u001b[0m\u001b[0;34m\u001b[0m\u001b[0;34m\u001b[0m\u001b[0m\n\u001b[1;32m   2923\u001b[0m         \u001b[0mformatWriter\u001b[0m \u001b[0;34m=\u001b[0m \u001b[0mscClass\u001b[0m\u001b[0;34m(\u001b[0m\u001b[0;34m)\u001b[0m\u001b[0;34m\u001b[0m\u001b[0;34m\u001b[0m\u001b[0m\n\u001b[0;32m-> 2924\u001b[0;31m         return formatWriter.write(self,\n\u001b[0m\u001b[1;32m   2925\u001b[0m                                   \u001b[0mfmt\u001b[0m\u001b[0;34m=\u001b[0m\u001b[0mregularizedConverterFormat\u001b[0m\u001b[0;34m,\u001b[0m\u001b[0;34m\u001b[0m\u001b[0;34m\u001b[0m\u001b[0m\n\u001b[1;32m   2926\u001b[0m                                   \u001b[0mfp\u001b[0m\u001b[0;34m=\u001b[0m\u001b[0mfp\u001b[0m\u001b[0;34m,\u001b[0m\u001b[0;34m\u001b[0m\u001b[0;34m\u001b[0m\u001b[0m\n",
            "\u001b[0;32m/usr/local/lib/python3.10/dist-packages/music21/converter/subConverters.py\u001b[0m in \u001b[0;36mwrite\u001b[0;34m(self, obj, fmt, fp, subformats, addStartDelay, **keywords)\u001b[0m\n\u001b[1;32m   1068\u001b[0m \u001b[0;34m\u001b[0m\u001b[0m\n\u001b[1;32m   1069\u001b[0m         \u001b[0mmf\u001b[0m \u001b[0;34m=\u001b[0m \u001b[0mmidiTranslate\u001b[0m\u001b[0;34m.\u001b[0m\u001b[0mmusic21ObjectToMidiFile\u001b[0m\u001b[0;34m(\u001b[0m\u001b[0mobj\u001b[0m\u001b[0;34m,\u001b[0m \u001b[0maddStartDelay\u001b[0m\u001b[0;34m=\u001b[0m\u001b[0maddStartDelay\u001b[0m\u001b[0;34m)\u001b[0m\u001b[0;34m\u001b[0m\u001b[0;34m\u001b[0m\u001b[0m\n\u001b[0;32m-> 1070\u001b[0;31m         \u001b[0mmf\u001b[0m\u001b[0;34m.\u001b[0m\u001b[0mopen\u001b[0m\u001b[0;34m(\u001b[0m\u001b[0mfp\u001b[0m\u001b[0;34m,\u001b[0m \u001b[0;34m'wb'\u001b[0m\u001b[0;34m)\u001b[0m  \u001b[0;31m# write binary\u001b[0m\u001b[0;34m\u001b[0m\u001b[0;34m\u001b[0m\u001b[0m\n\u001b[0m\u001b[1;32m   1071\u001b[0m         \u001b[0mmf\u001b[0m\u001b[0;34m.\u001b[0m\u001b[0mwrite\u001b[0m\u001b[0;34m(\u001b[0m\u001b[0;34m)\u001b[0m\u001b[0;34m\u001b[0m\u001b[0;34m\u001b[0m\u001b[0m\n\u001b[1;32m   1072\u001b[0m         \u001b[0mmf\u001b[0m\u001b[0;34m.\u001b[0m\u001b[0mclose\u001b[0m\u001b[0;34m(\u001b[0m\u001b[0;34m)\u001b[0m\u001b[0;34m\u001b[0m\u001b[0;34m\u001b[0m\u001b[0m\n",
            "\u001b[0;32m/usr/local/lib/python3.10/dist-packages/music21/midi/__init__.py\u001b[0m in \u001b[0;36mopen\u001b[0;34m(self, filename, attrib)\u001b[0m\n\u001b[1;32m   1546\u001b[0m             \u001b[0;32mraise\u001b[0m \u001b[0mMidiException\u001b[0m\u001b[0;34m(\u001b[0m\u001b[0;34m'cannot read or write unless in binary mode, not:'\u001b[0m\u001b[0;34m,\u001b[0m \u001b[0mattrib\u001b[0m\u001b[0;34m)\u001b[0m\u001b[0;34m\u001b[0m\u001b[0;34m\u001b[0m\u001b[0m\n\u001b[1;32m   1547\u001b[0m         \u001b[0;31m# pylint: disable-next=consider-using-with, unspecified-encoding\u001b[0m\u001b[0;34m\u001b[0m\u001b[0;34m\u001b[0m\u001b[0m\n\u001b[0;32m-> 1548\u001b[0;31m         \u001b[0mself\u001b[0m\u001b[0;34m.\u001b[0m\u001b[0mfile\u001b[0m \u001b[0;34m=\u001b[0m \u001b[0mopen\u001b[0m\u001b[0;34m(\u001b[0m\u001b[0mfilename\u001b[0m\u001b[0;34m,\u001b[0m \u001b[0mattrib\u001b[0m\u001b[0;34m)\u001b[0m\u001b[0;34m\u001b[0m\u001b[0;34m\u001b[0m\u001b[0m\n\u001b[0m\u001b[1;32m   1549\u001b[0m \u001b[0;34m\u001b[0m\u001b[0m\n\u001b[1;32m   1550\u001b[0m     \u001b[0;32mdef\u001b[0m \u001b[0mopenFileLike\u001b[0m\u001b[0;34m(\u001b[0m\u001b[0mself\u001b[0m\u001b[0;34m,\u001b[0m \u001b[0mfileLike\u001b[0m\u001b[0;34m)\u001b[0m\u001b[0;34m:\u001b[0m\u001b[0;34m\u001b[0m\u001b[0;34m\u001b[0m\u001b[0m\n",
            "\u001b[0;31mFileNotFoundError\u001b[0m: [Errno 2] No such file or directory: '/content/output/output-0000.mid'"
          ]
        }
      ]
    },
    {
      "cell_type": "code",
      "source": [
        "# Save the final model\n",
        "model.save(\"/content/model\")"
      ],
      "metadata": {
        "id": "OGdag34BUqvZ"
      },
      "execution_count": null,
      "outputs": []
    },
    {
      "cell_type": "markdown",
      "source": [
        "#Generate Music Using the Transformer"
      ],
      "metadata": {
        "id": "TALC89nLUrvs"
      }
    },
    {
      "cell_type": "code",
      "source": [
        "info = music_generator.generate(\n",
        "    [\"START\"], [\"0.0\"], max_tokens=50, temperature=0.5\n",
        ")\n",
        "midi_stream = info[-1][\"midi\"].chordify()\n",
        "#midi_stream.show()"
      ],
      "metadata": {
        "id": "YeVL8oZLUvbH"
      },
      "execution_count": null,
      "outputs": []
    },
    {
      "cell_type": "markdown",
      "source": [
        "Write Music to Midi File"
      ],
      "metadata": {
        "id": "tHFqGWiAUyzi"
      }
    },
    {
      "cell_type": "code",
      "source": [
        "timestr = time.strftime(\"%Y%m%d-%H%M%S\")\n",
        "midi_stream.write(\n",
        "    \"midi\",\n",
        "    fp=os.path.join(\n",
        "        \"/content/transformer_output\",\n",
        "        \"output-\" + timestr + \".mid\",\n",
        "    ),\n",
        ")"
      ],
      "metadata": {
        "id": "aqaZ1OE0U1go"
      },
      "execution_count": null,
      "outputs": []
    },
    {
      "cell_type": "markdown",
      "source": [
        "#Note Probabiltiies"
      ],
      "metadata": {
        "id": "b2wjMMR4U-aC"
      }
    },
    {
      "cell_type": "code",
      "source": [
        "max_pitch = 70\n",
        "seq_len = len(info)\n",
        "grid = np.zeros((max_pitch, seq_len), dtype=np.float32)\n",
        "\n",
        "for j in range(seq_len):\n",
        "    for i, prob in enumerate(info[j][\"note_probs\"]):\n",
        "        try:\n",
        "            pitch = music21.note.Note(notes_vocab[i]).pitch.midi\n",
        "            grid[pitch, j] = prob\n",
        "        except:\n",
        "            pass  # Don't show key / time signatures"
      ],
      "metadata": {
        "id": "TdlgZFAMU70-"
      },
      "execution_count": null,
      "outputs": []
    },
    {
      "cell_type": "code",
      "source": [
        "fig, ax = plt.subplots(figsize=(8, 8))\n",
        "ax.set_yticks([int(j) for j in range(35, 70)])\n",
        "plt.imshow(\n",
        "    grid[35:70, :],\n",
        "    origin=\"lower\",\n",
        "    cmap=\"coolwarm\",\n",
        "    vmin=-0.5,\n",
        "    vmax=0.5,\n",
        "    extent=[0, seq_len, 35, 70],\n",
        ")\n",
        "plt.show()"
      ],
      "metadata": {
        "id": "SEwYGpKBVChx"
      },
      "execution_count": null,
      "outputs": []
    },
    {
      "cell_type": "markdown",
      "source": [
        "#Attention Plot"
      ],
      "metadata": {
        "id": "OcuGcAdNVDRi"
      }
    },
    {
      "cell_type": "code",
      "source": [
        "plot_size = 20\n",
        "\n",
        "att_matrix = np.zeros((plot_size, plot_size))\n",
        "prediction_output = []\n",
        "last_prompt = []"
      ],
      "metadata": {
        "id": "5SLumOhEVEPO"
      },
      "execution_count": null,
      "outputs": []
    },
    {
      "cell_type": "code",
      "source": [
        "for j in range(plot_size):\n",
        "    atts = info[j][\"atts\"].max(axis=0)\n",
        "    att_matrix[: (j + 1), j] = atts\n",
        "    prediction_output.append(info[j][\"chosen_note\"][0])\n",
        "    last_prompt.append(info[j][\"prompt\"][0][-1])"
      ],
      "metadata": {
        "id": "kTVPmomTVGTk"
      },
      "execution_count": null,
      "outputs": []
    },
    {
      "cell_type": "code",
      "source": [
        "fig, ax = plt.subplots(figsize=(8, 8))\n",
        "im = ax.imshow(att_matrix, cmap=\"Greens\", interpolation=\"nearest\")\n",
        "\n",
        "ax.set_xticks(np.arange(-0.5, plot_size, 1), minor=True)\n",
        "ax.set_yticks(np.arange(-0.5, plot_size, 1), minor=True)\n",
        "ax.grid(which=\"minor\", color=\"black\", linestyle=\"-\", linewidth=1)\n",
        "ax.set_xticks(np.arange(plot_size))\n",
        "ax.set_yticks(np.arange(plot_size))\n",
        "ax.set_xticklabels(prediction_output[:plot_size])\n",
        "ax.set_yticklabels(last_prompt[:plot_size])\n",
        "ax.xaxis.tick_top()\n",
        "\n",
        "plt.setp(\n",
        "    ax.get_xticklabels(),\n",
        "    rotation=90,\n",
        "    ha=\"left\",\n",
        "    va=\"center\",\n",
        "    rotation_mode=\"anchor\",\n",
        ")\n",
        "plt.show()\n"
      ],
      "metadata": {
        "id": "wX2i4EsPVIES"
      },
      "execution_count": null,
      "outputs": []
    },
    {
      "cell_type": "code",
      "source": [
        "from google.colab import files\n",
        "import shutil\n",
        "\n",
        "shutil.make_archive(\"/content/model\", 'zip', \"my_folder\")\n",
        "shutil.make_archive(\"/content/output\", 'zip', \"my_folder\")\n",
        "shutil.make_archive(\"/content/transformer_output\", 'zip', \"my_folder\")\n",
        "shutil.make_archive(\"/content/data\", 'zip', \"my_folder\")\n"
      ],
      "metadata": {
        "id": "p0mg65W6VK-0"
      },
      "execution_count": null,
      "outputs": []
    },
    {
      "cell_type": "code",
      "source": [
        "from google.colab import drive\n",
        "drive.mount('/content/drive')"
      ],
      "metadata": {
        "id": "LK0hPG81VNcv"
      },
      "execution_count": null,
      "outputs": []
    },
    {
      "cell_type": "code",
      "source": [
        "# Saving the model and its data on the Google drive\n",
        "\n",
        "!cp -r /content/data /content/drive/MyDrive/GenAI\n",
        "!cp -r /content/model /content/drive/MyDrive/GenAI\n",
        "!cp -r /content/output /content/drive/MyDrive/GenAI\n",
        "!cp -r /content/transformer_output /content/drive/MyDrive/GenAI"
      ],
      "metadata": {
        "id": "UrE3iozXVO85"
      },
      "execution_count": null,
      "outputs": []
    }
  ]
}